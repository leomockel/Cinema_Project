{
 "cells": [
  {
   "cell_type": "code",
   "execution_count": 3,
   "metadata": {},
   "outputs": [],
   "source": [
    "import requests, csv\n",
    "from bs4 import BeautifulSoup\n",
    "import re\n",
    "import pandas as pd\n",
    "import tqdm\n",
    "import numpy as np\n",
    "from collections import OrderedDict\n",
    "from datetime import datetime, date"
   ]
  },
  {
   "cell_type": "code",
   "execution_count": 11,
   "metadata": {},
   "outputs": [],
   "source": [
    "def movie_query(query, date_min = 1900, date_max = int(date.today().year)):\n",
    "    \n",
    "    # dictionary of characters to change in URL\n",
    "    char_dict = {\"!\": \"%21\", \"#\": \"%23\", \"$\": \"%24\", \"&\": \"%26\", \"'\": \"%27\", \"(\": \"%28\", \")\": \"%29\", \"*\": \"%2A\", \\\n",
    "             \"+\": \"%2B\", \",\": \"%2C\", \"/\": \"%2F\", \":\": \"%3A\", \";\": \"%3B\", \"=\": \"%3D\", \"?\": \"%3F\", \"@\": \"%40\", \\\n",
    "             \"[\": \"%5B\", \"]\": \"%5D\", \" \": \"+\"}\n",
    "    \n",
    "    query = query.strip()\n",
    "    if \" !\" in query:\n",
    "        query = query.replace(\" !\", \"!\") \n",
    "    elif \" ?\" in query:\n",
    "        query = query.replace(\" ?\", \"?\")\n",
    "    elif \" :\" in query:\n",
    "        query = query.replace(\" :\", \":\")\n",
    "    elif \"’\" in query:\n",
    "        query = query.replace(\"’\", \"'\")\n",
    "        \n",
    "    modif_query = [char_dict[i] if i in char_dict.keys() else i for i in query]\n",
    "    modif_query = \"\".join(modif_query)\n",
    "    \n",
    "    r = requests.get(\"https://www.imdb.com/find?q=\"+modif_query)\n",
    "    bs = BeautifulSoup(r.text)\n",
    "\n",
    "    titles = bs.find_all('td', {'class': 'result_text'})\n",
    "\n",
    "    clean_titles= []\n",
    "    dates = []\n",
    "    try :\n",
    "        for i in range(len(titles)) : \n",
    "            clean_titles.append(str(titles[i]).split('/\">')[1].split('</a>')[0])\n",
    "            if \"(TV Episode)\" in str(titles[i]):\n",
    "                dates.append(1492)\n",
    "            elif \"(TV Series)\" in str(titles[i]):\n",
    "                dates.append(1492)\n",
    "            elif \"I)\" in str(titles[i]):\n",
    "                dates.append(str(titles[i]).split('I) (')[1].split(')')[0])\n",
    "            elif \"(IV)\" in str(titles[i]):\n",
    "                dates.append(str(titles[i]).split('(IV) (')[1].split(')')[0])\n",
    "            elif \"(V)\" in str(titles[i]):\n",
    "                dates.append(str(titles[i]).split('(V) (')[1].split(')')[0])\n",
    "            elif \"(in development)\" in str(titles[i]):\n",
    "                dates.append(date_max+1)\n",
    "            else :\n",
    "                dates.append(str(titles[i]).split('</a> (')[1].split(')')[0])\n",
    "    except IndexError:\n",
    "        clean_titles.append(\"no_title\")\n",
    "        dates.append(1492)\n",
    "    \n",
    "    range_date = range(int(date_min), int(date_max)+1)\n",
    "    ids = [str(titles[i]).split('href=\"/title/')[1].split('/\">')[0] for i in range(len(clean_titles)) \\\n",
    "        if clean_titles[i].lower() == query.lower() and int(dates[i]) in range_date]\n",
    "        \n",
    "    if len(ids) == 0 :\n",
    "        imdb_id = \"\"    \n",
    "    else :\n",
    "        imdb_id = \", \".join(ids)\n",
    "    \n",
    "    return query, imdb_id"
   ]
  },
  {
   "cell_type": "code",
   "execution_count": 5,
   "metadata": {},
   "outputs": [],
   "source": [
    "df = pd.read_csv(\"feb_movies.csv\")"
   ]
  },
  {
   "cell_type": "code",
   "execution_count": 6,
   "metadata": {},
   "outputs": [],
   "source": [
    "queries = list(df.title.values)"
   ]
  },
  {
   "cell_type": "code",
   "execution_count": 7,
   "metadata": {
    "scrolled": true
   },
   "outputs": [
    {
     "data": {
      "text/plain": [
       "['After Blue (Paradis sale)',\n",
       " 'Un autre monde',\n",
       " 'Maison de Retraite',\n",
       " 'La Vraie famille',\n",
       " 'Uncharted',\n",
       " 'The Power',\n",
       " 'Nous',\n",
       " 'Hopper et le hamster des ténèbres',\n",
       " 'Piccolo corpo',\n",
       " 'King',\n",
       " 'La Jungle est mon jardin',\n",
       " 'La Mouette et le chat',\n",
       " 'Les Affluents',\n",
       " 'Media Crash - qui a tué le débat public ?',\n",
       " 'Tueurs de dames',\n",
       " 'La Nuit des femmes',\n",
       " 'Maternité éternelle',\n",
       " \"La Lune s'est levée\",\n",
       " 'Mademoiselle Ogin',\n",
       " 'La Princesse errante',\n",
       " \"Lettre d'amour\",\n",
       " 'Aaraattu',\n",
       " 'Maigret',\n",
       " 'Compagnons',\n",
       " 'Ils sont vivants',\n",
       " 'Le Chêne',\n",
       " 'Selon La Police',\n",
       " 'La Légende du roi crabe',\n",
       " 'Les Poings desserrés',\n",
       " 'Zaï Zaï Zaï Zaï',\n",
       " 'Blacklight',\n",
       " 'Le Parrain',\n",
       " 'A nos enfants',\n",
       " 'Sous le ciel de Koutaïssi',\n",
       " 'Un peuple',\n",
       " 'Valimai',\n",
       " 'Visages de femmes',\n",
       " 'Pas pareil et pourtant',\n",
       " 'La Nature',\n",
       " \"Les Graines que l'on sème\",\n",
       " 'Une blonde émoustillante',\n",
       " 'Trains étroitement surveillés',\n",
       " 'Alouettes, le fil à la patte',\n",
       " 'Cluny Brown (La Folle ingénue)']"
      ]
     },
     "execution_count": 7,
     "metadata": {},
     "output_type": "execute_result"
    }
   ],
   "source": [
    "queries"
   ]
  },
  {
   "cell_type": "code",
   "execution_count": 12,
   "metadata": {},
   "outputs": [],
   "source": [
    "ids = []"
   ]
  },
  {
   "cell_type": "code",
   "execution_count": 13,
   "metadata": {
    "scrolled": true
   },
   "outputs": [],
   "source": [
    "for movie in (queries[:23]):\n",
    "    ids.append(movie_query(movie, 2019, 2022))"
   ]
  },
  {
   "cell_type": "code",
   "execution_count": 14,
   "metadata": {},
   "outputs": [
    {
     "data": {
      "text/plain": [
       "[('After Blue (Paradis sale)', 'tt10243676'),\n",
       " ('Un autre monde', 'tt15115102, tt9784586, tt13900840'),\n",
       " ('Maison de Retraite', 'tt12847680'),\n",
       " ('La Vraie famille', 'tt13282344'),\n",
       " ('Uncharted', 'tt1464335'),\n",
       " ('The Power', 'tt9314984'),\n",
       " ('Nous', 'tt14038600'),\n",
       " ('Hopper et le hamster des ténèbres', 'tt12532368'),\n",
       " ('Piccolo corpo', 'tt13926310'),\n",
       " ('King', 'tt14073780'),\n",
       " ('La Jungle est mon jardin', 'tt17093164'),\n",
       " ('La Mouette et le chat', ''),\n",
       " ('Les Affluents', 'tt12474932'),\n",
       " ('Media Crash - qui a tué le débat public?', ''),\n",
       " ('Tueurs de dames', ''),\n",
       " ('La Nuit des femmes', ''),\n",
       " ('Maternité éternelle', ''),\n",
       " (\"La Lune s'est levée\", ''),\n",
       " ('Mademoiselle Ogin', ''),\n",
       " ('La Princesse errante', ''),\n",
       " (\"Lettre d'amour\", ''),\n",
       " ('Aaraattu', 'tt13468976'),\n",
       " ('Maigret', '')]"
      ]
     },
     "execution_count": 14,
     "metadata": {},
     "output_type": "execute_result"
    }
   ],
   "source": [
    "ids"
   ]
  },
  {
   "cell_type": "code",
   "execution_count": 15,
   "metadata": {
    "scrolled": false
   },
   "outputs": [],
   "source": [
    "tot_df = pd.DataFrame(ids[:22], columns=[\"title\", 'imdb'])"
   ]
  },
  {
   "cell_type": "code",
   "execution_count": 16,
   "metadata": {},
   "outputs": [
    {
     "data": {
      "text/html": [
       "<div>\n",
       "<style scoped>\n",
       "    .dataframe tbody tr th:only-of-type {\n",
       "        vertical-align: middle;\n",
       "    }\n",
       "\n",
       "    .dataframe tbody tr th {\n",
       "        vertical-align: top;\n",
       "    }\n",
       "\n",
       "    .dataframe thead th {\n",
       "        text-align: right;\n",
       "    }\n",
       "</style>\n",
       "<table border=\"1\" class=\"dataframe\">\n",
       "  <thead>\n",
       "    <tr style=\"text-align: right;\">\n",
       "      <th></th>\n",
       "      <th>title</th>\n",
       "      <th>imdb</th>\n",
       "    </tr>\n",
       "  </thead>\n",
       "  <tbody>\n",
       "    <tr>\n",
       "      <th>0</th>\n",
       "      <td>After Blue (Paradis sale)</td>\n",
       "      <td>tt10243676</td>\n",
       "    </tr>\n",
       "    <tr>\n",
       "      <th>1</th>\n",
       "      <td>Un autre monde</td>\n",
       "      <td>tt15115102, tt9784586, tt13900840</td>\n",
       "    </tr>\n",
       "    <tr>\n",
       "      <th>2</th>\n",
       "      <td>Maison de Retraite</td>\n",
       "      <td>tt12847680</td>\n",
       "    </tr>\n",
       "    <tr>\n",
       "      <th>3</th>\n",
       "      <td>La Vraie famille</td>\n",
       "      <td>tt13282344</td>\n",
       "    </tr>\n",
       "    <tr>\n",
       "      <th>4</th>\n",
       "      <td>Uncharted</td>\n",
       "      <td>tt1464335</td>\n",
       "    </tr>\n",
       "    <tr>\n",
       "      <th>5</th>\n",
       "      <td>The Power</td>\n",
       "      <td>tt9314984</td>\n",
       "    </tr>\n",
       "    <tr>\n",
       "      <th>6</th>\n",
       "      <td>Nous</td>\n",
       "      <td>tt14038600</td>\n",
       "    </tr>\n",
       "    <tr>\n",
       "      <th>7</th>\n",
       "      <td>Hopper et le hamster des ténèbres</td>\n",
       "      <td>tt12532368</td>\n",
       "    </tr>\n",
       "    <tr>\n",
       "      <th>8</th>\n",
       "      <td>Piccolo corpo</td>\n",
       "      <td>tt13926310</td>\n",
       "    </tr>\n",
       "    <tr>\n",
       "      <th>9</th>\n",
       "      <td>King</td>\n",
       "      <td>tt14073780</td>\n",
       "    </tr>\n",
       "    <tr>\n",
       "      <th>10</th>\n",
       "      <td>La Jungle est mon jardin</td>\n",
       "      <td>tt17093164</td>\n",
       "    </tr>\n",
       "    <tr>\n",
       "      <th>11</th>\n",
       "      <td>La Mouette et le chat</td>\n",
       "      <td></td>\n",
       "    </tr>\n",
       "    <tr>\n",
       "      <th>12</th>\n",
       "      <td>Les Affluents</td>\n",
       "      <td>tt12474932</td>\n",
       "    </tr>\n",
       "    <tr>\n",
       "      <th>13</th>\n",
       "      <td>Media Crash - qui a tué le débat public?</td>\n",
       "      <td></td>\n",
       "    </tr>\n",
       "    <tr>\n",
       "      <th>14</th>\n",
       "      <td>Tueurs de dames</td>\n",
       "      <td></td>\n",
       "    </tr>\n",
       "    <tr>\n",
       "      <th>15</th>\n",
       "      <td>La Nuit des femmes</td>\n",
       "      <td></td>\n",
       "    </tr>\n",
       "    <tr>\n",
       "      <th>16</th>\n",
       "      <td>Maternité éternelle</td>\n",
       "      <td></td>\n",
       "    </tr>\n",
       "    <tr>\n",
       "      <th>17</th>\n",
       "      <td>La Lune s'est levée</td>\n",
       "      <td></td>\n",
       "    </tr>\n",
       "    <tr>\n",
       "      <th>18</th>\n",
       "      <td>Mademoiselle Ogin</td>\n",
       "      <td></td>\n",
       "    </tr>\n",
       "    <tr>\n",
       "      <th>19</th>\n",
       "      <td>La Princesse errante</td>\n",
       "      <td></td>\n",
       "    </tr>\n",
       "    <tr>\n",
       "      <th>20</th>\n",
       "      <td>Lettre d'amour</td>\n",
       "      <td></td>\n",
       "    </tr>\n",
       "    <tr>\n",
       "      <th>21</th>\n",
       "      <td>Aaraattu</td>\n",
       "      <td>tt13468976</td>\n",
       "    </tr>\n",
       "  </tbody>\n",
       "</table>\n",
       "</div>"
      ],
      "text/plain": [
       "                                       title  \\\n",
       "0                  After Blue (Paradis sale)   \n",
       "1                             Un autre monde   \n",
       "2                         Maison de Retraite   \n",
       "3                           La Vraie famille   \n",
       "4                                  Uncharted   \n",
       "5                                  The Power   \n",
       "6                                       Nous   \n",
       "7          Hopper et le hamster des ténèbres   \n",
       "8                              Piccolo corpo   \n",
       "9                                       King   \n",
       "10                  La Jungle est mon jardin   \n",
       "11                     La Mouette et le chat   \n",
       "12                             Les Affluents   \n",
       "13  Media Crash - qui a tué le débat public?   \n",
       "14                           Tueurs de dames   \n",
       "15                        La Nuit des femmes   \n",
       "16                       Maternité éternelle   \n",
       "17                       La Lune s'est levée   \n",
       "18                         Mademoiselle Ogin   \n",
       "19                      La Princesse errante   \n",
       "20                            Lettre d'amour   \n",
       "21                                  Aaraattu   \n",
       "\n",
       "                                 imdb  \n",
       "0                          tt10243676  \n",
       "1   tt15115102, tt9784586, tt13900840  \n",
       "2                          tt12847680  \n",
       "3                          tt13282344  \n",
       "4                           tt1464335  \n",
       "5                           tt9314984  \n",
       "6                          tt14038600  \n",
       "7                          tt12532368  \n",
       "8                          tt13926310  \n",
       "9                          tt14073780  \n",
       "10                         tt17093164  \n",
       "11                                     \n",
       "12                         tt12474932  \n",
       "13                                     \n",
       "14                                     \n",
       "15                                     \n",
       "16                                     \n",
       "17                                     \n",
       "18                                     \n",
       "19                                     \n",
       "20                                     \n",
       "21                         tt13468976  "
      ]
     },
     "execution_count": 16,
     "metadata": {},
     "output_type": "execute_result"
    }
   ],
   "source": [
    "tot_df"
   ]
  },
  {
   "cell_type": "code",
   "execution_count": 17,
   "metadata": {
    "scrolled": true
   },
   "outputs": [],
   "source": [
    "filter_1 = tot_df[\"imdb\"] == \"\"\n",
    "filter_2 = tot_df[\"imdb\"] != \"\""
   ]
  },
  {
   "cell_type": "code",
   "execution_count": 18,
   "metadata": {},
   "outputs": [
    {
     "name": "stderr",
     "output_type": "stream",
     "text": [
      "/home/leo/.pyenv/versions/3.7.6/lib/python3.7/site-packages/ipykernel_launcher.py:1: FutureWarning: In a future version of pandas all arguments of DataFrame.drop except for the argument 'labels' will be keyword-only\n",
      "  \"\"\"Entry point for launching an IPython kernel.\n"
     ]
    }
   ],
   "source": [
    "no_id_df = tot_df[filter_1].drop(\"imdb\", 1).set_index(\"title\")"
   ]
  },
  {
   "cell_type": "code",
   "execution_count": 19,
   "metadata": {},
   "outputs": [],
   "source": [
    "multiple_id = tot_df[tot_df[\"imdb\"].str.contains(\", tt\")].set_index(\"title\")"
   ]
  },
  {
   "cell_type": "code",
   "execution_count": 20,
   "metadata": {
    "scrolled": true
   },
   "outputs": [
    {
     "name": "stderr",
     "output_type": "stream",
     "text": [
      "/home/leo/.pyenv/versions/3.7.6/lib/python3.7/site-packages/ipykernel_launcher.py:1: UserWarning: Boolean Series key will be reindexed to match DataFrame index.\n",
      "  \"\"\"Entry point for launching an IPython kernel.\n"
     ]
    }
   ],
   "source": [
    "scrap_df = tot_df[filter_2][-tot_df[\"imdb\"].str.contains(\", tt\")].set_index(\"title\")"
   ]
  },
  {
   "cell_type": "code",
   "execution_count": 21,
   "metadata": {},
   "outputs": [
    {
     "data": {
      "text/html": [
       "<div>\n",
       "<style scoped>\n",
       "    .dataframe tbody tr th:only-of-type {\n",
       "        vertical-align: middle;\n",
       "    }\n",
       "\n",
       "    .dataframe tbody tr th {\n",
       "        vertical-align: top;\n",
       "    }\n",
       "\n",
       "    .dataframe thead th {\n",
       "        text-align: right;\n",
       "    }\n",
       "</style>\n",
       "<table border=\"1\" class=\"dataframe\">\n",
       "  <thead>\n",
       "    <tr style=\"text-align: right;\">\n",
       "      <th></th>\n",
       "    </tr>\n",
       "    <tr>\n",
       "      <th>title</th>\n",
       "    </tr>\n",
       "  </thead>\n",
       "  <tbody>\n",
       "    <tr>\n",
       "      <th>La Mouette et le chat</th>\n",
       "    </tr>\n",
       "    <tr>\n",
       "      <th>Media Crash - qui a tué le débat public?</th>\n",
       "    </tr>\n",
       "    <tr>\n",
       "      <th>Tueurs de dames</th>\n",
       "    </tr>\n",
       "    <tr>\n",
       "      <th>La Nuit des femmes</th>\n",
       "    </tr>\n",
       "    <tr>\n",
       "      <th>Maternité éternelle</th>\n",
       "    </tr>\n",
       "    <tr>\n",
       "      <th>La Lune s'est levée</th>\n",
       "    </tr>\n",
       "    <tr>\n",
       "      <th>Mademoiselle Ogin</th>\n",
       "    </tr>\n",
       "    <tr>\n",
       "      <th>La Princesse errante</th>\n",
       "    </tr>\n",
       "    <tr>\n",
       "      <th>Lettre d'amour</th>\n",
       "    </tr>\n",
       "  </tbody>\n",
       "</table>\n",
       "</div>"
      ],
      "text/plain": [
       "Empty DataFrame\n",
       "Columns: []\n",
       "Index: [La Mouette et le chat, Media Crash - qui a tué le débat public?, Tueurs de dames, La Nuit des femmes, Maternité éternelle, La Lune s'est levée, Mademoiselle Ogin, La Princesse errante, Lettre d'amour]"
      ]
     },
     "execution_count": 21,
     "metadata": {},
     "output_type": "execute_result"
    }
   ],
   "source": [
    "no_id_df"
   ]
  },
  {
   "cell_type": "code",
   "execution_count": 22,
   "metadata": {},
   "outputs": [
    {
     "data": {
      "text/html": [
       "<div>\n",
       "<style scoped>\n",
       "    .dataframe tbody tr th:only-of-type {\n",
       "        vertical-align: middle;\n",
       "    }\n",
       "\n",
       "    .dataframe tbody tr th {\n",
       "        vertical-align: top;\n",
       "    }\n",
       "\n",
       "    .dataframe thead th {\n",
       "        text-align: right;\n",
       "    }\n",
       "</style>\n",
       "<table border=\"1\" class=\"dataframe\">\n",
       "  <thead>\n",
       "    <tr style=\"text-align: right;\">\n",
       "      <th></th>\n",
       "      <th>imdb</th>\n",
       "    </tr>\n",
       "    <tr>\n",
       "      <th>title</th>\n",
       "      <th></th>\n",
       "    </tr>\n",
       "  </thead>\n",
       "  <tbody>\n",
       "    <tr>\n",
       "      <th>Un autre monde</th>\n",
       "      <td>tt15115102, tt9784586, tt13900840</td>\n",
       "    </tr>\n",
       "  </tbody>\n",
       "</table>\n",
       "</div>"
      ],
      "text/plain": [
       "                                             imdb\n",
       "title                                            \n",
       "Un autre monde  tt15115102, tt9784586, tt13900840"
      ]
     },
     "execution_count": 22,
     "metadata": {},
     "output_type": "execute_result"
    }
   ],
   "source": [
    "multiple_id"
   ]
  },
  {
   "cell_type": "code",
   "execution_count": 23,
   "metadata": {},
   "outputs": [
    {
     "data": {
      "text/html": [
       "<div>\n",
       "<style scoped>\n",
       "    .dataframe tbody tr th:only-of-type {\n",
       "        vertical-align: middle;\n",
       "    }\n",
       "\n",
       "    .dataframe tbody tr th {\n",
       "        vertical-align: top;\n",
       "    }\n",
       "\n",
       "    .dataframe thead th {\n",
       "        text-align: right;\n",
       "    }\n",
       "</style>\n",
       "<table border=\"1\" class=\"dataframe\">\n",
       "  <thead>\n",
       "    <tr style=\"text-align: right;\">\n",
       "      <th></th>\n",
       "      <th>imdb</th>\n",
       "    </tr>\n",
       "    <tr>\n",
       "      <th>title</th>\n",
       "      <th></th>\n",
       "    </tr>\n",
       "  </thead>\n",
       "  <tbody>\n",
       "    <tr>\n",
       "      <th>After Blue (Paradis sale)</th>\n",
       "      <td>tt10243676</td>\n",
       "    </tr>\n",
       "    <tr>\n",
       "      <th>Maison de Retraite</th>\n",
       "      <td>tt12847680</td>\n",
       "    </tr>\n",
       "    <tr>\n",
       "      <th>La Vraie famille</th>\n",
       "      <td>tt13282344</td>\n",
       "    </tr>\n",
       "    <tr>\n",
       "      <th>Uncharted</th>\n",
       "      <td>tt1464335</td>\n",
       "    </tr>\n",
       "    <tr>\n",
       "      <th>The Power</th>\n",
       "      <td>tt9314984</td>\n",
       "    </tr>\n",
       "    <tr>\n",
       "      <th>Nous</th>\n",
       "      <td>tt14038600</td>\n",
       "    </tr>\n",
       "    <tr>\n",
       "      <th>Hopper et le hamster des ténèbres</th>\n",
       "      <td>tt12532368</td>\n",
       "    </tr>\n",
       "    <tr>\n",
       "      <th>Piccolo corpo</th>\n",
       "      <td>tt13926310</td>\n",
       "    </tr>\n",
       "    <tr>\n",
       "      <th>King</th>\n",
       "      <td>tt14073780</td>\n",
       "    </tr>\n",
       "    <tr>\n",
       "      <th>La Jungle est mon jardin</th>\n",
       "      <td>tt17093164</td>\n",
       "    </tr>\n",
       "    <tr>\n",
       "      <th>Les Affluents</th>\n",
       "      <td>tt12474932</td>\n",
       "    </tr>\n",
       "    <tr>\n",
       "      <th>Aaraattu</th>\n",
       "      <td>tt13468976</td>\n",
       "    </tr>\n",
       "  </tbody>\n",
       "</table>\n",
       "</div>"
      ],
      "text/plain": [
       "                                         imdb\n",
       "title                                        \n",
       "After Blue (Paradis sale)          tt10243676\n",
       "Maison de Retraite                 tt12847680\n",
       "La Vraie famille                   tt13282344\n",
       "Uncharted                           tt1464335\n",
       "The Power                           tt9314984\n",
       "Nous                               tt14038600\n",
       "Hopper et le hamster des ténèbres  tt12532368\n",
       "Piccolo corpo                      tt13926310\n",
       "King                               tt14073780\n",
       "La Jungle est mon jardin           tt17093164\n",
       "Les Affluents                      tt12474932\n",
       "Aaraattu                           tt13468976"
      ]
     },
     "execution_count": 23,
     "metadata": {},
     "output_type": "execute_result"
    }
   ],
   "source": [
    "scrap_df"
   ]
  },
  {
   "cell_type": "code",
   "execution_count": 24,
   "metadata": {},
   "outputs": [],
   "source": [
    "good = pd.read_csv(\"scrap_it.csv\").set_index(\"title\")"
   ]
  },
  {
   "cell_type": "code",
   "execution_count": 25,
   "metadata": {},
   "outputs": [
    {
     "data": {
      "text/html": [
       "<div>\n",
       "<style scoped>\n",
       "    .dataframe tbody tr th:only-of-type {\n",
       "        vertical-align: middle;\n",
       "    }\n",
       "\n",
       "    .dataframe tbody tr th {\n",
       "        vertical-align: top;\n",
       "    }\n",
       "\n",
       "    .dataframe thead th {\n",
       "        text-align: right;\n",
       "    }\n",
       "</style>\n",
       "<table border=\"1\" class=\"dataframe\">\n",
       "  <thead>\n",
       "    <tr style=\"text-align: right;\">\n",
       "      <th></th>\n",
       "      <th>imdb</th>\n",
       "    </tr>\n",
       "    <tr>\n",
       "      <th>title</th>\n",
       "      <th></th>\n",
       "    </tr>\n",
       "  </thead>\n",
       "  <tbody>\n",
       "    <tr>\n",
       "      <th>Vengeance aux poings</th>\n",
       "      <td>tt14158554</td>\n",
       "    </tr>\n",
       "  </tbody>\n",
       "</table>\n",
       "</div>"
      ],
      "text/plain": [
       "                            imdb\n",
       "title                           \n",
       "Vengeance aux poings  tt14158554"
      ]
     },
     "execution_count": 25,
     "metadata": {},
     "output_type": "execute_result"
    }
   ],
   "source": [
    "good"
   ]
  },
  {
   "cell_type": "code",
   "execution_count": 26,
   "metadata": {},
   "outputs": [],
   "source": [
    "scrap_df = pd.concat([good, scrap_df])"
   ]
  },
  {
   "cell_type": "code",
   "execution_count": 27,
   "metadata": {},
   "outputs": [],
   "source": [
    "scrap_df.to_csv(\"scrap_it.csv\")"
   ]
  },
  {
   "cell_type": "code",
   "execution_count": 28,
   "metadata": {},
   "outputs": [],
   "source": [
    "nope = pd.read_csv(\"future_scrap.csv\").set_index(\"title\")"
   ]
  },
  {
   "cell_type": "code",
   "execution_count": 29,
   "metadata": {},
   "outputs": [],
   "source": [
    "no_id_df = pd.concat([nope, no_id_df])"
   ]
  },
  {
   "cell_type": "code",
   "execution_count": 30,
   "metadata": {},
   "outputs": [],
   "source": [
    "no_id_df.to_csv(\"future_scrap.csv\")"
   ]
  },
  {
   "cell_type": "code",
   "execution_count": 31,
   "metadata": {},
   "outputs": [],
   "source": [
    "bad = pd.read_csv(\"multiple_id.csv\").set_index(\"title\")"
   ]
  },
  {
   "cell_type": "code",
   "execution_count": 32,
   "metadata": {},
   "outputs": [],
   "source": [
    "multiple_id = pd.concat([bad, multiple_id])"
   ]
  },
  {
   "cell_type": "code",
   "execution_count": 33,
   "metadata": {},
   "outputs": [],
   "source": [
    "multiple_id.to_csv(\"multiple_id.csv\")"
   ]
  },
  {
   "cell_type": "code",
   "execution_count": null,
   "metadata": {},
   "outputs": [],
   "source": []
  }
 ],
 "metadata": {
  "kernelspec": {
   "display_name": "Python 3 (ipykernel)",
   "language": "python",
   "name": "python3"
  },
  "language_info": {
   "codemirror_mode": {
    "name": "ipython",
    "version": 3
   },
   "file_extension": ".py",
   "mimetype": "text/x-python",
   "name": "python",
   "nbconvert_exporter": "python",
   "pygments_lexer": "ipython3",
   "version": "3.7.6"
  }
 },
 "nbformat": 4,
 "nbformat_minor": 4
}
