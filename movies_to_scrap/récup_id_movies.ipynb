{
 "cells": [
  {
   "cell_type": "code",
   "execution_count": 1,
   "metadata": {},
   "outputs": [],
   "source": [
    "import requests, csv\n",
    "from bs4 import BeautifulSoup\n",
    "import re\n",
    "import pandas as pd\n",
    "import tqdm\n",
    "import numpy as np\n",
    "from collections import OrderedDict\n",
    "from datetime import datetime, date"
   ]
  },
  {
   "cell_type": "code",
   "execution_count": 2,
   "metadata": {},
   "outputs": [],
   "source": [
    "def movie_query(query, date_min = 1900, date_max = int(date.today().year)):\n",
    "    \n",
    "    # dictionary of characters to change in URL\n",
    "    char_dict = {\"!\": \"%21\", \"#\": \"%23\", \"$\": \"%24\", \"&\": \"%26\", \"'\": \"%27\", \"(\": \"%28\", \")\": \"%29\", \"*\": \"%2A\", \\\n",
    "             \"+\": \"%2B\", \",\": \"%2C\", \"/\": \"%2F\", \":\": \"%3A\", \";\": \"%3B\", \"=\": \"%3D\", \"?\": \"%3F\", \"@\": \"%40\", \\\n",
    "             \"[\": \"%5B\", \"]\": \"%5D\", \" \": \"+\"}\n",
    "    \n",
    "    query = query.strip()\n",
    "    if \" !\" in query:\n",
    "        query = query.replace(\" !\", \"!\") \n",
    "    elif \" ?\" in query:\n",
    "        query = query.replace(\" ?\", \"?\")\n",
    "    elif \" :\" in query:\n",
    "        query = query.replace(\" :\", \":\")\n",
    "    elif \"’\" in query:\n",
    "        query = query.replace(\"’\", \"'\")\n",
    "        \n",
    "    modif_query = [char_dict[i] if i in char_dict.keys() else i for i in query]\n",
    "    modif_query = \"\".join(modif_query)\n",
    "    \n",
    "    r = requests.get(\"https://www.imdb.com/find?q=\"+modif_query)\n",
    "    bs = BeautifulSoup(r.text)\n",
    "\n",
    "    titles = bs.find_all('td', {'class': 'result_text'})\n",
    "\n",
    "    clean_titles= []\n",
    "    dates = []\n",
    "    try :\n",
    "        for i in range(len(titles)) : \n",
    "            clean_titles.append(str(titles[i]).split('/\">')[1].split('</a>')[0])\n",
    "            if \"(TV Episode)\" in str(titles[i]):\n",
    "                dates.append(1492)\n",
    "            elif \"I)\" in str(titles[i]):\n",
    "                dates.append(str(titles[i]).split('I) (')[1].split(')')[0])\n",
    "            elif \"(IV)\" in str(titles[i]):\n",
    "                dates.append(str(titles[i]).split('(IV) (')[1].split(')')[0])\n",
    "            elif \"(V)\" in str(titles[i]):\n",
    "                dates.append(str(titles[i]).split('(V) (')[1].split(')')[0])\n",
    "            elif \"(in development)\" in str(titles[i]):\n",
    "                dates.append(date_max+1)\n",
    "            else :\n",
    "                dates.append(str(titles[i]).split('</a> (')[1].split(')')[0])\n",
    "    except IndexError:\n",
    "        clean_titles.append(\"no_title\")\n",
    "        dates.append(1492)\n",
    "    \n",
    "    range_date = range(int(date_min), int(date_max)+1)\n",
    "    ids = [str(titles[i]).split('href=\"/title/')[1].split('/\">')[0] for i in range(len(clean_titles)) \\\n",
    "        if clean_titles[i].lower() == query.lower() and int(dates[i]) in range_date]\n",
    "        \n",
    "    if len(ids) == 0 :\n",
    "        imdb_id = \"\"    \n",
    "    else :\n",
    "        imdb_id = \", \".join(ids)\n",
    "    \n",
    "    return query, imdb_id"
   ]
  },
  {
   "cell_type": "code",
   "execution_count": 3,
   "metadata": {},
   "outputs": [],
   "source": [
    "df = pd.read_csv(\"jan_movies.csv\")"
   ]
  },
  {
   "cell_type": "code",
   "execution_count": 4,
   "metadata": {},
   "outputs": [],
   "source": [
    "queries = list(df.title.values)"
   ]
  },
  {
   "cell_type": "code",
   "execution_count": 10,
   "metadata": {},
   "outputs": [
    {
     "data": {
      "text/plain": [
       "['En Attendant Bojangles',\n",
       " '355',\n",
       " 'Licorice Pizza',\n",
       " 'Twist À Bamako',\n",
       " 'Mes frères et moi',\n",
       " 'Rosy',\n",
       " 'Luzzu',\n",
       " 'Residue',\n",
       " 'Sword Art Online - Progressive - Aria of a Starless Night',\n",
       " 'Marché noir',\n",
       " \"J'étais à la maison, mais...\",\n",
       " 'Neige',\n",
       " 'Guanzhou, une nouvelle ère',\n",
       " 'Tous les garçons et les filles',\n",
       " 'Traverser',\n",
       " 'Le Messager',\n",
       " \"Une affaire de coeur : La tragédie d'une employée des P.T.T.\",\n",
       " 'RRR',\n",
       " 'Make Me a Man',\n",
       " 'Mai 68 au masculin',\n",
       " \"HK, la plume et l'espoir\",\n",
       " \"L'Homme n'est pas un oiseau\",\n",
       " 'Innocence sans protection',\n",
       " 'Europe 51']"
      ]
     },
     "execution_count": 10,
     "metadata": {},
     "output_type": "execute_result"
    }
   ],
   "source": [
    "queries[:24]"
   ]
  },
  {
   "cell_type": "code",
   "execution_count": 11,
   "metadata": {},
   "outputs": [],
   "source": [
    "ids = []"
   ]
  },
  {
   "cell_type": "code",
   "execution_count": 12,
   "metadata": {
    "scrolled": true
   },
   "outputs": [],
   "source": [
    "for movie in (queries[:24]):\n",
    "    ids.append(movie_query(movie, 2020, 2022))"
   ]
  },
  {
   "cell_type": "code",
   "execution_count": 13,
   "metadata": {},
   "outputs": [
    {
     "data": {
      "text/plain": [
       "[('En Attendant Bojangles', 'tt11310608'),\n",
       " ('355', 'tt8356942'),\n",
       " ('Licorice Pizza', 'tt11271038'),\n",
       " ('Twist À Bamako', 'tt14055038'),\n",
       " ('Mes frères et moi', 'tt13582752'),\n",
       " ('Rosy', 'tt15153914'),\n",
       " ('Luzzu', ''),\n",
       " ('Residue', 'tt11568878'),\n",
       " ('Sword Art Online - Progressive - Aria of a Starless Night', 'tt13424422'),\n",
       " ('Marché noir', 'tt12758660'),\n",
       " (\"J'étais à la maison, mais...\", ''),\n",
       " ('Neige', ''),\n",
       " ('Guanzhou, une nouvelle ère', ''),\n",
       " ('Tous les garçons et les filles', ''),\n",
       " ('Traverser', 'tt15550372'),\n",
       " ('Le Messager', ''),\n",
       " (\"Une affaire de coeur: La tragédie d'une employée des P.T.T.\", ''),\n",
       " ('RRR', 'tt8178634, tt15371730'),\n",
       " ('Make Me a Man', ''),\n",
       " ('Mai 68 au masculin', 'tt16676456'),\n",
       " (\"HK, la plume et l'espoir\", 'tt16676444'),\n",
       " (\"L'Homme n'est pas un oiseau\", ''),\n",
       " ('Innocence sans protection', ''),\n",
       " ('Europe 51', '')]"
      ]
     },
     "execution_count": 13,
     "metadata": {},
     "output_type": "execute_result"
    }
   ],
   "source": [
    "ids"
   ]
  },
  {
   "cell_type": "code",
   "execution_count": 14,
   "metadata": {
    "scrolled": false
   },
   "outputs": [],
   "source": [
    "tot_df = pd.DataFrame(ids[:17], columns=[\"title\", 'imdb'])"
   ]
  },
  {
   "cell_type": "code",
   "execution_count": 15,
   "metadata": {},
   "outputs": [
    {
     "data": {
      "text/html": [
       "<div>\n",
       "<style scoped>\n",
       "    .dataframe tbody tr th:only-of-type {\n",
       "        vertical-align: middle;\n",
       "    }\n",
       "\n",
       "    .dataframe tbody tr th {\n",
       "        vertical-align: top;\n",
       "    }\n",
       "\n",
       "    .dataframe thead th {\n",
       "        text-align: right;\n",
       "    }\n",
       "</style>\n",
       "<table border=\"1\" class=\"dataframe\">\n",
       "  <thead>\n",
       "    <tr style=\"text-align: right;\">\n",
       "      <th></th>\n",
       "      <th>title</th>\n",
       "      <th>imdb</th>\n",
       "    </tr>\n",
       "  </thead>\n",
       "  <tbody>\n",
       "    <tr>\n",
       "      <th>0</th>\n",
       "      <td>En Attendant Bojangles</td>\n",
       "      <td>tt11310608</td>\n",
       "    </tr>\n",
       "    <tr>\n",
       "      <th>1</th>\n",
       "      <td>355</td>\n",
       "      <td>tt8356942</td>\n",
       "    </tr>\n",
       "    <tr>\n",
       "      <th>2</th>\n",
       "      <td>Licorice Pizza</td>\n",
       "      <td>tt11271038</td>\n",
       "    </tr>\n",
       "    <tr>\n",
       "      <th>3</th>\n",
       "      <td>Twist À Bamako</td>\n",
       "      <td>tt14055038</td>\n",
       "    </tr>\n",
       "    <tr>\n",
       "      <th>4</th>\n",
       "      <td>Mes frères et moi</td>\n",
       "      <td>tt13582752</td>\n",
       "    </tr>\n",
       "    <tr>\n",
       "      <th>5</th>\n",
       "      <td>Rosy</td>\n",
       "      <td>tt15153914</td>\n",
       "    </tr>\n",
       "    <tr>\n",
       "      <th>6</th>\n",
       "      <td>Luzzu</td>\n",
       "      <td></td>\n",
       "    </tr>\n",
       "    <tr>\n",
       "      <th>7</th>\n",
       "      <td>Residue</td>\n",
       "      <td>tt11568878</td>\n",
       "    </tr>\n",
       "    <tr>\n",
       "      <th>8</th>\n",
       "      <td>Sword Art Online - Progressive - Aria of a Sta...</td>\n",
       "      <td>tt13424422</td>\n",
       "    </tr>\n",
       "    <tr>\n",
       "      <th>9</th>\n",
       "      <td>Marché noir</td>\n",
       "      <td>tt12758660</td>\n",
       "    </tr>\n",
       "    <tr>\n",
       "      <th>10</th>\n",
       "      <td>J'étais à la maison, mais...</td>\n",
       "      <td></td>\n",
       "    </tr>\n",
       "    <tr>\n",
       "      <th>11</th>\n",
       "      <td>Neige</td>\n",
       "      <td></td>\n",
       "    </tr>\n",
       "    <tr>\n",
       "      <th>12</th>\n",
       "      <td>Guanzhou, une nouvelle ère</td>\n",
       "      <td></td>\n",
       "    </tr>\n",
       "    <tr>\n",
       "      <th>13</th>\n",
       "      <td>Tous les garçons et les filles</td>\n",
       "      <td></td>\n",
       "    </tr>\n",
       "    <tr>\n",
       "      <th>14</th>\n",
       "      <td>Traverser</td>\n",
       "      <td>tt15550372</td>\n",
       "    </tr>\n",
       "    <tr>\n",
       "      <th>15</th>\n",
       "      <td>Le Messager</td>\n",
       "      <td></td>\n",
       "    </tr>\n",
       "    <tr>\n",
       "      <th>16</th>\n",
       "      <td>Une affaire de coeur: La tragédie d'une employ...</td>\n",
       "      <td></td>\n",
       "    </tr>\n",
       "  </tbody>\n",
       "</table>\n",
       "</div>"
      ],
      "text/plain": [
       "                                                title        imdb\n",
       "0                              En Attendant Bojangles  tt11310608\n",
       "1                                                 355   tt8356942\n",
       "2                                      Licorice Pizza  tt11271038\n",
       "3                                      Twist À Bamako  tt14055038\n",
       "4                                   Mes frères et moi  tt13582752\n",
       "5                                                Rosy  tt15153914\n",
       "6                                               Luzzu            \n",
       "7                                             Residue  tt11568878\n",
       "8   Sword Art Online - Progressive - Aria of a Sta...  tt13424422\n",
       "9                                         Marché noir  tt12758660\n",
       "10                       J'étais à la maison, mais...            \n",
       "11                                              Neige            \n",
       "12                         Guanzhou, une nouvelle ère            \n",
       "13                     Tous les garçons et les filles            \n",
       "14                                          Traverser  tt15550372\n",
       "15                                        Le Messager            \n",
       "16  Une affaire de coeur: La tragédie d'une employ...            "
      ]
     },
     "execution_count": 15,
     "metadata": {},
     "output_type": "execute_result"
    }
   ],
   "source": [
    "tot_df"
   ]
  },
  {
   "cell_type": "code",
   "execution_count": 16,
   "metadata": {
    "scrolled": true
   },
   "outputs": [],
   "source": [
    "filter_1 = tot_df[\"imdb\"] == \"\"\n",
    "filter_2 = tot_df[\"imdb\"] != \"\""
   ]
  },
  {
   "cell_type": "code",
   "execution_count": 17,
   "metadata": {},
   "outputs": [],
   "source": [
    "no_id_df = tot_df[filter_1].drop(\"imdb\", 1).set_index(\"title\")"
   ]
  },
  {
   "cell_type": "code",
   "execution_count": 18,
   "metadata": {},
   "outputs": [],
   "source": [
    "multiple_id = tot_df[tot_df[\"imdb\"].str.contains(\", tt\")].set_index(\"title\")"
   ]
  },
  {
   "cell_type": "code",
   "execution_count": 19,
   "metadata": {
    "scrolled": true
   },
   "outputs": [
    {
     "name": "stderr",
     "output_type": "stream",
     "text": [
      "/home/leo/.pyenv/versions/3.7.6/envs/vivadata/lib/python3.7/site-packages/ipykernel_launcher.py:1: UserWarning: Boolean Series key will be reindexed to match DataFrame index.\n",
      "  \"\"\"Entry point for launching an IPython kernel.\n"
     ]
    }
   ],
   "source": [
    "scrap_df = tot_df[filter_2][-tot_df[\"imdb\"].str.contains(\", tt\")].set_index(\"title\")"
   ]
  },
  {
   "cell_type": "code",
   "execution_count": 20,
   "metadata": {},
   "outputs": [
    {
     "data": {
      "text/html": [
       "<div>\n",
       "<style scoped>\n",
       "    .dataframe tbody tr th:only-of-type {\n",
       "        vertical-align: middle;\n",
       "    }\n",
       "\n",
       "    .dataframe tbody tr th {\n",
       "        vertical-align: top;\n",
       "    }\n",
       "\n",
       "    .dataframe thead th {\n",
       "        text-align: right;\n",
       "    }\n",
       "</style>\n",
       "<table border=\"1\" class=\"dataframe\">\n",
       "  <thead>\n",
       "    <tr style=\"text-align: right;\">\n",
       "      <th></th>\n",
       "    </tr>\n",
       "    <tr>\n",
       "      <th>title</th>\n",
       "    </tr>\n",
       "  </thead>\n",
       "  <tbody>\n",
       "    <tr>\n",
       "      <th>Luzzu</th>\n",
       "    </tr>\n",
       "    <tr>\n",
       "      <th>J'étais à la maison, mais...</th>\n",
       "    </tr>\n",
       "    <tr>\n",
       "      <th>Neige</th>\n",
       "    </tr>\n",
       "    <tr>\n",
       "      <th>Guanzhou, une nouvelle ère</th>\n",
       "    </tr>\n",
       "    <tr>\n",
       "      <th>Tous les garçons et les filles</th>\n",
       "    </tr>\n",
       "    <tr>\n",
       "      <th>Le Messager</th>\n",
       "    </tr>\n",
       "    <tr>\n",
       "      <th>Une affaire de coeur: La tragédie d'une employée des P.T.T.</th>\n",
       "    </tr>\n",
       "  </tbody>\n",
       "</table>\n",
       "</div>"
      ],
      "text/plain": [
       "Empty DataFrame\n",
       "Columns: []\n",
       "Index: [Luzzu, J'étais à la maison, mais..., Neige, Guanzhou, une nouvelle ère, Tous les garçons et les filles, Le Messager, Une affaire de coeur: La tragédie d'une employée des P.T.T.]"
      ]
     },
     "execution_count": 20,
     "metadata": {},
     "output_type": "execute_result"
    }
   ],
   "source": [
    "no_id_df"
   ]
  },
  {
   "cell_type": "code",
   "execution_count": 16,
   "metadata": {},
   "outputs": [
    {
     "data": {
      "text/html": [
       "<div>\n",
       "<style scoped>\n",
       "    .dataframe tbody tr th:only-of-type {\n",
       "        vertical-align: middle;\n",
       "    }\n",
       "\n",
       "    .dataframe tbody tr th {\n",
       "        vertical-align: top;\n",
       "    }\n",
       "\n",
       "    .dataframe thead th {\n",
       "        text-align: right;\n",
       "    }\n",
       "</style>\n",
       "<table border=\"1\" class=\"dataframe\">\n",
       "  <thead>\n",
       "    <tr style=\"text-align: right;\">\n",
       "      <th></th>\n",
       "      <th>imdb</th>\n",
       "    </tr>\n",
       "    <tr>\n",
       "      <th>title</th>\n",
       "      <th></th>\n",
       "    </tr>\n",
       "  </thead>\n",
       "  <tbody>\n",
       "  </tbody>\n",
       "</table>\n",
       "</div>"
      ],
      "text/plain": [
       "Empty DataFrame\n",
       "Columns: [imdb]\n",
       "Index: []"
      ]
     },
     "execution_count": 16,
     "metadata": {},
     "output_type": "execute_result"
    }
   ],
   "source": [
    "multiple_id"
   ]
  },
  {
   "cell_type": "code",
   "execution_count": 17,
   "metadata": {},
   "outputs": [
    {
     "data": {
      "text/html": [
       "<div>\n",
       "<style scoped>\n",
       "    .dataframe tbody tr th:only-of-type {\n",
       "        vertical-align: middle;\n",
       "    }\n",
       "\n",
       "    .dataframe tbody tr th {\n",
       "        vertical-align: top;\n",
       "    }\n",
       "\n",
       "    .dataframe thead th {\n",
       "        text-align: right;\n",
       "    }\n",
       "</style>\n",
       "<table border=\"1\" class=\"dataframe\">\n",
       "  <thead>\n",
       "    <tr style=\"text-align: right;\">\n",
       "      <th></th>\n",
       "      <th>imdb</th>\n",
       "    </tr>\n",
       "    <tr>\n",
       "      <th>title</th>\n",
       "      <th></th>\n",
       "    </tr>\n",
       "  </thead>\n",
       "  <tbody>\n",
       "    <tr>\n",
       "      <th>Tous en scène 2</th>\n",
       "      <td>tt6467266</td>\n",
       "    </tr>\n",
       "    <tr>\n",
       "      <th>Matrix Resurrections</th>\n",
       "      <td>tt10838180</td>\n",
       "    </tr>\n",
       "    <tr>\n",
       "      <th>Mince alors 2!</th>\n",
       "      <td>tt14017174</td>\n",
       "    </tr>\n",
       "    <tr>\n",
       "      <th>Madeleine Collins</th>\n",
       "      <td>tt11310670</td>\n",
       "    </tr>\n",
       "    <tr>\n",
       "      <th>C'est toi que j'attendais</th>\n",
       "      <td>tt12976392</td>\n",
       "    </tr>\n",
       "    <tr>\n",
       "      <th>My Kid</th>\n",
       "      <td>tt8135564</td>\n",
       "    </tr>\n",
       "    <tr>\n",
       "      <th>White Building</th>\n",
       "      <td>tt11813228</td>\n",
       "    </tr>\n",
       "    <tr>\n",
       "      <th>La Croisade</th>\n",
       "      <td>tt13846352</td>\n",
       "    </tr>\n",
       "    <tr>\n",
       "      <th>The Cloud in Her Room</th>\n",
       "      <td>tt9628568</td>\n",
       "    </tr>\n",
       "    <tr>\n",
       "      <th>L'Odyssée antarctique</th>\n",
       "      <td>tt16579354</td>\n",
       "    </tr>\n",
       "  </tbody>\n",
       "</table>\n",
       "</div>"
      ],
      "text/plain": [
       "                                 imdb\n",
       "title                                \n",
       "Tous en scène 2             tt6467266\n",
       "Matrix Resurrections       tt10838180\n",
       "Mince alors 2!             tt14017174\n",
       "Madeleine Collins          tt11310670\n",
       "C'est toi que j'attendais  tt12976392\n",
       "My Kid                      tt8135564\n",
       "White Building             tt11813228\n",
       "La Croisade                tt13846352\n",
       "The Cloud in Her Room       tt9628568\n",
       "L'Odyssée antarctique      tt16579354"
      ]
     },
     "execution_count": 17,
     "metadata": {},
     "output_type": "execute_result"
    }
   ],
   "source": [
    "scrap_df"
   ]
  },
  {
   "cell_type": "code",
   "execution_count": 24,
   "metadata": {},
   "outputs": [],
   "source": [
    "good = pd.read_csv(\"scrap_it.csv\").set_index(\"title\")"
   ]
  },
  {
   "cell_type": "code",
   "execution_count": 25,
   "metadata": {},
   "outputs": [
    {
     "data": {
      "text/html": [
       "<div>\n",
       "<style scoped>\n",
       "    .dataframe tbody tr th:only-of-type {\n",
       "        vertical-align: middle;\n",
       "    }\n",
       "\n",
       "    .dataframe tbody tr th {\n",
       "        vertical-align: top;\n",
       "    }\n",
       "\n",
       "    .dataframe thead th {\n",
       "        text-align: right;\n",
       "    }\n",
       "</style>\n",
       "<table border=\"1\" class=\"dataframe\">\n",
       "  <thead>\n",
       "    <tr style=\"text-align: right;\">\n",
       "      <th></th>\n",
       "      <th>imdb</th>\n",
       "    </tr>\n",
       "    <tr>\n",
       "      <th>title</th>\n",
       "      <th></th>\n",
       "    </tr>\n",
       "  </thead>\n",
       "  <tbody>\n",
       "  </tbody>\n",
       "</table>\n",
       "</div>"
      ],
      "text/plain": [
       "Empty DataFrame\n",
       "Columns: [imdb]\n",
       "Index: []"
      ]
     },
     "execution_count": 25,
     "metadata": {},
     "output_type": "execute_result"
    }
   ],
   "source": [
    "good"
   ]
  },
  {
   "cell_type": "code",
   "execution_count": 26,
   "metadata": {},
   "outputs": [],
   "source": [
    "scrap_df = pd.concat([good, scrap_df])"
   ]
  },
  {
   "cell_type": "code",
   "execution_count": 27,
   "metadata": {},
   "outputs": [],
   "source": [
    "scrap_df.to_csv(\"scrap_it.csv\")"
   ]
  },
  {
   "cell_type": "code",
   "execution_count": 28,
   "metadata": {},
   "outputs": [],
   "source": [
    "nope = pd.read_csv(\"future_scrap.csv\").set_index(\"title\")"
   ]
  },
  {
   "cell_type": "code",
   "execution_count": 29,
   "metadata": {},
   "outputs": [],
   "source": [
    "no_id_df = pd.concat([nope, no_id_df])"
   ]
  },
  {
   "cell_type": "code",
   "execution_count": 30,
   "metadata": {},
   "outputs": [],
   "source": [
    "no_id_df.to_csv(\"future_scrap.csv\")"
   ]
  },
  {
   "cell_type": "code",
   "execution_count": 31,
   "metadata": {},
   "outputs": [],
   "source": [
    "bad = pd.read_csv(\"multiple_id.csv\").set_index(\"title\")"
   ]
  },
  {
   "cell_type": "code",
   "execution_count": 32,
   "metadata": {},
   "outputs": [],
   "source": [
    "multiple_id = pd.concat([bad, multiple_id])"
   ]
  },
  {
   "cell_type": "code",
   "execution_count": 33,
   "metadata": {},
   "outputs": [],
   "source": [
    "multiple_id.to_csv(\"multiple_id.csv\")"
   ]
  }
 ],
 "metadata": {
  "kernelspec": {
   "display_name": "Python 3",
   "language": "python",
   "name": "python3"
  },
  "language_info": {
   "codemirror_mode": {
    "name": "ipython",
    "version": 3
   },
   "file_extension": ".py",
   "mimetype": "text/x-python",
   "name": "python",
   "nbconvert_exporter": "python",
   "pygments_lexer": "ipython3",
   "version": "3.7.6"
  }
 },
 "nbformat": 4,
 "nbformat_minor": 4
}
