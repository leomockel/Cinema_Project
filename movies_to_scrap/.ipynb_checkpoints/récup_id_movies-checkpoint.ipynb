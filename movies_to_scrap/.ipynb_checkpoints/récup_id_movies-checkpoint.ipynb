{
 "cells": [
  {
   "cell_type": "code",
   "execution_count": 30,
   "metadata": {},
   "outputs": [],
   "source": [
    "import requests, csv\n",
    "from bs4 import BeautifulSoup\n",
    "import re\n",
    "import pandas as pd\n",
    "import tqdm\n",
    "import numpy as np\n",
    "from collections import OrderedDict\n",
    "from datetime import datetime, date"
   ]
  },
  {
   "cell_type": "code",
   "execution_count": 163,
   "metadata": {},
   "outputs": [],
   "source": [
    "def movie_query(query, date_min = 1900, date_max = int(date.today().year)):\n",
    "    \n",
    "    # dictionary of characters to change in URL\n",
    "    char_dict = {\"!\": \"%21\", \"#\": \"%23\", \"$\": \"%24\", \"&\": \"%26\", \"'\": \"%27\", \"(\": \"%28\", \")\": \"%29\", \"*\": \"%2A\", \\\n",
    "             \"+\": \"%2B\", \",\": \"%2C\", \"/\": \"%2F\", \":\": \"%3A\", \";\": \"%3B\", \"=\": \"%3D\", \"?\": \"%3F\", \"@\": \"%40\", \\\n",
    "             \"[\": \"%5B\", \"]\": \"%5D\", \" \": \"+\"}\n",
    "    \n",
    "    query = query.strip()\n",
    "    modif_query = [char_dict[i] if i in char_dict.keys() else i for i in query]\n",
    "    modif_query = \"\".join(modif_query)\n",
    "    \n",
    "    r = requests.get(\"https://www.imdb.com/find?q=\"+modif_query)\n",
    "    bs = BeautifulSoup(r.text)\n",
    "\n",
    "    titles = bs.find_all('td', {'class': 'result_text'})\n",
    "\n",
    "    clean_titles= []\n",
    "    dates = []\n",
    "    try :\n",
    "        for i in range(len(titles)) : \n",
    "            clean_titles.append(str(titles[i]).split('/\">')[1].split('</a>')[0])\n",
    "            if \"(TV Episode)\" in str(titles[i]):\n",
    "                dates.append(1492)\n",
    "            elif \"(I)\" in str(titles[i]):\n",
    "                dates.append(str(titles[i]).split('(I) (')[1].split(')')[0])\n",
    "            elif \"(IV)\" in str(titles[i]):\n",
    "                dates.append(str(titles[i]).split('(IV) (')[1].split(')')[0])\n",
    "            else :\n",
    "                dates.append(str(titles[i]).split('</a> (')[1].split(')')[0])\n",
    "    except IndexError:\n",
    "        clean_titles.append(\"\")\n",
    "        dates.append(\"\")\n",
    "    \n",
    "    range_date = range(date_min, date_max+1)\n",
    "    ids = [str(titles[i]).split('href=\"/title/')[1].split('/\">')[0] for i in range(len(clean_titles)) \\\n",
    "        if clean_titles[i].lower() == query.lower() and int(dates[i]) in range_date]\n",
    "        \n",
    "    if len(ids) == 0 :\n",
    "        imdb_id = \"\"    \n",
    "    else :\n",
    "        imdb_id = \", \".join(ids)\n",
    "    \n",
    "    return query, imdb_id"
   ]
  },
  {
   "cell_type": "code",
   "execution_count": 124,
   "metadata": {},
   "outputs": [],
   "source": [
    "df = pd.read_csv(\"movies_2021.csv\")"
   ]
  },
  {
   "cell_type": "code",
   "execution_count": 125,
   "metadata": {},
   "outputs": [],
   "source": [
    "queries = list(df.title.values)"
   ]
  },
  {
   "cell_type": "code",
   "execution_count": 164,
   "metadata": {},
   "outputs": [],
   "source": [
    "queries = [\"Free Guy \"]"
   ]
  },
  {
   "cell_type": "code",
   "execution_count": 165,
   "metadata": {},
   "outputs": [],
   "source": [
    "ids = []"
   ]
  },
  {
   "cell_type": "code",
   "execution_count": 166,
   "metadata": {
    "scrolled": true
   },
   "outputs": [
    {
     "name": "stderr",
     "output_type": "stream",
     "text": [
      "100%|██████████| 1/1 [00:00<00:00,  1.90it/s]\n"
     ]
    }
   ],
   "source": [
    "for movie in tqdm.tqdm(queries):\n",
    "    ids.append(movie_query(movie))"
   ]
  },
  {
   "cell_type": "code",
   "execution_count": 167,
   "metadata": {
    "scrolled": false
   },
   "outputs": [],
   "source": [
    "tot_df = pd.DataFrame(ids, columns=[\"title\", 'imdb'])"
   ]
  },
  {
   "cell_type": "code",
   "execution_count": 168,
   "metadata": {},
   "outputs": [
    {
     "data": {
      "text/html": [
       "<div>\n",
       "<style scoped>\n",
       "    .dataframe tbody tr th:only-of-type {\n",
       "        vertical-align: middle;\n",
       "    }\n",
       "\n",
       "    .dataframe tbody tr th {\n",
       "        vertical-align: top;\n",
       "    }\n",
       "\n",
       "    .dataframe thead th {\n",
       "        text-align: right;\n",
       "    }\n",
       "</style>\n",
       "<table border=\"1\" class=\"dataframe\">\n",
       "  <thead>\n",
       "    <tr style=\"text-align: right;\">\n",
       "      <th></th>\n",
       "      <th>title</th>\n",
       "      <th>imdb</th>\n",
       "    </tr>\n",
       "  </thead>\n",
       "  <tbody>\n",
       "    <tr>\n",
       "      <th>0</th>\n",
       "      <td>Free Guy</td>\n",
       "      <td>tt6264654</td>\n",
       "    </tr>\n",
       "  </tbody>\n",
       "</table>\n",
       "</div>"
      ],
      "text/plain": [
       "      title       imdb\n",
       "0  Free Guy  tt6264654"
      ]
     },
     "execution_count": 168,
     "metadata": {},
     "output_type": "execute_result"
    }
   ],
   "source": [
    "tot_df"
   ]
  },
  {
   "cell_type": "code",
   "execution_count": 129,
   "metadata": {
    "scrolled": true
   },
   "outputs": [],
   "source": [
    "filter_1 = tot_df[\"imdb\"] == \"\"\n",
    "filter_2 = tot_df[\"imdb\"] != \"\""
   ]
  },
  {
   "cell_type": "code",
   "execution_count": 130,
   "metadata": {},
   "outputs": [],
   "source": [
    "no_id_df = tot_df[filter_1].drop(\"imdb\", 1).set_index(\"title\")"
   ]
  },
  {
   "cell_type": "code",
   "execution_count": 131,
   "metadata": {},
   "outputs": [],
   "source": [
    "multiple_id = tot_df[tot_df[\"imdb\"].str.contains(\", tt\")].set_index(\"title\")"
   ]
  },
  {
   "cell_type": "code",
   "execution_count": 132,
   "metadata": {
    "scrolled": true
   },
   "outputs": [
    {
     "name": "stderr",
     "output_type": "stream",
     "text": [
      "/home/leo/.pyenv/versions/3.7.6/envs/vivadata/lib/python3.7/site-packages/ipykernel_launcher.py:1: UserWarning: Boolean Series key will be reindexed to match DataFrame index.\n",
      "  \"\"\"Entry point for launching an IPython kernel.\n"
     ]
    }
   ],
   "source": [
    "scrap_df = tot_df[filter_2][-tot_df[\"imdb\"].str.contains(\", tt\")].set_index(\"title\")"
   ]
  },
  {
   "cell_type": "code",
   "execution_count": 133,
   "metadata": {},
   "outputs": [
    {
     "data": {
      "text/html": [
       "<div>\n",
       "<style scoped>\n",
       "    .dataframe tbody tr th:only-of-type {\n",
       "        vertical-align: middle;\n",
       "    }\n",
       "\n",
       "    .dataframe tbody tr th {\n",
       "        vertical-align: top;\n",
       "    }\n",
       "\n",
       "    .dataframe thead th {\n",
       "        text-align: right;\n",
       "    }\n",
       "</style>\n",
       "<table border=\"1\" class=\"dataframe\">\n",
       "  <thead>\n",
       "    <tr style=\"text-align: right;\">\n",
       "      <th></th>\n",
       "    </tr>\n",
       "    <tr>\n",
       "      <th>title</th>\n",
       "    </tr>\n",
       "  </thead>\n",
       "  <tbody>\n",
       "    <tr>\n",
       "      <th>17 Blocks</th>\n",
       "    </tr>\n",
       "    <tr>\n",
       "      <th>1871, la Commune: portraits d'une révolution</th>\n",
       "    </tr>\n",
       "    <tr>\n",
       "      <th>1BR: The Apartement</th>\n",
       "    </tr>\n",
       "    <tr>\n",
       "      <th>2067</th>\n",
       "    </tr>\n",
       "    <tr>\n",
       "      <th>7 jours</th>\n",
       "    </tr>\n",
       "    <tr>\n",
       "      <th>...</th>\n",
       "    </tr>\n",
       "    <tr>\n",
       "      <th>What Happened to Mr. Cha?</th>\n",
       "    </tr>\n",
       "    <tr>\n",
       "      <th>Willy's Wonderland</th>\n",
       "    </tr>\n",
       "    <tr>\n",
       "      <th>Witness Infection</th>\n",
       "    </tr>\n",
       "    <tr>\n",
       "      <th>Zaï zaï zaï zaï</th>\n",
       "    </tr>\n",
       "    <tr>\n",
       "      <th>Zootopie 2</th>\n",
       "    </tr>\n",
       "  </tbody>\n",
       "</table>\n",
       "<p>269 rows × 0 columns</p>\n",
       "</div>"
      ],
      "text/plain": [
       "Empty DataFrame\n",
       "Columns: []\n",
       "Index: [17 Blocks, 1871, la Commune: portraits d'une révolution , 1BR: The Apartement , 2067 , 7 jours , A Classic Horror Story , À l'école des scaphandriers , À la folie , À la vie , À tous les garçons: Pour toujours et à jamais , A Week Away , Affiche L'Amour puissance mille, Afrique du Sud, corruption au sommet de l’État , Aline , American Nightmare 5: Sans limites , Amérique, nous voilà! , Âmes sensibles , Anti-Life , Attention au départ! , Au crépuscule , Avec un sourire, la Révolution! , Aya et la sorcière , Bad Trip , Balavoine, 35 ans déjà: sa vie, sa bataille , Balloon , Billie Eilish: The World's a Little Blurry , Blackfish 2 , Boîte noire , Boonie Bears: To the Rescue! , C'est la vie , C’est quoi ce papy ?! , Candyman , Cendrillon , Chacun chez soi , Chaos Walking , Charlie Chaplin, le génie de la liberté , Charlie, le journal qui ne voulait pas mourir , Cherry , Cibles mouvantes , Cigare au miel , Clifford , Come Away , Conjuring: Sous l'emprise du diable , Cosmoball , Crack: Cocaïne, corruption et conspiration , D'Houblons , D'où l'on vient , De l'ombre à la lumière , De l'or pour les chiens , De nos frères blessés , Dead Pigs , Deadly Illusions , Délicieux , Demon Slayer: Le Train de l'infini , Des hommes , Des vies sans école , Désigné coupable , Deux flics pour une bique , Diablo: The Ultimate Race , Don't Breathe 2 , Douce France , Drive My Car , Ecole Kourtrajmé , En attendant la neige , Encanto: La Fantastique famille Madrigal , Ennemi invisible, Entendez-vous dans vos campagnes , Entre deux trains, Envole-moi , État d'esprit , Eugénie Grandet , Falling , Fast & Furious 9, Faustine, apôtre de la miséricorde , Fidélité , Finch , Fisherman's Friends , Fou de toi , France , Free Guy , French Exit , Froid mortel , Fukushima 50 , Funambules , Gagarine , Gaza mon amour , Godzilla vs Kong , Gogo , Halloween Kills , Harami , Haseen Dillruba , Helmut Newton, l'effronté , Héroes: Silence et rock and roll , Herself , Hitman & Bodyguard 2 , Hôtel Transylvanie: Changements monstres , House of Gucci , I Am Greta , Ibrahim , Il était une fois Thalassa , ...]\n",
       "\n",
       "[269 rows x 0 columns]"
      ]
     },
     "execution_count": 133,
     "metadata": {},
     "output_type": "execute_result"
    }
   ],
   "source": [
    "no_id_df"
   ]
  },
  {
   "cell_type": "code",
   "execution_count": 134,
   "metadata": {},
   "outputs": [
    {
     "data": {
      "text/html": [
       "<div>\n",
       "<style scoped>\n",
       "    .dataframe tbody tr th:only-of-type {\n",
       "        vertical-align: middle;\n",
       "    }\n",
       "\n",
       "    .dataframe tbody tr th {\n",
       "        vertical-align: top;\n",
       "    }\n",
       "\n",
       "    .dataframe thead th {\n",
       "        text-align: right;\n",
       "    }\n",
       "</style>\n",
       "<table border=\"1\" class=\"dataframe\">\n",
       "  <thead>\n",
       "    <tr style=\"text-align: right;\">\n",
       "      <th></th>\n",
       "      <th>imdb</th>\n",
       "    </tr>\n",
       "    <tr>\n",
       "      <th>title</th>\n",
       "      <th></th>\n",
       "    </tr>\n",
       "  </thead>\n",
       "  <tbody>\n",
       "    <tr>\n",
       "      <th>Dune</th>\n",
       "      <td>tt1160419, tt9446442</td>\n",
       "    </tr>\n",
       "    <tr>\n",
       "      <th>Roohi</th>\n",
       "      <td>tt10098288, tt0489015</td>\n",
       "    </tr>\n",
       "    <tr>\n",
       "      <th>Wonder Woman 1984</th>\n",
       "      <td>tt7126948, tt13826758, tt15149496</td>\n",
       "    </tr>\n",
       "  </tbody>\n",
       "</table>\n",
       "</div>"
      ],
      "text/plain": [
       "                                                imdb\n",
       "title                                               \n",
       "Dune                            tt1160419, tt9446442\n",
       "Roohi                          tt10098288, tt0489015\n",
       "Wonder Woman 1984  tt7126948, tt13826758, tt15149496"
      ]
     },
     "execution_count": 134,
     "metadata": {},
     "output_type": "execute_result"
    }
   ],
   "source": [
    "multiple_id"
   ]
  },
  {
   "cell_type": "code",
   "execution_count": 135,
   "metadata": {},
   "outputs": [
    {
     "data": {
      "text/html": [
       "<div>\n",
       "<style scoped>\n",
       "    .dataframe tbody tr th:only-of-type {\n",
       "        vertical-align: middle;\n",
       "    }\n",
       "\n",
       "    .dataframe tbody tr th {\n",
       "        vertical-align: top;\n",
       "    }\n",
       "\n",
       "    .dataframe thead th {\n",
       "        text-align: right;\n",
       "    }\n",
       "</style>\n",
       "<table border=\"1\" class=\"dataframe\">\n",
       "  <thead>\n",
       "    <tr style=\"text-align: right;\">\n",
       "      <th></th>\n",
       "      <th>imdb</th>\n",
       "    </tr>\n",
       "    <tr>\n",
       "      <th>title</th>\n",
       "      <th></th>\n",
       "    </tr>\n",
       "  </thead>\n",
       "  <tbody>\n",
       "    <tr>\n",
       "      <th>'Ohana ou le Trésor caché</th>\n",
       "      <td>tt10332588</td>\n",
       "    </tr>\n",
       "    <tr>\n",
       "      <th>Ammonite</th>\n",
       "      <td>tt7983894</td>\n",
       "    </tr>\n",
       "    <tr>\n",
       "      <th>D'Artagnan et les Trois Mousquetaires</th>\n",
       "      <td>tt11777920</td>\n",
       "    </tr>\n",
       "    <tr>\n",
       "      <th>Digger</th>\n",
       "      <td>tt9389916</td>\n",
       "    </tr>\n",
       "    <tr>\n",
       "      <th>Envol</th>\n",
       "      <td>tt13335652</td>\n",
       "    </tr>\n",
       "    <tr>\n",
       "      <th>Freaky</th>\n",
       "      <td>tt10919380</td>\n",
       "    </tr>\n",
       "    <tr>\n",
       "      <th>Happy New Love</th>\n",
       "      <td>tt13318052</td>\n",
       "    </tr>\n",
       "    <tr>\n",
       "      <th>Irul</th>\n",
       "      <td>tt13103212</td>\n",
       "    </tr>\n",
       "    <tr>\n",
       "      <th>L'Homme parfait</th>\n",
       "      <td>tt10415020</td>\n",
       "    </tr>\n",
       "    <tr>\n",
       "      <th>S.O.S. Fantômes: L'Héritage</th>\n",
       "      <td>tt4513678</td>\n",
       "    </tr>\n",
       "    <tr>\n",
       "      <th>Teddy</th>\n",
       "      <td>tt10469804</td>\n",
       "    </tr>\n",
       "    <tr>\n",
       "      <th>The Minimalists: Less Is Now</th>\n",
       "      <td>tt13583144</td>\n",
       "    </tr>\n",
       "    <tr>\n",
       "      <th>Tomber pour Ali</th>\n",
       "      <td>tt11374498</td>\n",
       "    </tr>\n",
       "  </tbody>\n",
       "</table>\n",
       "</div>"
      ],
      "text/plain": [
       "                                             imdb\n",
       "title                                            \n",
       "'Ohana ou le Trésor caché              tt10332588\n",
       "Ammonite                                tt7983894\n",
       "D'Artagnan et les Trois Mousquetaires  tt11777920\n",
       "Digger                                  tt9389916\n",
       "Envol                                  tt13335652\n",
       "Freaky                                 tt10919380\n",
       "Happy New Love                         tt13318052\n",
       "Irul                                   tt13103212\n",
       "L'Homme parfait                        tt10415020\n",
       "S.O.S. Fantômes: L'Héritage             tt4513678\n",
       "Teddy                                  tt10469804\n",
       "The Minimalists: Less Is Now           tt13583144\n",
       "Tomber pour Ali                        tt11374498"
      ]
     },
     "execution_count": 135,
     "metadata": {},
     "output_type": "execute_result"
    }
   ],
   "source": [
    "scrap_df"
   ]
  },
  {
   "cell_type": "code",
   "execution_count": 136,
   "metadata": {},
   "outputs": [],
   "source": [
    "scrap_df.to_csv(\"scrap_it.csv\")"
   ]
  },
  {
   "cell_type": "code",
   "execution_count": 137,
   "metadata": {},
   "outputs": [],
   "source": [
    "no_id_df.to_csv(\"future_scrap2.csv\")"
   ]
  },
  {
   "cell_type": "code",
   "execution_count": 138,
   "metadata": {},
   "outputs": [],
   "source": [
    "multiple_id.to_csv(\"multiple_id2.csv\")"
   ]
  }
 ],
 "metadata": {
  "kernelspec": {
   "display_name": "Python 3",
   "language": "python",
   "name": "python3"
  },
  "language_info": {
   "codemirror_mode": {
    "name": "ipython",
    "version": 3
   },
   "file_extension": ".py",
   "mimetype": "text/x-python",
   "name": "python",
   "nbconvert_exporter": "python",
   "pygments_lexer": "ipython3",
   "version": "3.7.6"
  }
 },
 "nbformat": 4,
 "nbformat_minor": 4
}
