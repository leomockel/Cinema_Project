{
 "cells": [
  {
   "cell_type": "code",
   "execution_count": 29,
   "metadata": {},
   "outputs": [],
   "source": [
    "import requests, csv\n",
    "from bs4 import BeautifulSoup\n",
    "import re\n",
    "import pandas as pd\n",
    "import tqdm\n",
    "import numpy as np\n",
    "from collections import OrderedDict"
   ]
  },
  {
   "cell_type": "markdown",
   "metadata": {},
   "source": [
    "## Actors transformation"
   ]
  },
  {
   "cell_type": "code",
   "execution_count": 2,
   "metadata": {},
   "outputs": [],
   "source": [
    "df1 = pd.read_excel('actors_sql_01.xlsx')\n",
    "df2 = pd.read_excel('actors_sql_02.xlsx')\n",
    "df3 = pd.read_excel('actors_sql_03.xlsx')\n",
    "df4 = pd.read_excel('actors_sql_04.xlsx')\n",
    "df5 = pd.read_excel('actors_sql_05.xlsx')\n",
    "df6 = pd.read_excel('actors_sql_06.xlsx')\n",
    "df7 = pd.read_excel('actors_sql_07.xlsx')\n",
    "df8 = pd.read_excel('actors_sql_08.xlsx')\n",
    "df9 = pd.read_excel('actors_sql_09.xlsx')\n",
    "df10 = pd.read_excel('actors_sql_10.xlsx')\n",
    "df11 = pd.read_excel('actors_sql_11.xlsx')\n",
    "df12 = pd.read_excel('actors_sql_12.xlsx')"
   ]
  },
  {
   "cell_type": "code",
   "execution_count": 3,
   "metadata": {},
   "outputs": [],
   "source": [
    "df_final = pd.concat([df1, df2, df3, df4, df5, df6, df7, df8, df9, df10, df11, df12])"
   ]
  },
  {
   "cell_type": "code",
   "execution_count": 4,
   "metadata": {},
   "outputs": [],
   "source": [
    "df_final = df_final.drop(columns=[\"Unnamed: 0\", \"code_name\", \"id\", \"test\", \"id.1\", \"last_actor\", \"Unnamed: 8\", \"Unnamed: 9\", \"Unnamed: 10\"])"
   ]
  },
  {
   "cell_type": "code",
   "execution_count": 5,
   "metadata": {},
   "outputs": [],
   "source": [
    "imdb = list(df_final[\"imdb_id\"].values)"
   ]
  },
  {
   "cell_type": "code",
   "execution_count": 6,
   "metadata": {},
   "outputs": [],
   "source": [
    "casting = list(df_final[\"casting\"].values)"
   ]
  },
  {
   "cell_type": "code",
   "execution_count": 7,
   "metadata": {},
   "outputs": [],
   "source": [
    "actor_dict = {}"
   ]
  },
  {
   "cell_type": "code",
   "execution_count": 8,
   "metadata": {},
   "outputs": [],
   "source": [
    "imdb_id = 'tt0416449'"
   ]
  },
  {
   "cell_type": "code",
   "execution_count": 9,
   "metadata": {},
   "outputs": [],
   "source": [
    "temp_cast = []"
   ]
  },
  {
   "cell_type": "code",
   "execution_count": 10,
   "metadata": {},
   "outputs": [],
   "source": [
    "for i in range(len(imdb)):\n",
    "    if imdb[i] == imdb_id : \n",
    "        temp_cast.append(casting[i])\n",
    "    elif imdb[i] != imdb_id : \n",
    "        actor_dict[imdb_id] = temp_cast\n",
    "        imdb_id = imdb[i]\n",
    "        temp_cast = []\n",
    "        temp_cast.append(casting[i])"
   ]
  },
  {
   "cell_type": "code",
   "execution_count": 15,
   "metadata": {},
   "outputs": [],
   "source": [
    "comp_casting = []"
   ]
  },
  {
   "cell_type": "code",
   "execution_count": 17,
   "metadata": {},
   "outputs": [],
   "source": [
    "for i in actor_dict.values():\n",
    "    comp_casting.append(\", \".join(i))\n",
    "    "
   ]
  },
  {
   "cell_type": "code",
   "execution_count": 25,
   "metadata": {},
   "outputs": [],
   "source": [
    "df_cast = pd.DataFrame(columns=[\"imdb_id\", \"casting\"])"
   ]
  },
  {
   "cell_type": "code",
   "execution_count": 26,
   "metadata": {
    "scrolled": true
   },
   "outputs": [],
   "source": [
    "df_cast[\"imdb_id\"] = actor_dict.keys()\n",
    "df_cast[\"casting\"] = comp_casting"
   ]
  },
  {
   "cell_type": "code",
   "execution_count": 28,
   "metadata": {},
   "outputs": [],
   "source": [
    "df_cast.to_excel(\"new_cast.xlsx\")"
   ]
  },
  {
   "cell_type": "markdown",
   "metadata": {},
   "source": [
    "## Directors Transformation"
   ]
  },
  {
   "cell_type": "code",
   "execution_count": 93,
   "metadata": {},
   "outputs": [],
   "source": [
    "df = pd.read_excel('dir_id.xlsx')"
   ]
  },
  {
   "cell_type": "code",
   "execution_count": 94,
   "metadata": {},
   "outputs": [
    {
     "data": {
      "text/html": [
       "<div>\n",
       "<style scoped>\n",
       "    .dataframe tbody tr th:only-of-type {\n",
       "        vertical-align: middle;\n",
       "    }\n",
       "\n",
       "    .dataframe tbody tr th {\n",
       "        vertical-align: top;\n",
       "    }\n",
       "\n",
       "    .dataframe thead th {\n",
       "        text-align: right;\n",
       "    }\n",
       "</style>\n",
       "<table border=\"1\" class=\"dataframe\">\n",
       "  <thead>\n",
       "    <tr style=\"text-align: right;\">\n",
       "      <th></th>\n",
       "      <th>Unnamed: 0</th>\n",
       "      <th>dir_id</th>\n",
       "      <th>dir_code</th>\n",
       "      <th>dir</th>\n",
       "    </tr>\n",
       "  </thead>\n",
       "  <tbody>\n",
       "    <tr>\n",
       "      <th>0</th>\n",
       "      <td>0</td>\n",
       "      <td>tt5475678</td>\n",
       "      <td>nm4219739</td>\n",
       "      <td>Christopher Sheffield</td>\n",
       "    </tr>\n",
       "    <tr>\n",
       "      <th>1</th>\n",
       "      <td>1</td>\n",
       "      <td>tt0215196</td>\n",
       "      <td>nm0070865</td>\n",
       "      <td>Dev Benegal</td>\n",
       "    </tr>\n",
       "    <tr>\n",
       "      <th>2</th>\n",
       "      <td>2</td>\n",
       "      <td>tt5971716</td>\n",
       "      <td>nm2544836</td>\n",
       "      <td>Nick Everhart</td>\n",
       "    </tr>\n",
       "    <tr>\n",
       "      <th>3</th>\n",
       "      <td>3</td>\n",
       "      <td>tt0088163</td>\n",
       "      <td>nm0661549</td>\n",
       "      <td>Domonic Paris</td>\n",
       "    </tr>\n",
       "    <tr>\n",
       "      <th>4</th>\n",
       "      <td>4</td>\n",
       "      <td>tt1870526</td>\n",
       "      <td>nm4415368</td>\n",
       "      <td>Aldous Byron Clarkson</td>\n",
       "    </tr>\n",
       "    <tr>\n",
       "      <th>5</th>\n",
       "      <td>5</td>\n",
       "      <td>tt0073741</td>\n",
       "      <td>nm0159726</td>\n",
       "      <td>Bent Christensen</td>\n",
       "    </tr>\n",
       "    <tr>\n",
       "      <th>6</th>\n",
       "      <td>6</td>\n",
       "      <td>tt0075255</td>\n",
       "      <td>nm0553941</td>\n",
       "      <td>Sergio Martino</td>\n",
       "    </tr>\n",
       "    <tr>\n",
       "      <th>7</th>\n",
       "      <td>7</td>\n",
       "      <td>tt0120187</td>\n",
       "      <td>nm0123009</td>\n",
       "      <td>Jeff Burr</td>\n",
       "    </tr>\n",
       "    <tr>\n",
       "      <th>8</th>\n",
       "      <td>8</td>\n",
       "      <td>tt1597725</td>\n",
       "      <td>nm1224330</td>\n",
       "      <td>Darko Lungulov</td>\n",
       "    </tr>\n",
       "    <tr>\n",
       "      <th>9</th>\n",
       "      <td>9</td>\n",
       "      <td>tt0144619</td>\n",
       "      <td>nm0843779</td>\n",
       "      <td>Waldemar Szarek</td>\n",
       "    </tr>\n",
       "  </tbody>\n",
       "</table>\n",
       "</div>"
      ],
      "text/plain": [
       "   Unnamed: 0     dir_id   dir_code                    dir\n",
       "0           0  tt5475678  nm4219739  Christopher Sheffield\n",
       "1           1  tt0215196  nm0070865            Dev Benegal\n",
       "2           2  tt5971716  nm2544836          Nick Everhart\n",
       "3           3  tt0088163  nm0661549          Domonic Paris\n",
       "4           4  tt1870526  nm4415368  Aldous Byron Clarkson\n",
       "5           5  tt0073741  nm0159726       Bent Christensen\n",
       "6           6  tt0075255  nm0553941         Sergio Martino\n",
       "7           7  tt0120187  nm0123009              Jeff Burr\n",
       "8           8  tt1597725  nm1224330         Darko Lungulov\n",
       "9           9  tt0144619  nm0843779        Waldemar Szarek"
      ]
     },
     "execution_count": 94,
     "metadata": {},
     "output_type": "execute_result"
    }
   ],
   "source": [
    "df.head(10)"
   ]
  },
  {
   "cell_type": "code",
   "execution_count": 96,
   "metadata": {},
   "outputs": [],
   "source": [
    "df_col = df.drop(columns=[\"Unnamed: 0\", \"dir_code\"])"
   ]
  },
  {
   "cell_type": "code",
   "execution_count": 97,
   "metadata": {},
   "outputs": [],
   "source": [
    "ids = list(df_col[\"dir_id\"].values)"
   ]
  },
  {
   "cell_type": "code",
   "execution_count": 98,
   "metadata": {},
   "outputs": [],
   "source": [
    "director = list(df_col[\"dir\"].values)"
   ]
  },
  {
   "cell_type": "code",
   "execution_count": 99,
   "metadata": {},
   "outputs": [],
   "source": [
    "dir_dict = {}"
   ]
  },
  {
   "cell_type": "code",
   "execution_count": 100,
   "metadata": {},
   "outputs": [],
   "source": [
    "imdb_id = 'tt5475678'"
   ]
  },
  {
   "cell_type": "code",
   "execution_count": 101,
   "metadata": {},
   "outputs": [],
   "source": [
    "temp_dir = []"
   ]
  },
  {
   "cell_type": "code",
   "execution_count": 102,
   "metadata": {},
   "outputs": [],
   "source": [
    "for i in range(len(ids)):\n",
    "    if ids[i] == imdb_id : \n",
    "        temp_dir.append(director[i])\n",
    "    elif ids[i] != imdb_id : \n",
    "        dir_dict[imdb_id] = temp_dir\n",
    "        imdb_id = ids[i]\n",
    "        temp_dir = []\n",
    "        temp_dir.append(director[i])"
   ]
  },
  {
   "cell_type": "code",
   "execution_count": 103,
   "metadata": {},
   "outputs": [],
   "source": [
    "comp_dir = []"
   ]
  },
  {
   "cell_type": "code",
   "execution_count": 104,
   "metadata": {},
   "outputs": [],
   "source": [
    "for i in dir_dict.values():\n",
    "    comp_dir.append(\", \".join(i))"
   ]
  },
  {
   "cell_type": "code",
   "execution_count": 105,
   "metadata": {},
   "outputs": [
    {
     "data": {
      "text/plain": [
       "5012"
      ]
     },
     "execution_count": 105,
     "metadata": {},
     "output_type": "execute_result"
    }
   ],
   "source": [
    "len(dir_dict.keys())"
   ]
  },
  {
   "cell_type": "code",
   "execution_count": 106,
   "metadata": {},
   "outputs": [],
   "source": [
    "df_dir = pd.DataFrame(columns=[\"imdb_id\", \"director\"])"
   ]
  },
  {
   "cell_type": "code",
   "execution_count": 107,
   "metadata": {},
   "outputs": [],
   "source": [
    "df_dir[\"imdb_id\"] = dir_dict.keys()\n",
    "df_dir[\"director\"] = comp_dir"
   ]
  },
  {
   "cell_type": "code",
   "execution_count": 108,
   "metadata": {},
   "outputs": [],
   "source": [
    "df_dir.to_excel(\"new_dir2.xlsx\")"
   ]
  },
  {
   "cell_type": "markdown",
   "metadata": {},
   "source": [
    "## Productors transformation"
   ]
  },
  {
   "cell_type": "code",
   "execution_count": 72,
   "metadata": {},
   "outputs": [],
   "source": [
    "dfp = pd.read_excel('prod_list_sql.xlsx')"
   ]
  },
  {
   "cell_type": "code",
   "execution_count": 73,
   "metadata": {},
   "outputs": [
    {
     "data": {
      "text/html": [
       "<div>\n",
       "<style scoped>\n",
       "    .dataframe tbody tr th:only-of-type {\n",
       "        vertical-align: middle;\n",
       "    }\n",
       "\n",
       "    .dataframe tbody tr th {\n",
       "        vertical-align: top;\n",
       "    }\n",
       "\n",
       "    .dataframe thead th {\n",
       "        text-align: right;\n",
       "    }\n",
       "</style>\n",
       "<table border=\"1\" class=\"dataframe\">\n",
       "  <thead>\n",
       "    <tr style=\"text-align: right;\">\n",
       "      <th></th>\n",
       "      <th>Unnamed: 0</th>\n",
       "      <th>movie_id</th>\n",
       "      <th>prod_code</th>\n",
       "      <th>production</th>\n",
       "    </tr>\n",
       "  </thead>\n",
       "  <tbody>\n",
       "    <tr>\n",
       "      <th>0</th>\n",
       "      <td>0</td>\n",
       "      <td>tt0416449</td>\n",
       "      <td>co0002663</td>\n",
       "      <td>Warner Bros.</td>\n",
       "    </tr>\n",
       "    <tr>\n",
       "      <th>1</th>\n",
       "      <td>1</td>\n",
       "      <td>tt0416449</td>\n",
       "      <td>co0159111</td>\n",
       "      <td>Legendary Entertainment</td>\n",
       "    </tr>\n",
       "    <tr>\n",
       "      <th>2</th>\n",
       "      <td>2</td>\n",
       "      <td>tt0416449</td>\n",
       "      <td>co0167271</td>\n",
       "      <td>Virtual Studios</td>\n",
       "    </tr>\n",
       "    <tr>\n",
       "      <th>3</th>\n",
       "      <td>3</td>\n",
       "      <td>tt0416449</td>\n",
       "      <td>co0129244</td>\n",
       "      <td>Hollywood Gang Productions</td>\n",
       "    </tr>\n",
       "    <tr>\n",
       "      <th>4</th>\n",
       "      <td>4</td>\n",
       "      <td>tt0416449</td>\n",
       "      <td>co0014103</td>\n",
       "      <td>Atmosphere Entertainment MM</td>\n",
       "    </tr>\n",
       "    <tr>\n",
       "      <th>5</th>\n",
       "      <td>5</td>\n",
       "      <td>tt0416449</td>\n",
       "      <td>co0140758</td>\n",
       "      <td>Mel's Cite du Cinema</td>\n",
       "    </tr>\n",
       "    <tr>\n",
       "      <th>6</th>\n",
       "      <td>6</td>\n",
       "      <td>tt0416449</td>\n",
       "      <td>co0122265</td>\n",
       "      <td>Nimar Studios</td>\n",
       "    </tr>\n",
       "    <tr>\n",
       "      <th>7</th>\n",
       "      <td>7</td>\n",
       "      <td>tt8579674</td>\n",
       "      <td>co0819670</td>\n",
       "      <td>Dreamworks Pictures</td>\n",
       "    </tr>\n",
       "    <tr>\n",
       "      <th>8</th>\n",
       "      <td>8</td>\n",
       "      <td>tt8579674</td>\n",
       "      <td>co0336601</td>\n",
       "      <td>Reliance Entertainment</td>\n",
       "    </tr>\n",
       "    <tr>\n",
       "      <th>9</th>\n",
       "      <td>9</td>\n",
       "      <td>tt8579674</td>\n",
       "      <td>co0644194</td>\n",
       "      <td>New Republic Pictures</td>\n",
       "    </tr>\n",
       "  </tbody>\n",
       "</table>\n",
       "</div>"
      ],
      "text/plain": [
       "   Unnamed: 0   movie_id  prod_code                   production\n",
       "0           0  tt0416449  co0002663                 Warner Bros.\n",
       "1           1  tt0416449  co0159111      Legendary Entertainment\n",
       "2           2  tt0416449  co0167271              Virtual Studios\n",
       "3           3  tt0416449  co0129244   Hollywood Gang Productions\n",
       "4           4  tt0416449  co0014103  Atmosphere Entertainment MM\n",
       "5           5  tt0416449  co0140758         Mel's Cite du Cinema\n",
       "6           6  tt0416449  co0122265                Nimar Studios\n",
       "7           7  tt8579674  co0819670          Dreamworks Pictures\n",
       "8           8  tt8579674  co0336601       Reliance Entertainment\n",
       "9           9  tt8579674  co0644194        New Republic Pictures"
      ]
     },
     "execution_count": 73,
     "metadata": {},
     "output_type": "execute_result"
    }
   ],
   "source": [
    "dfp.head(10)"
   ]
  },
  {
   "cell_type": "code",
   "execution_count": 75,
   "metadata": {},
   "outputs": [],
   "source": [
    "df_colp = dfp.drop(columns=[\"Unnamed: 0\", \"prod_code\"])"
   ]
  },
  {
   "cell_type": "code",
   "execution_count": 77,
   "metadata": {},
   "outputs": [],
   "source": [
    "ids = list(df_colp[\"movie_id\"].values)"
   ]
  },
  {
   "cell_type": "code",
   "execution_count": 78,
   "metadata": {},
   "outputs": [],
   "source": [
    "production = list(df_colp[\"production\"].values)"
   ]
  },
  {
   "cell_type": "code",
   "execution_count": 79,
   "metadata": {},
   "outputs": [],
   "source": [
    "prod_dict = {}"
   ]
  },
  {
   "cell_type": "code",
   "execution_count": 80,
   "metadata": {},
   "outputs": [],
   "source": [
    "imdb_id = 'tt0416449'"
   ]
  },
  {
   "cell_type": "code",
   "execution_count": 81,
   "metadata": {},
   "outputs": [],
   "source": [
    "temp_prod = []"
   ]
  },
  {
   "cell_type": "code",
   "execution_count": 82,
   "metadata": {},
   "outputs": [],
   "source": [
    "for i in range(len(ids)):\n",
    "    if ids[i] == imdb_id : \n",
    "        temp_prod.append(production[i])\n",
    "    elif ids[i] != imdb_id : \n",
    "        prod_dict[imdb_id] = temp_prod\n",
    "        imdb_id = ids[i]\n",
    "        temp_prod = []\n",
    "        temp_prod.append(production[i])"
   ]
  },
  {
   "cell_type": "code",
   "execution_count": 87,
   "metadata": {},
   "outputs": [],
   "source": [
    "comp_prod = []"
   ]
  },
  {
   "cell_type": "code",
   "execution_count": 88,
   "metadata": {},
   "outputs": [],
   "source": [
    "for i in prod_dict.values():\n",
    "    comp_prod.append(\", \".join(i))"
   ]
  },
  {
   "cell_type": "code",
   "execution_count": 90,
   "metadata": {},
   "outputs": [],
   "source": [
    "df_prod = pd.DataFrame(columns=[\"imdb_id\", \"production\"])"
   ]
  },
  {
   "cell_type": "code",
   "execution_count": 91,
   "metadata": {},
   "outputs": [],
   "source": [
    "df_prod[\"imdb_id\"] = prod_dict.keys()\n",
    "df_prod[\"production\"] = comp_prod"
   ]
  },
  {
   "cell_type": "code",
   "execution_count": 92,
   "metadata": {},
   "outputs": [],
   "source": [
    "df_prod.to_excel(\"new_prod.xlsx\")"
   ]
  }
 ],
 "metadata": {
  "kernelspec": {
   "display_name": "Python 3",
   "language": "python",
   "name": "python3"
  },
  "language_info": {
   "codemirror_mode": {
    "name": "ipython",
    "version": 3
   },
   "file_extension": ".py",
   "mimetype": "text/x-python",
   "name": "python",
   "nbconvert_exporter": "python",
   "pygments_lexer": "ipython3",
   "version": "3.7.6"
  }
 },
 "nbformat": 4,
 "nbformat_minor": 4
}
