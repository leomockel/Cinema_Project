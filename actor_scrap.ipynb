{
 "cells": [
  {
   "cell_type": "code",
   "execution_count": 392,
   "metadata": {},
   "outputs": [],
   "source": [
    "import requests, csv\n",
    "from bs4 import BeautifulSoup\n",
    "import re\n",
    "import pandas as pd\n",
    "import numpy as np\n",
    "from collections import OrderedDict\n",
    "import tqdm\n"
   ]
  },
  {
   "cell_type": "code",
   "execution_count": 393,
   "metadata": {},
   "outputs": [],
   "source": [
    "def actor_imdb(imdb_id):\n",
    "    \n",
    "    r2 = requests.get(\"https://www.imdb.com/title/\"+imdb_id+\"/fullcredits\")\n",
    "    bs2 = BeautifulSoup(r2.text, \"html.parser\")\n",
    "\n",
    "    #select casting\n",
    "    cast_list = bs2.find_all('table', {'class': 'cast_list'})\n",
    "    if cast_list == None or cast_list == []:\n",
    "        cast = [\"\"]\n",
    "        cast_code = [\"\"]\n",
    "        cast_voice = [\"\"]\n",
    "    else :\n",
    "        cast_list_test = bs2.find('table', {'class': 'cast_list'}).find_all('td', {'class':'primary_photo'})\n",
    "        cast_list_char = bs2.find('table', {'class': 'cast_list'}).find_all('td', {'class':'character'})\n",
    "        cast_char = [text.text.strip().replace(' \\n', '') for text in cast_list_char]\n",
    "        \n",
    "        if len(cast_list_test) >= 30 :\n",
    "            cast = [str(cast_list).split('img alt=\"')[i].split('\" class=\"')[0] for i in range(1,31)]\n",
    "            cast_code = [str(cast_list_test).split('/name/')[i].split('/\">')[0] for i in range(1,31)]\n",
    "            cast_voice = [\"V\" if \"(voice)\" in text else \"U\" if \"uncredited\" in text else \"\" \\\n",
    "                          for text in cast_char[:30]]\n",
    "        else :\n",
    "            cast = [str(cast_list).split('img alt=\"')[i].split('\" class=\"')[0] \\\n",
    "                    for i in range(1,len(cast_list_test)+1)]\n",
    "            cast_code = [str(cast_list_test).split('/name/')[i].split('/\">')[0] \\\n",
    "                          for i in range(1,len(cast_list_test)+1)]\n",
    "            cast_voice = [\"V\" if \"(voice)\" in text else \"U\" if \"uncredited\" in text else \"\" \\\n",
    "                          for text in cast_char[:len(cast_list_test)]]\n",
    "            \n",
    "    return imdb_id, cast, cast_code, cast_voice\n",
    "    "
   ]
  },
  {
   "cell_type": "code",
   "execution_count": 120,
   "metadata": {},
   "outputs": [],
   "source": [
    "df = pd.read_csv('act_scrap.csv')"
   ]
  },
  {
   "cell_type": "code",
   "execution_count": 121,
   "metadata": {},
   "outputs": [],
   "source": [
    "imdb_id = df[\"imdb_id\"].values"
   ]
  },
  {
   "cell_type": "code",
   "execution_count": 122,
   "metadata": {},
   "outputs": [],
   "source": [
    "actors = []"
   ]
  },
  {
   "cell_type": "code",
   "execution_count": 156,
   "metadata": {
    "scrolled": false
   },
   "outputs": [
    {
     "name": "stderr",
     "output_type": "stream",
     "text": [
      "100%|██████████| 6818/6818 [1:55:01<00:00,  1.01s/it]  \n"
     ]
    }
   ],
   "source": [
    "for actor in tqdm.tqdm(imdb_id[79766:]):\n",
    "    actors.append(actor_imdb(actor))"
   ]
  },
  {
   "cell_type": "code",
   "execution_count": 157,
   "metadata": {},
   "outputs": [],
   "source": [
    "actor_df = pd.DataFrame(actors, columns = ['imdb_id', 'names', 'codes', 'status'])"
   ]
  },
  {
   "cell_type": "code",
   "execution_count": 158,
   "metadata": {},
   "outputs": [],
   "source": [
    "actor_df.to_csv('temp_actor.csv')"
   ]
  },
  {
   "cell_type": "code",
   "execution_count": 159,
   "metadata": {},
   "outputs": [],
   "source": [
    "imdb = list(actor_df['imdb_id'].values)\n",
    "names = list(actor_df['names'].values)\n",
    "codes = list(actor_df['codes'].values)\n",
    "status = list(actor_df['status'].values)"
   ]
  },
  {
   "cell_type": "markdown",
   "metadata": {},
   "source": [
    "## Update movie_actor_sql"
   ]
  },
  {
   "cell_type": "code",
   "execution_count": 198,
   "metadata": {},
   "outputs": [],
   "source": [
    "cast_imdb = [imdb[i] for i in range(len(imdb)) for j in range(len(codes[i]))]"
   ]
  },
  {
   "cell_type": "code",
   "execution_count": 199,
   "metadata": {},
   "outputs": [],
   "source": [
    "all_actors = [names[i][j] for i in range(len(imdb)) for j in range(len(names[i]))]"
   ]
  },
  {
   "cell_type": "code",
   "execution_count": 200,
   "metadata": {},
   "outputs": [],
   "source": [
    "all_codes = [codes[i][j] for i in range(len(imdb)) for j in range(len(codes[i]))]"
   ]
  },
  {
   "cell_type": "code",
   "execution_count": 201,
   "metadata": {},
   "outputs": [],
   "source": [
    "all_status = [status[i][j] for i in range(len(imdb)) for j in range(len(status[i]))]"
   ]
  },
  {
   "cell_type": "code",
   "execution_count": 218,
   "metadata": {},
   "outputs": [],
   "source": [
    "movie_actor = {\"movie_id\": cast_imdb, \"actor_id\": all_codes, \"names\": all_actors, \"status\": all_status}"
   ]
  },
  {
   "cell_type": "code",
   "execution_count": 219,
   "metadata": {},
   "outputs": [],
   "source": [
    "movie_actor_df = pd.DataFrame(movie_actor)"
   ]
  },
  {
   "cell_type": "code",
   "execution_count": 260,
   "metadata": {},
   "outputs": [
    {
     "data": {
      "text/plain": [
       "(1807733, 4)"
      ]
     },
     "execution_count": 260,
     "metadata": {},
     "output_type": "execute_result"
    }
   ],
   "source": [
    "movie_actor_df.shape"
   ]
  },
  {
   "cell_type": "code",
   "execution_count": 221,
   "metadata": {},
   "outputs": [],
   "source": [
    "movie_actor_df = movie_actor_df.drop(movie_actor_df[movie_actor_df[\"actor_id\"] == \"\"].index)"
   ]
  },
  {
   "cell_type": "code",
   "execution_count": 222,
   "metadata": {},
   "outputs": [],
   "source": [
    "movie_actor_df = movie_actor_df.drop(movie_actor_df[movie_actor_df[\"status\"] == \"U\"].index)"
   ]
  },
  {
   "cell_type": "code",
   "execution_count": 224,
   "metadata": {},
   "outputs": [],
   "source": [
    "movie_actor_df = movie_actor_df.drop_duplicates()"
   ]
  },
  {
   "cell_type": "code",
   "execution_count": 269,
   "metadata": {},
   "outputs": [],
   "source": [
    "movie_actor_df[:1000001].drop([\"names\"], axis=1).set_index(\"movie_id\").to_csv(\"movie_actor_db1.csv\")"
   ]
  },
  {
   "cell_type": "code",
   "execution_count": 270,
   "metadata": {},
   "outputs": [],
   "source": [
    "movie_actor_df[1000001:].drop([\"names\"], axis=1).set_index(\"movie_id\").to_csv(\"movie_actor_db2.csv\")"
   ]
  },
  {
   "cell_type": "code",
   "execution_count": 257,
   "metadata": {},
   "outputs": [],
   "source": [
    "actors_df = movie_actor_df.drop([\"movie_id\", \"status\"], axis=1).drop_duplicates().sort_values([\"actor_id\"])"
   ]
  },
  {
   "cell_type": "code",
   "execution_count": 259,
   "metadata": {},
   "outputs": [],
   "source": [
    "actors_df.set_index(\"actor_id\").to_csv(\"actor_db.csv\")"
   ]
  },
  {
   "cell_type": "code",
   "execution_count": 371,
   "metadata": {},
   "outputs": [],
   "source": [
    "back = pd.read_csv(\"db_backup/actor_db.csv\")"
   ]
  },
  {
   "cell_type": "code",
   "execution_count": 379,
   "metadata": {},
   "outputs": [],
   "source": [
    "back_ids = back.actor_id.values"
   ]
  },
  {
   "cell_type": "code",
   "execution_count": 373,
   "metadata": {},
   "outputs": [],
   "source": [
    "up = pd.read_csv(\"update_db/up_actor.csv\")"
   ]
  },
  {
   "cell_type": "code",
   "execution_count": 375,
   "metadata": {},
   "outputs": [],
   "source": [
    "ids = up.actor_id.values"
   ]
  },
  {
   "cell_type": "code",
   "execution_count": 377,
   "metadata": {},
   "outputs": [],
   "source": [
    "names = up.name.values"
   ]
  },
  {
   "cell_type": "code",
   "execution_count": 380,
   "metadata": {},
   "outputs": [],
   "source": [
    "new_id = []\n",
    "new_name = []"
   ]
  },
  {
   "cell_type": "code",
   "execution_count": 382,
   "metadata": {
    "scrolled": true
   },
   "outputs": [],
   "source": [
    "for i in range(len(ids)):\n",
    "    if ids[i] not in back_ids:\n",
    "        new_id.append(ids[i])\n",
    "        new_name.append(names[i])"
   ]
  },
  {
   "cell_type": "code",
   "execution_count": 387,
   "metadata": {},
   "outputs": [],
   "source": [
    "col = {\"actor_id\":new_id, \"name\":new_name}"
   ]
  },
  {
   "cell_type": "code",
   "execution_count": 390,
   "metadata": {},
   "outputs": [],
   "source": [
    "up_actor = pd.DataFrame(col).set_index(\"actor_id\")"
   ]
  },
  {
   "cell_type": "code",
   "execution_count": 391,
   "metadata": {},
   "outputs": [],
   "source": [
    "up_actor.to_csv(\"update_db/up_actor.csv\")"
   ]
  }
 ],
 "metadata": {
  "kernelspec": {
   "display_name": "Python 3",
   "language": "python",
   "name": "python3"
  },
  "language_info": {
   "codemirror_mode": {
    "name": "ipython",
    "version": 3
   },
   "file_extension": ".py",
   "mimetype": "text/x-python",
   "name": "python",
   "nbconvert_exporter": "python",
   "pygments_lexer": "ipython3",
   "version": "3.7.6"
  }
 },
 "nbformat": 4,
 "nbformat_minor": 4
}
