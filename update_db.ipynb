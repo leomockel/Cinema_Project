{
 "cells": [
  {
   "cell_type": "code",
   "execution_count": 2,
   "metadata": {},
   "outputs": [],
   "source": [
    "import requests, csv\n",
    "from bs4 import BeautifulSoup\n",
    "import re\n",
    "import pandas as pd\n",
    "import tqdm\n",
    "import numpy as np\n",
    "from collections import OrderedDict"
   ]
  },
  {
   "cell_type": "code",
   "execution_count": 1,
   "metadata": {},
   "outputs": [],
   "source": [
    "def movie_imdb(imdb_id):\n",
    "    \n",
    "    #SELECT SYNOPSIS, GENRES, RATING, NUMBER RATE, YEAR, TITLE, ORIGINAL TITLE, COUNTRY,\n",
    "    #SELECT LANGUAGE, BUDGET\n",
    "    \n",
    "    r1 = requests.get(\"https://www.imdb.com/title/\"+imdb_id)\n",
    "    bs = BeautifulSoup(r1.text)\n",
    "    \n",
    "    # Dictionnary for title, orginal_title, rating, num_rate\n",
    "    \n",
    "    info_dict = bs.find('script', {'type': 'application/ld+json'})\n",
    "    info_dict = info_dict.text\n",
    "    info_dict = OrderedDict(eval(info_dict))\n",
    "    \n",
    "    original_title = info_dict[\"name\"]\n",
    "    \n",
    "    if original_title.find(\"&apos;\") != -1:\n",
    "        original_title = original_title.replace(\"&apos;\", \"'\")\n",
    "        \n",
    "    if original_title.find(\"&amp\") != -1:\n",
    "        original_title = original_title.replace(\"&amp\", \"&\")\n",
    "    \n",
    "    try :\n",
    "        title = info_dict[\"alternateName\"]\n",
    "    except KeyError:\n",
    "        title = info_dict[\"name\"]\n",
    "    \n",
    "    if title.find(\"&amp\") != -1:\n",
    "        title = title.replace(\"&amp\", \"&\")\n",
    "        \n",
    "    if title.find(\"&apos;\") != -1:\n",
    "        title = title.replace(\"&apos;\", \"'\")\n",
    "    \n",
    "    try :      \n",
    "        rating = info_dict['aggregateRating']['ratingValue']\n",
    "        num_rate = info_dict['aggregateRating']['ratingCount']\n",
    "    except KeyError:\n",
    "        rating = \"\"\n",
    "        num_rate = \"\"\n",
    "    \n",
    "    #Dictionnary for budget, bud_currency\n",
    "    \n",
    "    info_dict_2 = bs.findAll('script', {'id': re.compile('__NEXT_DATA__')})\n",
    "    info_dict_2 = [text.text for text in info_dict_2][0]\n",
    "    info_dict_2 = OrderedDict(eval(info_dict_2, {'null': None, 'false':None, 'true':None}))\n",
    "    info_dict_2_1 = info_dict_2['props']['urqlState']\n",
    "    \n",
    "    for key in info_dict_2_1.keys():\n",
    "        try:\n",
    "            budget = info_dict_2_1[key]['data']['title']['productionBudget']\n",
    "            def_key = key\n",
    "        except KeyError:\n",
    "            continue\n",
    "    \n",
    "    if budget == None:\n",
    "        budget = \"\"\n",
    "        bud_currency = \"\"\n",
    "    else : \n",
    "        budget = info_dict_2_1[def_key]['data']['title']['productionBudget'][\"budget\"][\"amount\"]\n",
    "        bud_currency = info_dict_2_1[def_key]['data']['title']['productionBudget'][\"budget\"][\"currency\"]\n",
    "    \n",
    "    \n",
    "    year = bs.findAll('a', {'class': re.compile('ipc-link')})\n",
    "    year = int([text.text for text in year][0].strip(\"– \"))\n",
    "    \n",
    "    genre_bs = bs.findAll('a', {'class': re.compile('ipc-metadata-list-item')})\n",
    "    genre_bs = [text.text for text in genre_bs]\n",
    "    \n",
    "    genre_list = [\"Action\", \"Adult\", \"Adventure\", \"Animation\", \"Biography\", \"Comedy\", \"Crime\", \"Documentary\", \n",
    "              \"Drama\", \"Family\", \"Fantasy\", \"Film-Noir\", \"History\", \"Horror\", \"Music\", \"Musical\", \"Mystery\", \n",
    "              \"News\", \"Reality-TV\", \"Romance\", \"Sci-Fi\", \"Short\", \"Sport\", \"Thriller\", \"War\", \"Western\"]\n",
    "    \n",
    "    genres = [genre for genre in genre_bs if genre in genre_list]\n",
    "    \n",
    "    try :\n",
    "        syn = bs.findAll('div', {'class': 'ipc-html-content ipc-html-content--base'})[0]\n",
    "        syn = [text.text for text in syn]\n",
    "        synopsis = syn[0].split(\" —\")[0]\n",
    "    except IndexError:\n",
    "        synopsis = \"\"\n",
    "    \n",
    "    \n",
    "    countries = bs.findAll('a', {'href': re.compile('country_of_origin')})\n",
    "    if len(countries) == 0:\n",
    "        country = ['None']\n",
    "    else:\n",
    "        country = [\"USA\" if text.text == \"United States\" else \"UK\" if text.text == \"United Kingdom\" \\\n",
    "                    else text.text for text in countries]\n",
    "    \n",
    "    \n",
    "    \n",
    "    language = bs.findAll('a', {'href': re.compile('primary_language')})\n",
    "    if len(language) == 0:\n",
    "        language = [\"No Info\"]\n",
    "    else : \n",
    "        language = [text.text for text in language]\n",
    "    \n",
    "      \n",
    "    #SELECT CASTING, DIRECTOR, WRITERS\n",
    "    \n",
    "    r2 = requests.get(\"https://www.imdb.com/title/\"+imdb_id+\"/fullcredits\")\n",
    "    bs2 = BeautifulSoup(r2.text)\n",
    "\n",
    "    #select casting\n",
    "    cast_list = bs2.find_all('table', {'class': 'cast_list'})\n",
    "    if cast_list == None or cast_list == []:\n",
    "        cast = [\"\"]\n",
    "        cast_code = [\"\"]\n",
    "    else :\n",
    "        cast_list_test = bs2.find('table', {'class': 'cast_list'}).find_all('td', {'class':'primary_photo'})\n",
    "        if len(cast_list_test) >= 30 : \n",
    "            cast = [str(cast_list).split('img alt=\"')[i].split('\" class=\"')[0] for i in range(1,31)]\n",
    "            cast_code = [str(cast_list_test).split('/name/')[i].split('/\">')[0] for i in range(1,31)]\n",
    "        else : \n",
    "            cast = [str(cast_list).split('img alt=\"')[i].split('\" class=\"')[0] \\\n",
    "                    for i in range(1,len(cast_list_test)+1)]\n",
    "            cast_code = [str(cast_list_test).split('/name/')[i].split('/\">')[0] \\\n",
    "                          for i in range(1,len(cast_list_test)+1)]\n",
    "    \n",
    "    #select director\n",
    "    test_dir = bs2.find('h4', {'id':'director'})\n",
    "    if test_dir == None:\n",
    "        director = [\"\"]\n",
    "        dir_code = [\"\"]\n",
    "    else : \n",
    "        direct = bs2.find('table', {'class': 'simpleTable simpleCreditsTable'}) \\\n",
    "                .find_all('td', {'class': 'name'})\n",
    "        direct_t = [text.text for text in direct]\n",
    "        director = [i.strip() for i in direct_t]\n",
    "        dir_code = [(str(direct).split('href=\"/name/')[i+1]).split('/\"> ')[0] for i in range(len(director))]\n",
    "    \n",
    "    #SELECT RUNTIME\n",
    "    \n",
    "    r3 = requests.get(\"https://www.imdb.com/title/\"+imdb_id+\"/technical\")\n",
    "    bs3 = BeautifulSoup(r3.text)\n",
    "\n",
    "    time = bs3.find('table', {'class': 'dataTable labelValueTable'}).find_all('tr', {'class': 'odd'})\n",
    "    runtime = [text.text for text in time]\n",
    "    try:\n",
    "        if (\"min (\" in (runtime[0].strip())) and (\" min)\" in (runtime[0].strip())):\n",
    "            duration = int((runtime[0].strip().split(\"min (\")[1]).split(\" min)\")[0])\n",
    "        elif \"hr (\" in (runtime[0].strip()): \n",
    "            duration = int((runtime[0].strip().split(\"hr (\")[1]).split(\" min)\")[0])\n",
    "        else :\n",
    "            duration = int((runtime[0].strip().split(\"Runtime\")[1]).split(\" min\")[0])\n",
    "    except (ValueError, IndexError):\n",
    "        duration = \"\"\n",
    "        \n",
    "        \n",
    "    #SELECT PRODUCTION\n",
    "    \n",
    "    r4 = requests.get(\"https://www.imdb.com/title/\"+imdb_id+\"/companycredits\")\n",
    "    bs4 = BeautifulSoup(r4.content)\n",
    "    test = bs4.find('h4', {'id': 'production'})\n",
    "    if test == None:\n",
    "        production = [\"\"]\n",
    "        prod_code = [\"\"]\n",
    "    else : \n",
    "        prod_list = bs4.find('ul', {'class': 'simpleList'}).find_all(\"li\")\n",
    "        prod_t = [text.text.strip() for text in prod_list]\n",
    "        production = [pro.split(\"   \")[0] if \"   \" in pro else pro for pro in prod_t]\n",
    "        \n",
    "        prod_code = [(str(i).split(\"pany/\")[1]).split('\">')[0] for i in prod_list]\n",
    "        \n",
    "    if rating != \"\":\n",
    "        return imdb_id, title, original_title, year, director, dir_code, cast, cast_code, genres, duration, \\\n",
    "        country, language, production, prod_code, synopsis, rating, num_rate, budget, bud_currency\n",
    "    else:\n",
    "        return imdb_id,\"\",\"\",\"\",\"\",\"\",\"\",\"\",\"\",\"\",\"\",\"\",\"\",\"\",\"\",\"\",\"\",\"\",\"\""
   ]
  },
  {
   "cell_type": "code",
   "execution_count": 3,
   "metadata": {},
   "outputs": [],
   "source": [
    "df = pd.read_excel('movies_to_scrap/to_scrap.xlsx')"
   ]
  },
  {
   "cell_type": "code",
   "execution_count": 3,
   "metadata": {},
   "outputs": [],
   "source": [
    "df = pd.read_csv('movies_to_scrap/scrap_it.csv')"
   ]
  },
  {
   "cell_type": "code",
   "execution_count": 4,
   "metadata": {},
   "outputs": [],
   "source": [
    "imdb_id = df[\"imdb\"].values"
   ]
  },
  {
   "cell_type": "code",
   "execution_count": 5,
   "metadata": {},
   "outputs": [],
   "source": [
    "db_df = pd.read_csv('new_sql/movies_sql.csv')"
   ]
  },
  {
   "cell_type": "code",
   "execution_count": 6,
   "metadata": {},
   "outputs": [],
   "source": [
    "imdb_db = db_df[\"imdb_id\"].values"
   ]
  },
  {
   "cell_type": "code",
   "execution_count": null,
   "metadata": {},
   "outputs": [],
   "source": [
    "final_imdb = [i for i in imdb_id if i not in imdb_db]"
   ]
  },
  {
   "cell_type": "code",
   "execution_count": 10,
   "metadata": {},
   "outputs": [],
   "source": [
    "movies = []"
   ]
  },
  {
   "cell_type": "code",
   "execution_count": 12,
   "metadata": {
    "scrolled": true
   },
   "outputs": [
    {
     "name": "stderr",
     "output_type": "stream",
     "text": [
      "100%|██████████| 17/17 [01:05<00:00,  3.87s/it]\n"
     ]
    }
   ],
   "source": [
    "for movie in tqdm.tqdm(final_imdb):\n",
    "    movies.append(movie_imdb(movie))"
   ]
  },
  {
   "cell_type": "code",
   "execution_count": null,
   "metadata": {},
   "outputs": [],
   "source": [
    "movie_df = pd.DataFrame(movies)"
   ]
  },
  {
   "cell_type": "code",
   "execution_count": 329,
   "metadata": {},
   "outputs": [],
   "source": [
    "movie_keep = movie_df.drop(movie_df[movie_df[3] == \"\"].index)\n",
    "too_soon = pd.DataFrame(movie_df[0].drop(movie_df[movie_df[3] != \"\"].index).values, columns = ['imdb_id'])"
   ]
  },
  {
   "cell_type": "code",
   "execution_count": null,
   "metadata": {},
   "outputs": [],
   "source": [
    "too_soon.to_csv('movies_to_scrap/too_soon.csv')"
   ]
  },
  {
   "cell_type": "markdown",
   "metadata": {},
   "source": [
    "## Lists of data"
   ]
  },
  {
   "cell_type": "code",
   "execution_count": 20,
   "metadata": {},
   "outputs": [],
   "source": [
    "imdb = list(movie_keep[0].values)\n",
    "title = list(movie_keep[1].values)\n",
    "original_title = list(movie_keep[2].values)\n",
    "year = list(movie_keep[3].values)\n",
    "director = list(movie_keep[4].values)\n",
    "dir_code = list(movie_keep[5].values)\n",
    "cast = list(movie_keep[6].values)\n",
    "cast_code = list(movie_keep[7].values)\n",
    "genres = list(movie_keep[8].values)\n",
    "duration = list(movie_keep[9].values)\n",
    "country = list(movie_keep[10].values)\n",
    "language = list(movie_keep[11].values)\n",
    "production = list(movie_keep[12].values)\n",
    "prod_code = list(movie_keep[13].values)\n",
    "synopsis = list(movie_keep[14].values)\n",
    "rating = list(movie_keep[15].values)\n",
    "num_rate = list(movie_keep[16].values)\n",
    "budget = list(movie_keep[17].values)\n",
    "bud_currency = list(movie_keep[18].values)"
   ]
  },
  {
   "cell_type": "code",
   "execution_count": 21,
   "metadata": {},
   "outputs": [],
   "source": [
    "saw = [\"\" for i in range(len(imdb))]"
   ]
  },
  {
   "cell_type": "markdown",
   "metadata": {},
   "source": [
    "## Update country_sql"
   ]
  },
  {
   "cell_type": "code",
   "execution_count": 22,
   "metadata": {},
   "outputs": [],
   "source": [
    "state_df = pd.read_csv('new_sql/country_sql.csv')"
   ]
  },
  {
   "cell_type": "code",
   "execution_count": 23,
   "metadata": {},
   "outputs": [],
   "source": [
    "code_state = list(state_df.id.values)\n",
    "countries = list(state_df.country.values)"
   ]
  },
  {
   "cell_type": "code",
   "execution_count": 24,
   "metadata": {},
   "outputs": [],
   "source": [
    "max_country_id = max(code_state)"
   ]
  },
  {
   "cell_type": "code",
   "execution_count": 25,
   "metadata": {},
   "outputs": [],
   "source": [
    "update_state = [country[i][j] for i in range(len(country)) for j in range(len(country[i])) \\\n",
    "                if country[i][j] not in countries]"
   ]
  },
  {
   "cell_type": "code",
   "execution_count": 26,
   "metadata": {},
   "outputs": [],
   "source": [
    "update_state_code = []"
   ]
  },
  {
   "cell_type": "code",
   "execution_count": 27,
   "metadata": {},
   "outputs": [],
   "source": [
    "for i in range(len(country)): \n",
    "    for j in range(len(country[i])):\n",
    "        if country[i][j] not in countries:\n",
    "            update_state_code.append(max_country_id + 1)\n",
    "            max_country_id += 1"
   ]
  },
  {
   "cell_type": "code",
   "execution_count": 28,
   "metadata": {},
   "outputs": [],
   "source": [
    "state_data = {\"id\": update_state_code, \"country\": update_state}"
   ]
  },
  {
   "cell_type": "code",
   "execution_count": 29,
   "metadata": {},
   "outputs": [],
   "source": [
    "up_country = pd.DataFrame(state_data).set_index(\"id\")"
   ]
  },
  {
   "cell_type": "code",
   "execution_count": 42,
   "metadata": {},
   "outputs": [],
   "source": [
    "up_country.to_csv(\"update_sql/up_country.csv\")"
   ]
  },
  {
   "cell_type": "markdown",
   "metadata": {},
   "source": [
    "## Update language_sql"
   ]
  },
  {
   "cell_type": "code",
   "execution_count": 31,
   "metadata": {},
   "outputs": [],
   "source": [
    "lan_df = pd.read_csv('new_sql/language_sql.csv')"
   ]
  },
  {
   "cell_type": "code",
   "execution_count": 32,
   "metadata": {},
   "outputs": [],
   "source": [
    "code_lan = list(lan_df.id.values)\n",
    "lan = list(lan_df.language.values)"
   ]
  },
  {
   "cell_type": "code",
   "execution_count": 33,
   "metadata": {},
   "outputs": [],
   "source": [
    "max_language_id = max(code_lan)"
   ]
  },
  {
   "cell_type": "code",
   "execution_count": 34,
   "metadata": {},
   "outputs": [],
   "source": [
    "update_lan = [language[i][j] for i in range(len(language)) for j in range(len(language[i])) \\\n",
    "                if language[i][j] not in lan and language[i][j] != \"\"]"
   ]
  },
  {
   "cell_type": "code",
   "execution_count": 35,
   "metadata": {},
   "outputs": [],
   "source": [
    "update_lan_code = []"
   ]
  },
  {
   "cell_type": "code",
   "execution_count": 36,
   "metadata": {},
   "outputs": [],
   "source": [
    "for i in range(len(language)): \n",
    "    for j in range(len(language[i])):\n",
    "        if language[i][j] not in lan and language[i][j] != \"\":\n",
    "            update_lan_code.append(max_language_id + 1)\n",
    "            max_language_id += 1"
   ]
  },
  {
   "cell_type": "code",
   "execution_count": 38,
   "metadata": {},
   "outputs": [],
   "source": [
    "lan_data = {\"id\": update_lan_code, \"language\": update_lan}"
   ]
  },
  {
   "cell_type": "code",
   "execution_count": 39,
   "metadata": {},
   "outputs": [],
   "source": [
    "up_language = pd.DataFrame(lan_data).set_index(\"id\")"
   ]
  },
  {
   "cell_type": "code",
   "execution_count": 40,
   "metadata": {},
   "outputs": [],
   "source": [
    "up_language.to_csv(\"update_sql/up_language.csv\")"
   ]
  },
  {
   "cell_type": "markdown",
   "metadata": {},
   "source": [
    "## Creation of genre_code, country_code and language_code for data"
   ]
  },
  {
   "cell_type": "code",
   "execution_count": 43,
   "metadata": {},
   "outputs": [],
   "source": [
    "genre_df = pd.read_csv(\"new_sql/genre_sql.csv\")\n",
    "country_df = pd.read_csv(\"new_sql/country_sql.csv\")\n",
    "language_df = pd.read_csv(\"new_sql/language_sql.csv\")\n",
    "\n",
    "country_df2 = pd.read_csv(\"update_sql/up_country.csv\")\n",
    "language_df2 = pd.read_csv(\"update_sql/up_language.csv\")"
   ]
  },
  {
   "cell_type": "code",
   "execution_count": 44,
   "metadata": {},
   "outputs": [],
   "source": [
    "country_df = pd.concat([country_df, country_df2])"
   ]
  },
  {
   "cell_type": "code",
   "execution_count": 45,
   "metadata": {},
   "outputs": [],
   "source": [
    "language_df = pd.concat([language_df, language_df2])"
   ]
  },
  {
   "cell_type": "code",
   "execution_count": 46,
   "metadata": {
    "scrolled": true
   },
   "outputs": [],
   "source": [
    "genre_code = [genre_df.id.values[list(genre_df.genre.values).index(genres[i][j])] \\\n",
    "             for i in range(len(genres)) for j in range(len(genres[i]))]\n",
    "\n",
    "country_code = [country_df.id.values[list(country_df.country.values).index(country[i][j])] \\\n",
    "                for i in range(len(country)) for j in range(len(country[i]))]\n",
    "\n",
    "language_code = [language_df.id.values[list(language_df.language.values).index(language[i][j])] \\\n",
    "                 for i in range(len(language)) for j in range(len(language[i]))]"
   ]
  },
  {
   "cell_type": "markdown",
   "metadata": {},
   "source": [
    "## Make change of currencies"
   ]
  },
  {
   "cell_type": "code",
   "execution_count": 47,
   "metadata": {},
   "outputs": [],
   "source": [
    "changer = pd.read_excel(\"currency_change.xlsx\")"
   ]
  },
  {
   "cell_type": "code",
   "execution_count": 48,
   "metadata": {},
   "outputs": [],
   "source": [
    "def_budget = []"
   ]
  },
  {
   "cell_type": "code",
   "execution_count": 49,
   "metadata": {
    "scrolled": true
   },
   "outputs": [],
   "source": [
    "for i in range(len(bud_currency)):\n",
    "    if bud_currency[i] == \"\":\n",
    "        def_budget.append(\"\")\n",
    "    else:\n",
    "        def_budget.append(int(budget[i] * changer[\"Change\"].values[list(changer.Currencies.values).index(bud_currency[i])]))"
   ]
  },
  {
   "cell_type": "markdown",
   "metadata": {},
   "source": [
    "## Update selection_film"
   ]
  },
  {
   "cell_type": "markdown",
   "metadata": {},
   "source": [
    "#### List to string for directors, actors, genres, countries, language, production"
   ]
  },
  {
   "cell_type": "code",
   "execution_count": 50,
   "metadata": {},
   "outputs": [],
   "source": [
    "dict_dir = {}\n",
    "dict_cast = {}\n",
    "dict_genre = {}\n",
    "dict_country = {}\n",
    "dict_language = {}\n",
    "dict_prod = {}"
   ]
  },
  {
   "cell_type": "code",
   "execution_count": 51,
   "metadata": {},
   "outputs": [],
   "source": [
    "temp_dir = []\n",
    "temp_cast = []\n",
    "temp_genre = []\n",
    "temp_country = []\n",
    "temp_language = []\n",
    "temp_prod = []"
   ]
  },
  {
   "cell_type": "code",
   "execution_count": 52,
   "metadata": {},
   "outputs": [],
   "source": [
    "ids = imdb[0]"
   ]
  },
  {
   "cell_type": "code",
   "execution_count": 53,
   "metadata": {},
   "outputs": [],
   "source": [
    "for i in range(len(imdb)):\n",
    "    for j in range(len(director[i])):\n",
    "        if ids == imdb[i]:\n",
    "            temp_dir.append(director[i][j]) \n",
    "        elif ids != imdb[i]:\n",
    "            dict_dir[ids] = \" | \".join(temp_dir)\n",
    "            ids = imdb[i]\n",
    "            temp_dir = []\n",
    "            temp_dir.append(director[i][j])\n",
    "    dict_dir[ids] = \" | \".join(temp_dir)"
   ]
  },
  {
   "cell_type": "code",
   "execution_count": 54,
   "metadata": {},
   "outputs": [],
   "source": [
    "ids = imdb[0]"
   ]
  },
  {
   "cell_type": "code",
   "execution_count": 55,
   "metadata": {},
   "outputs": [],
   "source": [
    "for i in range(len(imdb)):\n",
    "    for j in range(len(cast[i])):\n",
    "        if ids == imdb[i]:\n",
    "            temp_cast.append(cast[i][j])\n",
    "        elif ids != imdb[i]:\n",
    "            dict_cast[ids] = \" | \".join(temp_cast)\n",
    "            ids = imdb[i]\n",
    "            temp_cast = []\n",
    "            temp_cast.append(cast[i][j])\n",
    "    dict_cast[ids] = \" | \".join(temp_cast)"
   ]
  },
  {
   "cell_type": "code",
   "execution_count": 117,
   "metadata": {},
   "outputs": [],
   "source": [
    "ids = imdb[0]"
   ]
  },
  {
   "cell_type": "code",
   "execution_count": 56,
   "metadata": {},
   "outputs": [],
   "source": [
    "for i in range(len(imdb)):\n",
    "    for j in range(len(genres[i])):\n",
    "        if ids == imdb[i]:\n",
    "            temp_genre.append(genres[i][j])\n",
    "        elif ids != imdb[i]:\n",
    "            dict_genre[ids] = \" | \".join(temp_genre)\n",
    "            ids = imdb[i]\n",
    "            temp_genre = []\n",
    "            temp_genre.append(genres[i][j])\n",
    "    dict_genre[ids] = \" | \".join(temp_genre)"
   ]
  },
  {
   "cell_type": "code",
   "execution_count": 57,
   "metadata": {},
   "outputs": [],
   "source": [
    "ids = imdb[0]"
   ]
  },
  {
   "cell_type": "code",
   "execution_count": 58,
   "metadata": {},
   "outputs": [],
   "source": [
    "for i in range(len(imdb)):\n",
    "    for j in range(len(country[i])):\n",
    "        if ids == imdb[i]:\n",
    "            temp_country.append(country[i][j])\n",
    "        elif ids != imdb[i]:\n",
    "            dict_country[ids] = \" | \".join(temp_country)\n",
    "            ids = imdb[i]\n",
    "            temp_country = []\n",
    "            temp_country.append(country[i][j])\n",
    "    dict_country[ids] = \" | \".join(temp_country)"
   ]
  },
  {
   "cell_type": "code",
   "execution_count": 59,
   "metadata": {},
   "outputs": [],
   "source": [
    "ids = imdb[0]"
   ]
  },
  {
   "cell_type": "code",
   "execution_count": 60,
   "metadata": {},
   "outputs": [],
   "source": [
    "for i in range(len(imdb)):\n",
    "    for j in range(len(language[i])):\n",
    "        if ids == imdb[i]:\n",
    "            temp_language.append(language[i][j])\n",
    "        elif ids != imdb[i]:\n",
    "            dict_language[ids] = \" | \".join(temp_language)\n",
    "            ids = imdb[i]\n",
    "            temp_language = []\n",
    "            temp_language.append(language[i][j])\n",
    "    dict_language[ids] = \" | \".join(temp_language)"
   ]
  },
  {
   "cell_type": "code",
   "execution_count": 61,
   "metadata": {},
   "outputs": [],
   "source": [
    "ids = imdb[0]"
   ]
  },
  {
   "cell_type": "code",
   "execution_count": 62,
   "metadata": {},
   "outputs": [],
   "source": [
    "for i in range(len(imdb)):\n",
    "    for j in range(len(production[i])):\n",
    "        if ids == imdb[i]:\n",
    "            temp_prod.append(production[i][j])\n",
    "        elif ids != imdb[i]:\n",
    "            dict_prod[ids] = \" | \".join(temp_prod)\n",
    "            ids = imdb[i]\n",
    "            temp_prod = []\n",
    "            temp_prod.append(production[i][j])\n",
    "    dict_prod[ids] = \" | \".join(temp_prod)"
   ]
  },
  {
   "cell_type": "markdown",
   "metadata": {},
   "source": [
    "#### Put data in a dataframe"
   ]
  },
  {
   "cell_type": "code",
   "execution_count": 63,
   "metadata": {},
   "outputs": [],
   "source": [
    "select_data = {\"imdb_id\": imdb, \"vu\": saw, \"à voir\": saw, \"title\": title, \"original_title\": original_title, \\\n",
    "               \"year\": year, \"director\": list(dict_dir.values()), \"casting\": list(dict_cast.values()), \\\n",
    "               \"genres\": list(dict_genre.values()), \"duration\": duration, \\\n",
    "               \"country\": list(dict_country.values()), \"language\": list(dict_language.values()), \\\n",
    "               \"production\": list(dict_prod.values()), \"synopsis\": synopsis, \"rating\": rating, \\\n",
    "               \"num_rate\": num_rate, \"budget\": def_budget}"
   ]
  },
  {
   "cell_type": "code",
   "execution_count": 64,
   "metadata": {},
   "outputs": [],
   "source": [
    "select = pd.DataFrame(select_data).set_index(\"imdb_id\")"
   ]
  },
  {
   "cell_type": "code",
   "execution_count": 65,
   "metadata": {},
   "outputs": [],
   "source": [
    "select.to_csv(\"movies_scraped.csv\")"
   ]
  },
  {
   "cell_type": "markdown",
   "metadata": {},
   "source": [
    "## Update movie_sql"
   ]
  },
  {
   "cell_type": "code",
   "execution_count": 66,
   "metadata": {},
   "outputs": [],
   "source": [
    "movie_data = {\"imdb_id\": imdb, \"title\": title, \"original_title\": original_title, \"year\": year, \\\n",
    "               \"duration\": duration, \"rating\": rating, \"num_rate\": num_rate, \"budget\": def_budget, \\\n",
    "               \"synopsis\": synopsis}"
   ]
  },
  {
   "cell_type": "code",
   "execution_count": 67,
   "metadata": {},
   "outputs": [],
   "source": [
    "up_movie = pd.DataFrame(movie_data).set_index(\"imdb_id\")"
   ]
  },
  {
   "cell_type": "code",
   "execution_count": 68,
   "metadata": {},
   "outputs": [],
   "source": [
    "up_movie.to_csv(\"update_sql/up_movie.csv\")"
   ]
  },
  {
   "cell_type": "markdown",
   "metadata": {},
   "source": [
    "## Update actor_sql"
   ]
  },
  {
   "cell_type": "code",
   "execution_count": 69,
   "metadata": {},
   "outputs": [],
   "source": [
    "actor_df = pd.read_csv('new_sql/actor_sql.csv')"
   ]
  },
  {
   "cell_type": "code",
   "execution_count": 70,
   "metadata": {},
   "outputs": [],
   "source": [
    "code_actor = list(actor_df.code.values)"
   ]
  },
  {
   "cell_type": "code",
   "execution_count": 71,
   "metadata": {},
   "outputs": [],
   "source": [
    "update_cast_code = []\n",
    "update_cast = []"
   ]
  },
  {
   "cell_type": "code",
   "execution_count": 72,
   "metadata": {},
   "outputs": [],
   "source": [
    "for i in range(len(cast_code)): \n",
    "    for j in range(len(cast_code[i])):\n",
    "        if cast_code[i][j] not in code_actor:\n",
    "            update_cast_code.append(cast_code[i][j])\n",
    "            update_cast.append(cast[i][j])\n",
    "            code_actor.append(cast_code[i][j])"
   ]
  },
  {
   "cell_type": "code",
   "execution_count": 73,
   "metadata": {},
   "outputs": [],
   "source": [
    "actor_data = {\"code\": update_cast_code, \"casting\": update_cast}"
   ]
  },
  {
   "cell_type": "code",
   "execution_count": 74,
   "metadata": {},
   "outputs": [],
   "source": [
    "up_actor = pd.DataFrame(actor_data).set_index(\"code\")"
   ]
  },
  {
   "cell_type": "code",
   "execution_count": 75,
   "metadata": {},
   "outputs": [],
   "source": [
    "if len(update_cast) > 0:\n",
    "    up_actor.to_csv(\"update_sql/up_actor.csv\")"
   ]
  },
  {
   "cell_type": "markdown",
   "metadata": {},
   "source": [
    "## Update director_sql"
   ]
  },
  {
   "cell_type": "code",
   "execution_count": 76,
   "metadata": {},
   "outputs": [],
   "source": [
    "dir_df = pd.read_csv('new_sql/director_sql.csv')"
   ]
  },
  {
   "cell_type": "code",
   "execution_count": 77,
   "metadata": {},
   "outputs": [],
   "source": [
    "code_dir = list(dir_df.code_name.values)"
   ]
  },
  {
   "cell_type": "code",
   "execution_count": 78,
   "metadata": {},
   "outputs": [],
   "source": [
    "update_dir_code = []\n",
    "update_dir = []"
   ]
  },
  {
   "cell_type": "code",
   "execution_count": 79,
   "metadata": {},
   "outputs": [],
   "source": [
    "for i in range(len(dir_code)): \n",
    "    for j in range(len(dir_code[i])):\n",
    "        if dir_code[i][j] not in code_dir:\n",
    "            update_dir_code.append(dir_code[i][j])\n",
    "            update_dir.append(director[i][j])\n",
    "            code_dir.append(dir_code[i][j])"
   ]
  },
  {
   "cell_type": "code",
   "execution_count": 80,
   "metadata": {},
   "outputs": [],
   "source": [
    "dir_data = {\"code\": update_dir_code, \"director\": update_dir}"
   ]
  },
  {
   "cell_type": "code",
   "execution_count": 81,
   "metadata": {},
   "outputs": [],
   "source": [
    "up_dir = pd.DataFrame(dir_data).set_index(\"code\")"
   ]
  },
  {
   "cell_type": "code",
   "execution_count": 82,
   "metadata": {},
   "outputs": [],
   "source": [
    "if len(update_dir) > 0:\n",
    "    up_dir.to_csv(\"update_sql/up_dir.csv\")"
   ]
  },
  {
   "cell_type": "markdown",
   "metadata": {},
   "source": [
    "## Update production_sql"
   ]
  },
  {
   "cell_type": "code",
   "execution_count": 83,
   "metadata": {},
   "outputs": [],
   "source": [
    "prod_df = pd.read_csv('new_sql/production_sql.csv')"
   ]
  },
  {
   "cell_type": "code",
   "execution_count": 84,
   "metadata": {},
   "outputs": [],
   "source": [
    "code_prod = list(prod_df.prod_code.values)"
   ]
  },
  {
   "cell_type": "code",
   "execution_count": 85,
   "metadata": {},
   "outputs": [],
   "source": [
    "update_prod_code = []\n",
    "update_prod = []"
   ]
  },
  {
   "cell_type": "code",
   "execution_count": 86,
   "metadata": {},
   "outputs": [],
   "source": [
    "for i in range(len(prod_code)): \n",
    "    for j in range(len(prod_code[i])):\n",
    "        if prod_code[i][j] not in code_prod:\n",
    "            update_prod_code.append(prod_code[i][j])\n",
    "            update_prod.append(production[i][j])\n",
    "            code_prod.append(prod_code[i][j])"
   ]
  },
  {
   "cell_type": "code",
   "execution_count": 87,
   "metadata": {},
   "outputs": [],
   "source": [
    "prod_data = {\"code\": update_prod_code, \"production\": update_prod}"
   ]
  },
  {
   "cell_type": "code",
   "execution_count": 88,
   "metadata": {},
   "outputs": [],
   "source": [
    "up_prod = pd.DataFrame(prod_data).set_index(\"code\")"
   ]
  },
  {
   "cell_type": "code",
   "execution_count": 89,
   "metadata": {},
   "outputs": [],
   "source": [
    "if len(update_prod) > 0:\n",
    "    up_prod.to_csv(\"update_sql/up_prod.csv\")"
   ]
  },
  {
   "cell_type": "markdown",
   "metadata": {},
   "source": [
    "## Update movie_dir_sql"
   ]
  },
  {
   "cell_type": "code",
   "execution_count": 90,
   "metadata": {},
   "outputs": [],
   "source": [
    "dir_imdb = [imdb[i] for i in range(len(imdb)) for j in range(len(dir_code[i]))]\n",
    "all_dir = [dir_code[i][j] for i in range(len(imdb)) for j in range(len(dir_code[i]))]"
   ]
  },
  {
   "cell_type": "code",
   "execution_count": 91,
   "metadata": {},
   "outputs": [],
   "source": [
    "movie_dir_data = {\"imdb_id\": dir_imdb, \"code\": all_dir}"
   ]
  },
  {
   "cell_type": "code",
   "execution_count": 92,
   "metadata": {},
   "outputs": [],
   "source": [
    "up_movie_dir = pd.DataFrame(movie_dir_data)"
   ]
  },
  {
   "cell_type": "code",
   "execution_count": null,
   "metadata": {},
   "outputs": [],
   "source": [
    "up_movie_dir = up_movie_dir.drop(up_movie_dir[up_movie_dir[\"code\"] == \"\"].index).set_index(\"imdb_id\")"
   ]
  },
  {
   "cell_type": "code",
   "execution_count": 93,
   "metadata": {},
   "outputs": [],
   "source": [
    "up_movie_dir.to_csv(\"update_sql/up_movie_dir.csv\")"
   ]
  },
  {
   "cell_type": "markdown",
   "metadata": {},
   "source": [
    "## Update movie_actor_sql"
   ]
  },
  {
   "cell_type": "code",
   "execution_count": 94,
   "metadata": {},
   "outputs": [],
   "source": [
    "cast_imdb = [imdb[i] for i in range(len(imdb)) for j in range(len(cast_code[i]))]\n",
    "all_actor = [cast_code[i][j] for i in range(len(imdb)) for j in range(len(cast_code[i]))]"
   ]
  },
  {
   "cell_type": "code",
   "execution_count": 95,
   "metadata": {},
   "outputs": [],
   "source": [
    "movie_cast_data = {\"imdb_id\": cast_imdb, \"code\": all_actor}"
   ]
  },
  {
   "cell_type": "code",
   "execution_count": 96,
   "metadata": {},
   "outputs": [],
   "source": [
    "up_movie_cast = pd.DataFrame(movie_cast_data)"
   ]
  },
  {
   "cell_type": "code",
   "execution_count": null,
   "metadata": {},
   "outputs": [],
   "source": [
    "up_movie_cast = up_movie_cast.drop(up_movie_cast[up_movie_cast[\"code\"] == \"\"].index).set_index(\"imdb_id\")"
   ]
  },
  {
   "cell_type": "code",
   "execution_count": 97,
   "metadata": {},
   "outputs": [],
   "source": [
    "up_movie_cast.to_csv(\"update_sql/up_movie_cast.csv\")"
   ]
  },
  {
   "cell_type": "markdown",
   "metadata": {},
   "source": [
    "## Update movie_prod_sql"
   ]
  },
  {
   "cell_type": "code",
   "execution_count": 98,
   "metadata": {},
   "outputs": [],
   "source": [
    "prod_imdb = [imdb[i] for i in range(len(imdb)) for j in range(len(prod_code[i]))]\n",
    "all_prod = [prod_code[i][j] for i in range(len(imdb)) for j in range(len(prod_code[i]))]"
   ]
  },
  {
   "cell_type": "code",
   "execution_count": 99,
   "metadata": {},
   "outputs": [],
   "source": [
    "movie_prod_data = {\"imdb_id\": prod_imdb, \"code\": all_prod}"
   ]
  },
  {
   "cell_type": "code",
   "execution_count": 100,
   "metadata": {},
   "outputs": [],
   "source": [
    "up_movie_prod = pd.DataFrame(movie_prod_data)"
   ]
  },
  {
   "cell_type": "code",
   "execution_count": null,
   "metadata": {},
   "outputs": [],
   "source": [
    "up_movie_prod = up_movie_prod.drop(up_movie_prod[up_movie_prod[\"code\"] == \"\"].index).set_index(\"imdb_id\")"
   ]
  },
  {
   "cell_type": "code",
   "execution_count": 101,
   "metadata": {},
   "outputs": [],
   "source": [
    "up_movie_prod.to_csv(\"update_sql/up_movie_prod.csv\")"
   ]
  },
  {
   "cell_type": "markdown",
   "metadata": {},
   "source": [
    "## Update movie_genre_sql"
   ]
  },
  {
   "cell_type": "code",
   "execution_count": 102,
   "metadata": {},
   "outputs": [],
   "source": [
    "genre_imdb = [imdb[i] for i in range(len(imdb)) for j in range(len(genres[i]))]"
   ]
  },
  {
   "cell_type": "code",
   "execution_count": 103,
   "metadata": {},
   "outputs": [],
   "source": [
    "movie_genre_data = {\"imdb_id\": genre_imdb, \"code\": genre_code}"
   ]
  },
  {
   "cell_type": "code",
   "execution_count": 104,
   "metadata": {},
   "outputs": [],
   "source": [
    "up_movie_genre = pd.DataFrame(movie_genre_data)"
   ]
  },
  {
   "cell_type": "code",
   "execution_count": null,
   "metadata": {},
   "outputs": [],
   "source": [
    "up_movie_genre = up_movie_genre.drop(up_movie_genre[up_movie_genre[\"code\"] == \"\"].index).set_index(\"imdb_id\")"
   ]
  },
  {
   "cell_type": "code",
   "execution_count": 105,
   "metadata": {},
   "outputs": [],
   "source": [
    "up_movie_genre.to_csv(\"update_sql/up_movie_genre.csv\")"
   ]
  },
  {
   "cell_type": "markdown",
   "metadata": {},
   "source": [
    "## Update movie_country_sql"
   ]
  },
  {
   "cell_type": "code",
   "execution_count": 106,
   "metadata": {},
   "outputs": [],
   "source": [
    "country_imdb = [imdb[i] for i in range(len(imdb)) for j in range(len(country[i]))]"
   ]
  },
  {
   "cell_type": "code",
   "execution_count": 107,
   "metadata": {},
   "outputs": [],
   "source": [
    "movie_country_data = {\"imdb_id\": country_imdb, \"code\": country_code}"
   ]
  },
  {
   "cell_type": "code",
   "execution_count": 108,
   "metadata": {},
   "outputs": [],
   "source": [
    "up_movie_country = pd.DataFrame(movie_country_data)"
   ]
  },
  {
   "cell_type": "code",
   "execution_count": null,
   "metadata": {},
   "outputs": [],
   "source": [
    "up_movie_country = up_movie_country.drop(up_movie_country[up_movie_country[\"code\"] == \"\"].index).set_index(\"imdb_id\")"
   ]
  },
  {
   "cell_type": "code",
   "execution_count": 109,
   "metadata": {},
   "outputs": [],
   "source": [
    "up_movie_country.to_csv(\"update_sql/up_movie_country.csv\")"
   ]
  },
  {
   "cell_type": "markdown",
   "metadata": {},
   "source": [
    "## Update movie_language_sql"
   ]
  },
  {
   "cell_type": "code",
   "execution_count": 110,
   "metadata": {},
   "outputs": [],
   "source": [
    "language_imdb = [imdb[i] for i in range(len(imdb)) for j in range(len(language[i]))]"
   ]
  },
  {
   "cell_type": "code",
   "execution_count": 111,
   "metadata": {},
   "outputs": [],
   "source": [
    "movie_language_data = {\"imdb_id\": language_imdb, \"code\": language_code}"
   ]
  },
  {
   "cell_type": "code",
   "execution_count": 112,
   "metadata": {},
   "outputs": [],
   "source": [
    "up_movie_language = pd.DataFrame(movie_language_data)"
   ]
  },
  {
   "cell_type": "code",
   "execution_count": null,
   "metadata": {},
   "outputs": [],
   "source": [
    "up_movie_language = up_movie_language.drop(up_movie_language[up_movie_language[\"code\"] == \"\"].index).set_index(\"imdb_id\")"
   ]
  },
  {
   "cell_type": "code",
   "execution_count": 113,
   "metadata": {},
   "outputs": [],
   "source": [
    "up_movie_language.to_csv(\"update_sql/up_movie_language.csv\")"
   ]
  },
  {
   "cell_type": "code",
   "execution_count": null,
   "metadata": {},
   "outputs": [],
   "source": []
  }
 ],
 "metadata": {
  "kernelspec": {
   "display_name": "Python 3",
   "language": "python",
   "name": "python3"
  },
  "language_info": {
   "codemirror_mode": {
    "name": "ipython",
    "version": 3
   },
   "file_extension": ".py",
   "mimetype": "text/x-python",
   "name": "python",
   "nbconvert_exporter": "python",
   "pygments_lexer": "ipython3",
   "version": "3.7.6"
  }
 },
 "nbformat": 4,
 "nbformat_minor": 4
}
