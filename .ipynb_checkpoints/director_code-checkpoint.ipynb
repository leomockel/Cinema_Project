{
 "cells": [
  {
   "cell_type": "code",
   "execution_count": 33,
   "metadata": {},
   "outputs": [],
   "source": [
    "import requests, csv\n",
    "from bs4 import BeautifulSoup\n",
    "import re\n",
    "import pandas as pd\n",
    "import tqdm\n",
    "import numpy as np\n",
    "from collections import OrderedDict\n",
    "import itertools as its"
   ]
  },
  {
   "cell_type": "code",
   "execution_count": 61,
   "metadata": {},
   "outputs": [],
   "source": [
    "def code_imdb(imdb_id):\n",
    "    \n",
    "\n",
    "    r1 = requests.get(\"https://www.imdb.com/title/\"+imdb_id+\"/fullcredits\")\n",
    "    bs1 = BeautifulSoup(r1.text)\n",
    "    \n",
    "    #DIRECTORS SELECTION\n",
    "    try:\n",
    "        direct = bs1.find('table', {'class': 'simpleTable simpleCreditsTable'}) \\\n",
    "                        .find_all('td', {'class': 'name'})\n",
    "    except AttributeError:\n",
    "        director = \"\"\n",
    "        code_name = \"\"\n",
    "        code_title = imdb_id\n",
    "        \n",
    "    #select name\n",
    "    try : \n",
    "        director = [text.text.strip() for text in direct]\n",
    "    except (IndexError, AttributeError, UnboundLocalError):\n",
    "        director = \"\"\n",
    "    \n",
    "    #select code\n",
    "    code_name = []\n",
    "    for i in range(len(director)):\n",
    "        try:\n",
    "            code_name.append((str(direct).split('>\\n<a href=\"/name/')[i+1]).split('/\"> ')[0])\n",
    "        except IndexError:\n",
    "            code_name.append(\"\")\n",
    "\n",
    "    #select imdb_id\n",
    "    code_title = list(its.repeat(imdb_id, len(director)))\n",
    "    \n",
    "    return code_title, code_name, director"
   ]
  },
  {
   "cell_type": "code",
   "execution_count": 47,
   "metadata": {},
   "outputs": [],
   "source": [
    "df = pd.read_excel('id_title.xlsx')"
   ]
  },
  {
   "cell_type": "code",
   "execution_count": 48,
   "metadata": {},
   "outputs": [],
   "source": [
    "imdb_id = df[\"id\"].values"
   ]
  },
  {
   "cell_type": "code",
   "execution_count": 49,
   "metadata": {},
   "outputs": [],
   "source": [
    "columns_name = [\"imdb_id\", \"code_name\", \"director\"]"
   ]
  },
  {
   "cell_type": "code",
   "execution_count": 194,
   "metadata": {},
   "outputs": [
    {
     "data": {
      "text/plain": [
       "'tt2190492'"
      ]
     },
     "execution_count": 194,
     "metadata": {},
     "output_type": "execute_result"
    }
   ],
   "source": [
    "imdb_id[75012]"
   ]
  },
  {
   "cell_type": "code",
   "execution_count": 207,
   "metadata": {},
   "outputs": [],
   "source": [
    "director_df = pd.DataFrame(columns = columns_name)"
   ]
  },
  {
   "cell_type": "code",
   "execution_count": 208,
   "metadata": {},
   "outputs": [],
   "source": [
    "temp_title = []\n",
    "temp_code = []\n",
    "temp_dir = []"
   ]
  },
  {
   "cell_type": "code",
   "execution_count": 209,
   "metadata": {},
   "outputs": [
    {
     "name": "stderr",
     "output_type": "stream",
     "text": [
      "100%|██████████| 1371/1371 [44:09<00:00,  1.93s/it]\n"
     ]
    }
   ],
   "source": [
    "for movie in tqdm.tqdm(imdb_id[84620:]):\n",
    "    temp_title += code_imdb(movie)[0]\n",
    "    temp_code += code_imdb(movie)[1]\n",
    "    temp_dir += code_imdb(movie)[2]"
   ]
  },
  {
   "cell_type": "code",
   "execution_count": 193,
   "metadata": {},
   "outputs": [
    {
     "data": {
      "text/plain": [
       "'tt1122765'"
      ]
     },
     "execution_count": 193,
     "metadata": {},
     "output_type": "execute_result"
    }
   ],
   "source": [
    "temp_title[-1]"
   ]
  },
  {
   "cell_type": "code",
   "execution_count": 110,
   "metadata": {},
   "outputs": [
    {
     "data": {
      "text/plain": [
       "'nm0007814'"
      ]
     },
     "execution_count": 110,
     "metadata": {},
     "output_type": "execute_result"
    }
   ],
   "source": [
    "temp_code[-1]"
   ]
  },
  {
   "cell_type": "code",
   "execution_count": 111,
   "metadata": {},
   "outputs": [
    {
     "data": {
      "text/plain": [
       "'Hiam Abbass'"
      ]
     },
     "execution_count": 111,
     "metadata": {},
     "output_type": "execute_result"
    }
   ],
   "source": [
    "temp_dir[-1]"
   ]
  },
  {
   "cell_type": "code",
   "execution_count": 156,
   "metadata": {},
   "outputs": [],
   "source": [
    "dir_id = pd.DataFrame(columns = [\"dir_id\"])"
   ]
  },
  {
   "cell_type": "code",
   "execution_count": 157,
   "metadata": {},
   "outputs": [],
   "source": [
    "dir_code = pd.DataFrame(columns = [\"dir_code\"])"
   ]
  },
  {
   "cell_type": "code",
   "execution_count": 158,
   "metadata": {},
   "outputs": [],
   "source": [
    "dir_df = pd.DataFrame(columns = [\"dir\"])"
   ]
  },
  {
   "cell_type": "code",
   "execution_count": 159,
   "metadata": {},
   "outputs": [],
   "source": [
    "dir_id[\"dir_id\"] = temp_title\n",
    "dir_code[\"dir_code\"] = temp_code\n",
    "dir_df[\"dir\"] = temp_dir"
   ]
  },
  {
   "cell_type": "code",
   "execution_count": 160,
   "metadata": {},
   "outputs": [],
   "source": [
    "dir_id.to_excel(\"dir_id.xlsx\")\n",
    "dir_code.to_excel(\"dir_code.xlsx\")\n",
    "dir_df.to_excel(\"dir.xlsx\")"
   ]
  },
  {
   "cell_type": "code",
   "execution_count": null,
   "metadata": {},
   "outputs": [],
   "source": []
  },
  {
   "cell_type": "code",
   "execution_count": 210,
   "metadata": {},
   "outputs": [
    {
     "data": {
      "text/plain": [
       "(1582, 1582, 1582)"
      ]
     },
     "execution_count": 210,
     "metadata": {},
     "output_type": "execute_result"
    }
   ],
   "source": [
    "len(temp_title), len(temp_code),len(temp_dir)"
   ]
  },
  {
   "cell_type": "code",
   "execution_count": 190,
   "metadata": {},
   "outputs": [],
   "source": [
    "temp1 = temp_title[:-1]\n",
    "temp2 = temp_code"
   ]
  },
  {
   "cell_type": "code",
   "execution_count": 191,
   "metadata": {},
   "outputs": [],
   "source": [
    "director_df[\"imdb_id\"] = temp1\n",
    "director_df[\"code_name\"] = temp2\n",
    "director_df[\"director\"] = temp_dir"
   ]
  },
  {
   "cell_type": "code",
   "execution_count": 211,
   "metadata": {},
   "outputs": [],
   "source": [
    "director_df[\"imdb_id\"] = temp_title\n",
    "director_df[\"code_name\"] = temp_code\n",
    "director_df[\"director\"] = temp_dir"
   ]
  },
  {
   "cell_type": "code",
   "execution_count": 212,
   "metadata": {},
   "outputs": [],
   "source": [
    "director_df.to_excel(\"director_list_sql2.xlsx\")"
   ]
  },
  {
   "cell_type": "code",
   "execution_count": null,
   "metadata": {},
   "outputs": [],
   "source": []
  },
  {
   "cell_type": "code",
   "execution_count": null,
   "metadata": {},
   "outputs": [],
   "source": []
  },
  {
   "cell_type": "code",
   "execution_count": null,
   "metadata": {},
   "outputs": [],
   "source": []
  }
 ],
 "metadata": {
  "kernelspec": {
   "display_name": "Python 3",
   "language": "python",
   "name": "python3"
  },
  "language_info": {
   "codemirror_mode": {
    "name": "ipython",
    "version": 3
   },
   "file_extension": ".py",
   "mimetype": "text/x-python",
   "name": "python",
   "nbconvert_exporter": "python",
   "pygments_lexer": "ipython3",
   "version": "3.7.6"
  }
 },
 "nbformat": 4,
 "nbformat_minor": 4
}
