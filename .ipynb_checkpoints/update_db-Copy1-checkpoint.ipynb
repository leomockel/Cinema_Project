{
 "cells": [
  {
   "cell_type": "code",
   "execution_count": 1,
   "metadata": {},
   "outputs": [],
   "source": [
    "import requests, csv\n",
    "from bs4 import BeautifulSoup\n",
    "import re\n",
    "import pandas as pd\n",
    "import numpy as np\n",
    "from collections import OrderedDict\n",
    "import tqdm\n"
   ]
  },
  {
   "cell_type": "code",
   "execution_count": 2,
   "metadata": {},
   "outputs": [],
   "source": [
    "def movie_imdb(imdb_id):\n",
    "\n",
    "    #SELECT SYNOPSIS, GENRES, RATING, NUMBER RATE, YEAR, TITLE, ORIGINAL TITLE, COUNTRY,\n",
    "    #SELECT LANGUAGE, BUDGET\n",
    "\n",
    "    r1 = requests.get(\"https://www.imdb.com/title/\"+imdb_id)\n",
    "    bs = BeautifulSoup(r1.text, \"html.parser\")\n",
    "\n",
    "    # Dictionnary for title, orginal_title, rating, num_rate\n",
    "\n",
    "    info_dict = bs.find('script', {'type': 'application/ld+json'})\n",
    "    info_dict = info_dict.text\n",
    "    info_dict = OrderedDict(eval(info_dict))\n",
    "\n",
    "    original_title = info_dict[\"name\"]\n",
    "\n",
    "    if original_title.find(\"&apos;\") != -1:\n",
    "        original_title = original_title.replace(\"&apos;\", \"'\")\n",
    "\n",
    "    if original_title.find(\"&amp\") != -1:\n",
    "        original_title = original_title.replace(\"&amp\", \"&\")\n",
    "\n",
    "    try :\n",
    "        title = info_dict[\"alternateName\"]\n",
    "    except KeyError:\n",
    "        title = info_dict[\"name\"]\n",
    "\n",
    "    if title.find(\"&amp\") != -1:\n",
    "        title = title.replace(\"&amp\", \"&\")\n",
    "\n",
    "    if title.find(\"&apos;\") != -1:\n",
    "        title = title.replace(\"&apos;\", \"'\")\n",
    "\n",
    "    try :\n",
    "        rating = info_dict['aggregateRating']['ratingValue']\n",
    "        num_rate = info_dict['aggregateRating']['ratingCount']\n",
    "    except KeyError:\n",
    "        rating = \"\"\n",
    "        num_rate = \"\"\n",
    "\n",
    "    #Dictionnary for budget, bud_currency\n",
    "\n",
    "    info_dict_2 = bs.findAll('script', {'id': re.compile('__NEXT_DATA__')})\n",
    "    info_dict_2 = [text.text for text in info_dict_2][0]\n",
    "    info_dict_2 = OrderedDict(eval(info_dict_2, {'null': None, 'false':None, 'true':None}))\n",
    "    info_dict_2_1 = info_dict_2['props']['urqlState']\n",
    "\n",
    "    for key in info_dict_2_1.keys():\n",
    "        try:\n",
    "            budget = info_dict_2_1[key]['data']['title']['productionBudget']\n",
    "            def_key = key\n",
    "        except KeyError:\n",
    "            continue\n",
    "\n",
    "    if budget == None:\n",
    "        budget = \"\"\n",
    "        bud_currency = \"\"\n",
    "    else :\n",
    "        budget = info_dict_2_1[def_key]['data']['title']['productionBudget'][\"budget\"][\"amount\"]\n",
    "        bud_currency = info_dict_2_1[def_key]['data']['title']['productionBudget'][\"budget\"][\"currency\"]\n",
    "\n",
    "\n",
    "    year = bs.findAll('a', {'class': re.compile('ipc-link')})\n",
    "    year = int([text.text for text in year][0].strip(\"– \"))\n",
    "\n",
    "    genre_bs = bs.findAll('a', {'class': re.compile('ipc-metadata-list-item')})\n",
    "    genre_bs = [text.text for text in genre_bs]\n",
    "\n",
    "    genre_list = [\"Action\", \"Adult\", \"Adventure\", \"Animation\", \"Biography\", \"Comedy\", \"Crime\", \"Documentary\",\n",
    "              \"Drama\", \"Family\", \"Fantasy\", \"Film-Noir\", \"History\", \"Horror\", \"Music\", \"Musical\", \"Mystery\",\n",
    "              \"News\", \"Reality-TV\", \"Romance\", \"Sci-Fi\", \"Short\", \"Sport\", \"Thriller\", \"War\", \"Western\"]\n",
    "\n",
    "    genres = [genre for genre in genre_bs if genre in genre_list]\n",
    "\n",
    "    try :\n",
    "        syn = bs.findAll('div', {'class': 'ipc-html-content ipc-html-content--base'})[0]\n",
    "        syn = [text.text for text in syn]\n",
    "        synopsis = syn[0].split(\" —\")[0]\n",
    "    except IndexError:\n",
    "        synopsis = \"\"\n",
    "\n",
    "\n",
    "    countries = bs.findAll('a', {'href': re.compile('country_of_origin')})\n",
    "    if len(countries) == 0:\n",
    "        country = ['None']\n",
    "    else:\n",
    "        country = [\"USA\" if text.text == \"United States\" else \"UK\" if text.text == \"United Kingdom\" \\\n",
    "                    else text.text for text in countries]\n",
    "\n",
    "\n",
    "\n",
    "    language = bs.findAll('a', {'href': re.compile('primary_language')})\n",
    "    if len(language) == 0:\n",
    "        language = [\"No Info\"]\n",
    "    else :\n",
    "        language = [text.text for text in language]\n",
    "\n",
    "\n",
    "    #SELECT CASTING, DIRECTOR, WRITERS\n",
    "\n",
    "    r2 = requests.get(\"https://www.imdb.com/title/\"+imdb_id+\"/fullcredits\")\n",
    "    bs2 = BeautifulSoup(r2.text, \"html.parser\")\n",
    "\n",
    "    #select casting\n",
    "    cast_list = bs2.find_all('table', {'class': 'cast_list'})\n",
    "    if cast_list == None or cast_list == []:\n",
    "        cast = [\"\"]\n",
    "        cast_code = [\"\"]\n",
    "    else :\n",
    "        cast_list_test = bs2.find('table', {'class': 'cast_list'}).find_all('td', {'class':'primary_photo'})\n",
    "        if len(cast_list_test) >= 30 :\n",
    "            cast = [str(cast_list).split('img alt=\"')[i].split('\" class=\"')[0] for i in range(1,31)]\n",
    "            cast_code = [str(cast_list_test).split('/name/')[i].split('/\">')[0] for i in range(1,31)]\n",
    "        else :\n",
    "            cast = [str(cast_list).split('img alt=\"')[i].split('\" class=\"')[0] \\\n",
    "                    for i in range(1,len(cast_list_test)+1)]\n",
    "            cast_code = [str(cast_list_test).split('/name/')[i].split('/\">')[0] \\\n",
    "                          for i in range(1,len(cast_list_test)+1)]\n",
    "\n",
    "    #select director\n",
    "    test_dir = bs2.find('h4', {'id':'director'})\n",
    "    if test_dir == None:\n",
    "        director = [\"\"]\n",
    "        dir_code = [\"\"]\n",
    "    else :\n",
    "        direct = bs2.find('table', {'class': 'simpleTable simpleCreditsTable'}) \\\n",
    "                .find_all('td', {'class': 'name'})\n",
    "        direct_t = [text.text for text in direct]\n",
    "        director = [i.strip() for i in direct_t]\n",
    "        dir_code = [(str(direct).split('href=\"/name/')[i+1]).split('/\"> ')[0] for i in range(len(director))]\n",
    "\n",
    "    #SELECT RUNTIME\n",
    "\n",
    "    r3 = requests.get(\"https://www.imdb.com/title/\"+imdb_id+\"/technical\")\n",
    "    bs3 = BeautifulSoup(r3.text, \"html.parser\")\n",
    "\n",
    "    time = bs3.find('table', {'class': 'dataTable labelValueTable'}).find_all('tr', {'class': 'odd'})\n",
    "    runtime = [text.text for text in time]\n",
    "    try:\n",
    "        if (\"min (\" in (runtime[0].strip())) and (\" min)\" in (runtime[0].strip())):\n",
    "            duration = int((runtime[0].strip().split(\"min (\")[1]).split(\" min)\")[0])\n",
    "        elif \"hr (\" in (runtime[0].strip()):\n",
    "            duration = int((runtime[0].strip().split(\"hr (\")[1]).split(\" min)\")[0])\n",
    "        else :\n",
    "            duration = int((runtime[0].strip().split(\"Runtime\")[1]).split(\" min\")[0])\n",
    "    except (ValueError, IndexError):\n",
    "        duration = \"\"\n",
    "\n",
    "\n",
    "    #SELECT PRODUCTION\n",
    "\n",
    "    r4 = requests.get(\"https://www.imdb.com/title/\"+imdb_id+\"/companycredits\")\n",
    "    bs4 = BeautifulSoup(r4.content, \"html.parser\")\n",
    "    test = bs4.find('h4', {'id': 'production'})\n",
    "    if test == None:\n",
    "        production = [\"\"]\n",
    "        prod_code = [\"\"]\n",
    "    else :\n",
    "        prod_list = bs4.find('ul', {'class': 'simpleList'}).find_all(\"li\")\n",
    "        prod_t = [text.text.strip() for text in prod_list]\n",
    "        production = [pro.split(\"   \")[0] if \"   \" in pro else pro for pro in prod_t]\n",
    "\n",
    "        prod_code = [(str(i).split(\"pany/\")[1]).split('\">')[0] for i in prod_list]\n",
    "\n",
    "    if rating != \"\":\n",
    "        return imdb_id, title, original_title, year, director, dir_code, cast, cast_code, genres, duration, \\\n",
    "        country, language, production, prod_code, synopsis, rating, num_rate, budget, bud_currency\n",
    "    else:\n",
    "        return imdb_id, title,\"\",\"\",\"\",\"\",\"\",\"\",\"\",\"\",\"\",\"\",\"\",\"\",\"\",\"\",\"\",\"\",\"\"\n"
   ]
  },
  {
   "cell_type": "code",
   "execution_count": 3,
   "metadata": {},
   "outputs": [],
   "source": [
    "df = pd.read_csv('movies_to_scrap/scrap_it.csv')"
   ]
  },
  {
   "cell_type": "code",
   "execution_count": 4,
   "metadata": {},
   "outputs": [],
   "source": [
    "imdb_id = df[\"imdb\"].values"
   ]
  },
  {
   "cell_type": "code",
   "execution_count": 5,
   "metadata": {},
   "outputs": [],
   "source": [
    "db_df = pd.read_csv('db_backup/movies_db.csv')"
   ]
  },
  {
   "cell_type": "code",
   "execution_count": 6,
   "metadata": {},
   "outputs": [],
   "source": [
    "imdb_db = db_df[\"imdb_id\"].values"
   ]
  },
  {
   "cell_type": "code",
   "execution_count": 7,
   "metadata": {},
   "outputs": [],
   "source": [
    "final_imdb = [i for i in imdb_id if i not in imdb_db]"
   ]
  },
  {
   "cell_type": "code",
   "execution_count": 8,
   "metadata": {},
   "outputs": [
    {
     "data": {
      "text/plain": [
       "['tt16579354', 'tt6013920', 'tt11286314']"
      ]
     },
     "execution_count": 8,
     "metadata": {},
     "output_type": "execute_result"
    }
   ],
   "source": [
    "final_imdb"
   ]
  },
  {
   "cell_type": "code",
   "execution_count": 9,
   "metadata": {},
   "outputs": [],
   "source": [
    "movies = []"
   ]
  },
  {
   "cell_type": "code",
   "execution_count": 10,
   "metadata": {
    "scrolled": false
   },
   "outputs": [
    {
     "name": "stderr",
     "output_type": "stream",
     "text": [
      "100%|██████████| 3/3 [00:12<00:00,  4.07s/it]\n"
     ]
    }
   ],
   "source": [
    "for movie in tqdm.tqdm(final_imdb):\n",
    "    movies.append(movie_imdb(movie))"
   ]
  },
  {
   "cell_type": "code",
   "execution_count": 11,
   "metadata": {},
   "outputs": [
    {
     "data": {
      "text/plain": [
       "[('tt16579354',\n",
       "  \"L'odyssée antarctique\",\n",
       "  '',\n",
       "  '',\n",
       "  '',\n",
       "  '',\n",
       "  '',\n",
       "  '',\n",
       "  '',\n",
       "  '',\n",
       "  '',\n",
       "  '',\n",
       "  '',\n",
       "  '',\n",
       "  '',\n",
       "  '',\n",
       "  '',\n",
       "  '',\n",
       "  ''),\n",
       " ('tt6013920',\n",
       "  'Copyright Van Gogh',\n",
       "  \"China's Van Goghs\",\n",
       "  2016,\n",
       "  ['Yu Haibo', 'Yu Tianqi Kiki'],\n",
       "  ['nm8398121', 'nm8398120'],\n",
       "  ['Xiaoyong Zhao', 'Yongjiu Zhou', 'Yue'],\n",
       "  ['nm9133112', 'nm9133113', 'nm9133114'],\n",
       "  ['Documentary'],\n",
       "  80,\n",
       "  ['China', 'Netherlands'],\n",
       "  ['Dutch', 'Chinese', 'English'],\n",
       "  ['Century Image Media', 'Trueworks', 'International Media Support'],\n",
       "  ['co0624443', 'co0250110', 'co0371416'],\n",
       "  'An intimate portrait of a peasant-turned oil painter transitioning from making copies of iconic Western paintings to creating his own authentic works of art.',\n",
       "  7.5,\n",
       "  279,\n",
       "  '',\n",
       "  ''),\n",
       " ('tt11286314',\n",
       "  \"Don't Look Up: Déni cosmique\",\n",
       "  \"Don't Look Up\",\n",
       "  2021,\n",
       "  ['Adam McKay'],\n",
       "  ['nm0570912'],\n",
       "  ['Leonardo DiCaprio',\n",
       "   'Jennifer Lawrence',\n",
       "   'Meryl Streep',\n",
       "   'Cate Blanchett',\n",
       "   'Rob Morgan',\n",
       "   'Jonah Hill',\n",
       "   'Mark Rylance',\n",
       "   'Tyler Perry',\n",
       "   'Timothée Chalamet',\n",
       "   'Ron Perlman',\n",
       "   'Ariana Grande',\n",
       "   'Kid Cudi',\n",
       "   'Himesh Patel',\n",
       "   'Melanie Lynskey',\n",
       "   'Michael Chiklis',\n",
       "   'Tomer Sisley',\n",
       "   'Paul Guilfoyle',\n",
       "   'Robert Joy',\n",
       "   'Jack Alberts',\n",
       "   'Ting Lik',\n",
       "   'Lance A. Williams',\n",
       "   'Shimali De Silva',\n",
       "   'Hettienne Park',\n",
       "   'Rafael Silva',\n",
       "   'Lonnie Farmer',\n",
       "   'Homa Sarabi-Daunais',\n",
       "   'Barbara Douglass',\n",
       "   'Rena Maliszewski',\n",
       "   'Erik Parillo',\n",
       "   'Robert Radochia'],\n",
       "  ['nm0000138',\n",
       "   'nm2225369',\n",
       "   'nm0000658',\n",
       "   'nm0000949',\n",
       "   'nm1726032',\n",
       "   'nm1706767',\n",
       "   'nm0753314',\n",
       "   'nm1347153',\n",
       "   'nm3154303',\n",
       "   'nm0000579',\n",
       "   'nm3812858',\n",
       "   'nm3264596',\n",
       "   'nm2797744',\n",
       "   'nm0001491',\n",
       "   'nm0004821',\n",
       "   'nm0803037',\n",
       "   'nm0002117',\n",
       "   'nm0431451',\n",
       "   'nm7152505',\n",
       "   'nm13199365',\n",
       "   'nm6670248',\n",
       "   'nm13199366',\n",
       "   'nm1782292',\n",
       "   'nm9770180',\n",
       "   'nm0267772',\n",
       "   'nm13199367',\n",
       "   'nm13199368',\n",
       "   'nm2728453',\n",
       "   'nm0661504',\n",
       "   'nm6636458'],\n",
       "  ['Comedy', 'Drama', 'Sci-Fi'],\n",
       "  138,\n",
       "  ['USA'],\n",
       "  ['English'],\n",
       "  ['Bluegrass Films', 'Hyperobject Industries'],\n",
       "  ['co0235528', 'co0770923'],\n",
       "  \"Kate Dibiasky (Jennifer Lawrence), an astronomy grad student, and her professor Dr. Randall Mindy (Leonardo DiCaprio) make an astounding discovery of a comet orbiting within the solar system. The problem - it's on a direct collision course with Earth. The other problem? No one really seems to care. Turns out warning mankind about a planet-killer the size of Mount Everest is an inconvenient fact to navigate. With the help of Dr. Oglethorpe (Rob Morgan), Kate and Randall embark on a media tour that takes them from the office of an indifferent President Orlean (Meryl Streep) and her sycophantic son and Chief of Staff, Jason (Jonah Hill), to the airwaves of The Daily Rip, an upbeat morning show hosted by Brie (Cate Blanchett) and Jack (Tyler Perry). With only six months until the comet makes impact, managing the 24-hour news cycle and gaining the attention of the social media obsessed public before it's too late proves shockingly comical - what will it take to get the world to just look up?.\",\n",
       "  7.3,\n",
       "  84335,\n",
       "  '',\n",
       "  '')]"
      ]
     },
     "execution_count": 11,
     "metadata": {},
     "output_type": "execute_result"
    }
   ],
   "source": [
    "movies"
   ]
  },
  {
   "cell_type": "code",
   "execution_count": 12,
   "metadata": {},
   "outputs": [],
   "source": [
    "movie_df = pd.DataFrame(movies)"
   ]
  },
  {
   "cell_type": "code",
   "execution_count": 13,
   "metadata": {},
   "outputs": [],
   "source": [
    "movie_keep = movie_df.drop(movie_df[movie_df[3] == \"\"].index)\n",
    "too_soon = pd.DataFrame(movie_df[[0,1]].drop(movie_df[movie_df[3] != \"\"].index).values, \\\n",
    "            columns= ['imdb_id', 'title'])"
   ]
  },
  {
   "cell_type": "code",
   "execution_count": 164,
   "metadata": {},
   "outputs": [],
   "source": [
    "if len(too_soon) > 0:\n",
    "    f_scrap = pd.read_csv('movies_to_scrap/too_soon.csv').set_index(\"imdb_id\")\n",
    "    f_scrap_df = pd.DataFrame(f_scrap, columns= ['imdb_id', 'title'])\n",
    "    too_soon = pd.concat([f_scrap_df, too_soon]).set_index(\"imdb_id\")\n",
    "    too_soon.to_csv('movies_to_scrap/too_soon.csv')"
   ]
  },
  {
   "cell_type": "code",
   "execution_count": 14,
   "metadata": {},
   "outputs": [
    {
     "data": {
      "text/html": [
       "<div>\n",
       "<style scoped>\n",
       "    .dataframe tbody tr th:only-of-type {\n",
       "        vertical-align: middle;\n",
       "    }\n",
       "\n",
       "    .dataframe tbody tr th {\n",
       "        vertical-align: top;\n",
       "    }\n",
       "\n",
       "    .dataframe thead th {\n",
       "        text-align: right;\n",
       "    }\n",
       "</style>\n",
       "<table border=\"1\" class=\"dataframe\">\n",
       "  <thead>\n",
       "    <tr style=\"text-align: right;\">\n",
       "      <th></th>\n",
       "      <th>0</th>\n",
       "      <th>1</th>\n",
       "      <th>2</th>\n",
       "      <th>3</th>\n",
       "      <th>4</th>\n",
       "      <th>5</th>\n",
       "      <th>6</th>\n",
       "      <th>7</th>\n",
       "      <th>8</th>\n",
       "      <th>9</th>\n",
       "      <th>10</th>\n",
       "      <th>11</th>\n",
       "      <th>12</th>\n",
       "      <th>13</th>\n",
       "      <th>14</th>\n",
       "      <th>15</th>\n",
       "      <th>16</th>\n",
       "      <th>17</th>\n",
       "      <th>18</th>\n",
       "    </tr>\n",
       "  </thead>\n",
       "  <tbody>\n",
       "    <tr>\n",
       "      <th>1</th>\n",
       "      <td>tt6013920</td>\n",
       "      <td>Copyright Van Gogh</td>\n",
       "      <td>China's Van Goghs</td>\n",
       "      <td>2016</td>\n",
       "      <td>[Yu Haibo, Yu Tianqi Kiki]</td>\n",
       "      <td>[nm8398121, nm8398120]</td>\n",
       "      <td>[Xiaoyong Zhao, Yongjiu Zhou, Yue]</td>\n",
       "      <td>[nm9133112, nm9133113, nm9133114]</td>\n",
       "      <td>[Documentary]</td>\n",
       "      <td>80</td>\n",
       "      <td>[China, Netherlands]</td>\n",
       "      <td>[Dutch, Chinese, English]</td>\n",
       "      <td>[Century Image Media, Trueworks, International...</td>\n",
       "      <td>[co0624443, co0250110, co0371416]</td>\n",
       "      <td>An intimate portrait of a peasant-turned oil p...</td>\n",
       "      <td>7.5</td>\n",
       "      <td>279</td>\n",
       "      <td></td>\n",
       "      <td></td>\n",
       "    </tr>\n",
       "    <tr>\n",
       "      <th>2</th>\n",
       "      <td>tt11286314</td>\n",
       "      <td>Don't Look Up: Déni cosmique</td>\n",
       "      <td>Don't Look Up</td>\n",
       "      <td>2021</td>\n",
       "      <td>[Adam McKay]</td>\n",
       "      <td>[nm0570912]</td>\n",
       "      <td>[Leonardo DiCaprio, Jennifer Lawrence, Meryl S...</td>\n",
       "      <td>[nm0000138, nm2225369, nm0000658, nm0000949, n...</td>\n",
       "      <td>[Comedy, Drama, Sci-Fi]</td>\n",
       "      <td>138</td>\n",
       "      <td>[USA]</td>\n",
       "      <td>[English]</td>\n",
       "      <td>[Bluegrass Films, Hyperobject Industries]</td>\n",
       "      <td>[co0235528, co0770923]</td>\n",
       "      <td>Kate Dibiasky (Jennifer Lawrence), an astronom...</td>\n",
       "      <td>7.3</td>\n",
       "      <td>84335</td>\n",
       "      <td></td>\n",
       "      <td></td>\n",
       "    </tr>\n",
       "  </tbody>\n",
       "</table>\n",
       "</div>"
      ],
      "text/plain": [
       "           0                             1                  2     3   \\\n",
       "1   tt6013920            Copyright Van Gogh  China's Van Goghs  2016   \n",
       "2  tt11286314  Don't Look Up: Déni cosmique      Don't Look Up  2021   \n",
       "\n",
       "                           4                       5   \\\n",
       "1  [Yu Haibo, Yu Tianqi Kiki]  [nm8398121, nm8398120]   \n",
       "2                [Adam McKay]             [nm0570912]   \n",
       "\n",
       "                                                  6   \\\n",
       "1                 [Xiaoyong Zhao, Yongjiu Zhou, Yue]   \n",
       "2  [Leonardo DiCaprio, Jennifer Lawrence, Meryl S...   \n",
       "\n",
       "                                                  7                        8   \\\n",
       "1                  [nm9133112, nm9133113, nm9133114]            [Documentary]   \n",
       "2  [nm0000138, nm2225369, nm0000658, nm0000949, n...  [Comedy, Drama, Sci-Fi]   \n",
       "\n",
       "    9                     10                         11  \\\n",
       "1   80  [China, Netherlands]  [Dutch, Chinese, English]   \n",
       "2  138                 [USA]                  [English]   \n",
       "\n",
       "                                                  12  \\\n",
       "1  [Century Image Media, Trueworks, International...   \n",
       "2          [Bluegrass Films, Hyperobject Industries]   \n",
       "\n",
       "                                  13  \\\n",
       "1  [co0624443, co0250110, co0371416]   \n",
       "2             [co0235528, co0770923]   \n",
       "\n",
       "                                                  14   15     16 17 18  \n",
       "1  An intimate portrait of a peasant-turned oil p...  7.5    279        \n",
       "2  Kate Dibiasky (Jennifer Lawrence), an astronom...  7.3  84335        "
      ]
     },
     "execution_count": 14,
     "metadata": {},
     "output_type": "execute_result"
    }
   ],
   "source": [
    "movie_keep"
   ]
  },
  {
   "cell_type": "markdown",
   "metadata": {},
   "source": [
    "## Lists of data"
   ]
  },
  {
   "cell_type": "code",
   "execution_count": 33,
   "metadata": {},
   "outputs": [],
   "source": [
    "imdb = list(movie_keep[0].values)\n",
    "title = list(movie_keep[1].values)\n",
    "original_title = list(movie_keep[2].values)\n",
    "year = list(movie_keep[3].values)\n",
    "director = list(movie_keep[4].values)\n",
    "dir_code = list(movie_keep[5].values)\n",
    "actor = list(movie_keep[6].values)\n",
    "actor_code = list(movie_keep[7].values)\n",
    "genres = list(movie_keep[8].values)\n",
    "duration = list(movie_keep[9].values)\n",
    "country = list(movie_keep[10].values)\n",
    "language = list(movie_keep[11].values)\n",
    "production = list(movie_keep[12].values)\n",
    "prod_code = list(movie_keep[13].values)\n",
    "synopsis = list(movie_keep[14].values)\n",
    "rating = list(movie_keep[15].values)\n",
    "num_rate = list(movie_keep[16].values)\n",
    "budget = list(movie_keep[17].values)\n",
    "bud_currency = list(movie_keep[18].values)\n",
    "saw = [\"\" for i in range(len(imdb))]\n",
    "db_saw = [0 for i in range(len(imdb))]"
   ]
  },
  {
   "cell_type": "code",
   "execution_count": null,
   "metadata": {},
   "outputs": [],
   "source": []
  },
  {
   "cell_type": "code",
   "execution_count": 426,
   "metadata": {},
   "outputs": [],
   "source": [
    "incr_code_list = [country, language]"
   ]
  },
  {
   "cell_type": "code",
   "execution_count": 427,
   "metadata": {},
   "outputs": [],
   "source": [
    "incr_name = [\"country\", \"language\"]"
   ]
  },
  {
   "cell_type": "code",
   "execution_count": 430,
   "metadata": {},
   "outputs": [
    {
     "ename": "ValueError",
     "evalue": "'Dutch' is not in list",
     "output_type": "error",
     "traceback": [
      "\u001b[0;31m---------------------------------------------------------------------------\u001b[0m",
      "\u001b[0;31mValueError\u001b[0m                                Traceback (most recent call last)",
      "\u001b[0;32m<ipython-input-430-b62466c4fc27>\u001b[0m in \u001b[0;36m<module>\u001b[0;34m\u001b[0m\n\u001b[1;32m     25\u001b[0m     \u001b[0;31m# 4- create country_codes for scraped movies\u001b[0m\u001b[0;34m\u001b[0m\u001b[0;34m\u001b[0m\u001b[0;34m\u001b[0m\u001b[0m\n\u001b[1;32m     26\u001b[0m     var_code = [int(up_df.iloc[:,0][list(up_df.name.values).index(incr_code_list[i][j][k])]) \\\n\u001b[0;32m---> 27\u001b[0;31m                     for i in range(len(incr_code_list)) for j in range(len(incr_code_list[i]))]\n\u001b[0m\u001b[1;32m     28\u001b[0m \u001b[0;34m\u001b[0m\u001b[0m\n\u001b[1;32m     29\u001b[0m     \u001b[0mvar_imdb\u001b[0m \u001b[0;34m=\u001b[0m \u001b[0;34m[\u001b[0m\u001b[0mimdb\u001b[0m\u001b[0;34m[\u001b[0m\u001b[0mi\u001b[0m\u001b[0;34m]\u001b[0m \u001b[0;32mfor\u001b[0m \u001b[0mi\u001b[0m \u001b[0;32min\u001b[0m \u001b[0mrange\u001b[0m\u001b[0;34m(\u001b[0m\u001b[0mlen\u001b[0m\u001b[0;34m(\u001b[0m\u001b[0mimdb\u001b[0m\u001b[0;34m)\u001b[0m\u001b[0;34m)\u001b[0m \u001b[0;32mfor\u001b[0m \u001b[0mj\u001b[0m \u001b[0;32min\u001b[0m \u001b[0mrange\u001b[0m\u001b[0;34m(\u001b[0m\u001b[0mlen\u001b[0m\u001b[0;34m(\u001b[0m\u001b[0mincr_code_list\u001b[0m\u001b[0;34m[\u001b[0m\u001b[0mi\u001b[0m\u001b[0;34m]\u001b[0m\u001b[0;34m)\u001b[0m\u001b[0;34m)\u001b[0m\u001b[0;34m]\u001b[0m\u001b[0;34m\u001b[0m\u001b[0;34m\u001b[0m\u001b[0m\n",
      "\u001b[0;32m<ipython-input-430-b62466c4fc27>\u001b[0m in \u001b[0;36m<listcomp>\u001b[0;34m(.0)\u001b[0m\n\u001b[1;32m     25\u001b[0m     \u001b[0;31m# 4- create country_codes for scraped movies\u001b[0m\u001b[0;34m\u001b[0m\u001b[0;34m\u001b[0m\u001b[0;34m\u001b[0m\u001b[0m\n\u001b[1;32m     26\u001b[0m     var_code = [int(up_df.iloc[:,0][list(up_df.name.values).index(incr_code_list[i][j][k])]) \\\n\u001b[0;32m---> 27\u001b[0;31m                     for i in range(len(incr_code_list)) for j in range(len(incr_code_list[i]))]\n\u001b[0m\u001b[1;32m     28\u001b[0m \u001b[0;34m\u001b[0m\u001b[0m\n\u001b[1;32m     29\u001b[0m     \u001b[0mvar_imdb\u001b[0m \u001b[0;34m=\u001b[0m \u001b[0;34m[\u001b[0m\u001b[0mimdb\u001b[0m\u001b[0;34m[\u001b[0m\u001b[0mi\u001b[0m\u001b[0;34m]\u001b[0m \u001b[0;32mfor\u001b[0m \u001b[0mi\u001b[0m \u001b[0;32min\u001b[0m \u001b[0mrange\u001b[0m\u001b[0;34m(\u001b[0m\u001b[0mlen\u001b[0m\u001b[0;34m(\u001b[0m\u001b[0mimdb\u001b[0m\u001b[0;34m)\u001b[0m\u001b[0;34m)\u001b[0m \u001b[0;32mfor\u001b[0m \u001b[0mj\u001b[0m \u001b[0;32min\u001b[0m \u001b[0mrange\u001b[0m\u001b[0;34m(\u001b[0m\u001b[0mlen\u001b[0m\u001b[0;34m(\u001b[0m\u001b[0mincr_code_list\u001b[0m\u001b[0;34m[\u001b[0m\u001b[0mi\u001b[0m\u001b[0;34m]\u001b[0m\u001b[0;34m)\u001b[0m\u001b[0;34m)\u001b[0m\u001b[0;34m]\u001b[0m\u001b[0;34m\u001b[0m\u001b[0;34m\u001b[0m\u001b[0m\n",
      "\u001b[0;31mValueError\u001b[0m: 'Dutch' is not in list"
     ]
    }
   ],
   "source": [
    "for i in range(len(incr_name)):\n",
    "    incr_df = pd.read_csv(f'db_backup/{incr_name[i]}_db.csv')\n",
    "    code_db = list(incr_df.iloc[:,0])\n",
    "    name_db = list(incr_df.iloc[:,1])\n",
    "    max_id = max(code_db)\n",
    "\n",
    "# 2- check if a country in the scrap is not in the database\n",
    "    up_name = []\n",
    "    up_code = []\n",
    "    for j in range(len(incr_code_list[i])):\n",
    "        for k in range(len(incr_code_list[i][j])):\n",
    "            if incr_code_list[i][j][k] not in name_db and incr_code_list[i][j][k] != \"\":\n",
    "                up_name.append(incr_code_list[i][j][k])\n",
    "                up_code.append(max_id + 1)\n",
    "                max_id += 1\n",
    "                \n",
    "   # 3- create update dataframe\n",
    "    data_col = {f\"{incr_df.columns[0]}\": up_code, \"name\": up_name}\n",
    "    up_inc = pd.DataFrame(data_col).set_index(f\"{incr_df.columns[0]}\")\n",
    "    up_df = pd.concat([incr_df, up_inc])         \n",
    "    \n",
    "    if len(up_inc) > 0:\n",
    "        up_inc.to_csv(f\"update_db/up_{incr_name}5.csv\")\n",
    "        \n",
    "    # 4- create country_codes for scraped movies\n",
    "    var_code = [int(up_df.iloc[:,0][list(up_df.name.values).index(incr_code_list[i][j][k])]) \\\n",
    "                    for i in range(len(incr_code_list)) for j in range(len(incr_code_list[i]))]\n",
    "    \n",
    "    var_imdb = [imdb[i] for i in range(len(imdb)) for j in range(len(incr_code_list[i]))]\n",
    "    \n",
    "    movie_var_data = {\"movie_id\": var_imdb, f\"{incr_name[i]}_id\": var_code}\n",
    "    up_movie_var = pd.DataFrame(movie_var_data)\n",
    "    up_movie_var = up_movie_var.drop(up_movie_var[up_movie_var[f\"{incr_name[i]}_id\"] == \"\"].index).set_index(\"movie_id\")\n",
    "    up_movie_var.to_csv(f\"update_db/up_movie_{incr_name[i]}5.csv\")"
   ]
  },
  {
   "cell_type": "code",
   "execution_count": null,
   "metadata": {},
   "outputs": [],
   "source": [
    "up_movie_var.to_csv(\"update_db/up_movie_country.csv\")"
   ]
  },
  {
   "cell_type": "code",
   "execution_count": null,
   "metadata": {},
   "outputs": [],
   "source": [
    "\n",
    "\n",
    "    movie_country_data = {\"movie_id\": country_imdb, \"country_id\": country_code}\n",
    "    up_movie_country = pd.DataFrame(movie_country_data)\n",
    "    up_movie_country = up_movie_country.drop(up_movie_country[up_movie_country[\"country_id\"] == \"\"].index).set_index(\"movie_id\")\n",
    "    up_movie_country.to_csv(\"update_db/up_movie_country.csv\")\n"
   ]
  },
  {
   "cell_type": "code",
   "execution_count": 417,
   "metadata": {},
   "outputs": [
    {
     "data": {
      "text/plain": [
       "[['Dutch', 'Chinese', 'English'], ['English']]"
      ]
     },
     "execution_count": 417,
     "metadata": {},
     "output_type": "execute_result"
    }
   ],
   "source": [
    "incr_code_list[1]"
   ]
  },
  {
   "cell_type": "code",
   "execution_count": null,
   "metadata": {},
   "outputs": [],
   "source": [
    "\n",
    "    \n",
    "\n",
    "    # 3- create update dataframe\n",
    "    data_col = {f\"{incr_df.columns[0]}\": up_code, \"name\": up_name}\n",
    "    up_inc = pd.DataFrame(data_col).set_index(f\"{incr_df.columns[0]}\")\n",
    "    up_df = pd.concat([incr_df, up_inc])\n",
    "\n",
    "    # 4- create country_codes for scraped movies\n",
    "    country_code = [int(up_df.iloc[:,0][list(up_df.name.values).index(incr_code_list[j][k])]) \\\n",
    "                    for i in range(len(incr_code_list)) for j in range(len(incr_code_list[i]))]"
   ]
  },
  {
   "cell_type": "code",
   "execution_count": null,
   "metadata": {},
   "outputs": [],
   "source": []
  },
  {
   "cell_type": "code",
   "execution_count": null,
   "metadata": {},
   "outputs": [],
   "source": []
  },
  {
   "cell_type": "code",
   "execution_count": null,
   "metadata": {},
   "outputs": [],
   "source": []
  },
  {
   "cell_type": "code",
   "execution_count": null,
   "metadata": {},
   "outputs": [],
   "source": []
  },
  {
   "cell_type": "code",
   "execution_count": null,
   "metadata": {},
   "outputs": [],
   "source": []
  },
  {
   "cell_type": "code",
   "execution_count": null,
   "metadata": {},
   "outputs": [],
   "source": []
  },
  {
   "cell_type": "code",
   "execution_count": null,
   "metadata": {},
   "outputs": [],
   "source": []
  },
  {
   "cell_type": "code",
   "execution_count": null,
   "metadata": {},
   "outputs": [],
   "source": []
  },
  {
   "cell_type": "code",
   "execution_count": null,
   "metadata": {},
   "outputs": [],
   "source": []
  },
  {
   "cell_type": "markdown",
   "metadata": {},
   "source": [
    "## Update country_sql"
   ]
  },
  {
   "cell_type": "code",
   "execution_count": 431,
   "metadata": {},
   "outputs": [],
   "source": [
    "state_df = pd.read_csv('db_backup/country_db.csv')"
   ]
  },
  {
   "cell_type": "code",
   "execution_count": 432,
   "metadata": {},
   "outputs": [],
   "source": [
    "code_state = list(state_df.country_id.values)\n",
    "countries = list(state_df.name.values)"
   ]
  },
  {
   "cell_type": "code",
   "execution_count": 433,
   "metadata": {},
   "outputs": [],
   "source": [
    "max_country_id = max(code_state)"
   ]
  },
  {
   "cell_type": "code",
   "execution_count": 434,
   "metadata": {},
   "outputs": [],
   "source": [
    "update_state = []\n",
    "update_state_code = []"
   ]
  },
  {
   "cell_type": "code",
   "execution_count": 435,
   "metadata": {},
   "outputs": [],
   "source": [
    "for i in range(len(country)):\n",
    "    for j in range(len(country[i])):\n",
    "        if country[i][j] not in countries and country[i][j] != \"\":\n",
    "            update_state.append(country[i][j])\n",
    "            update_state_code.append(max_country_id + 1)\n",
    "            max_country_id += 1"
   ]
  },
  {
   "cell_type": "code",
   "execution_count": 436,
   "metadata": {},
   "outputs": [],
   "source": [
    "state_data = {\"country_id\": update_state_code, \"name\": update_state}"
   ]
  },
  {
   "cell_type": "code",
   "execution_count": 437,
   "metadata": {},
   "outputs": [],
   "source": [
    "up_country = pd.DataFrame(state_data).set_index(\"country_id\")\n",
    "country_df = pd.concat([state_df, up_country])"
   ]
  },
  {
   "cell_type": "code",
   "execution_count": 440,
   "metadata": {},
   "outputs": [
    {
     "data": {
      "text/plain": [
       "0        0.0\n",
       "1        1.0\n",
       "2        2.0\n",
       "3        3.0\n",
       "4        4.0\n",
       "       ...  \n",
       "194    194.0\n",
       "195    195.0\n",
       "196    196.0\n",
       "197    197.0\n",
       "198    198.0\n",
       "Name: country_id, Length: 199, dtype: float64"
      ]
     },
     "execution_count": 440,
     "metadata": {},
     "output_type": "execute_result"
    }
   ],
   "source": [
    "country_df.country_id"
   ]
  },
  {
   "cell_type": "code",
   "execution_count": null,
   "metadata": {},
   "outputs": [],
   "source": []
  },
  {
   "cell_type": "code",
   "execution_count": 143,
   "metadata": {},
   "outputs": [],
   "source": [
    "for i in range(len(category)):    \n",
    "    for j in range(len(imdb)):\n",
    "        for j in range(len(category[k][i])):\n",
    "            if ids == imdb[i]:\n",
    "                temp_cat.append(category[k][i][j])\n",
    "            elif ids != imdb[i]:\n",
    "                dict_cat[ids] = \" | \".join(temp_cat)\n",
    "                ids = imdb[i]\n",
    "                temp_cat = []\n",
    "                temp_cat.append(category[k][i][j])\n",
    "        dict_cat[ids] = \" | \".join(temp_cat)"
   ]
  },
  {
   "cell_type": "code",
   "execution_count": null,
   "metadata": {},
   "outputs": [],
   "source": []
  },
  {
   "cell_type": "code",
   "execution_count": 232,
   "metadata": {},
   "outputs": [],
   "source": [
    "country_code = [int(country_df.country_id.values[list(country_df.name.values).index(country[i][j])]) \\\n",
    "                for i in range(len(country)) for j in range(len(country[i]))]"
   ]
  },
  {
   "cell_type": "code",
   "execution_count": 29,
   "metadata": {},
   "outputs": [],
   "source": [
    "if len(up_country) > 0:\n",
    "    up_country.to_csv(\"update_db/up_country.csv\")"
   ]
  },
  {
   "cell_type": "markdown",
   "metadata": {},
   "source": [
    "## Update language_sql"
   ]
  },
  {
   "cell_type": "code",
   "execution_count": 233,
   "metadata": {},
   "outputs": [],
   "source": [
    "lan_df = pd.read_csv('db_backup/language_db.csv')"
   ]
  },
  {
   "cell_type": "code",
   "execution_count": 234,
   "metadata": {},
   "outputs": [],
   "source": [
    "code_lan = list(lan_df.language_id.values)\n",
    "lan = list(lan_df.name.values)"
   ]
  },
  {
   "cell_type": "code",
   "execution_count": 235,
   "metadata": {},
   "outputs": [],
   "source": [
    "max_language_id = max(code_lan)"
   ]
  },
  {
   "cell_type": "code",
   "execution_count": 236,
   "metadata": {},
   "outputs": [],
   "source": [
    "update_lan = []\n",
    "update_lan_code = []"
   ]
  },
  {
   "cell_type": "code",
   "execution_count": 237,
   "metadata": {},
   "outputs": [],
   "source": [
    "for i in range(len(language)):\n",
    "    for j in range(len(language[i])):\n",
    "        if language[i][j] not in lan and language[i][j] != \"\":\n",
    "            update_lan.append(language[i][j])\n",
    "            update_lan_code.append(max_language_id + 1)\n",
    "            max_language_id += 1"
   ]
  },
  {
   "cell_type": "code",
   "execution_count": 238,
   "metadata": {},
   "outputs": [],
   "source": [
    "lan_data = {\"language_id\": update_lan_code, \"name\": update_lan}"
   ]
  },
  {
   "cell_type": "code",
   "execution_count": 239,
   "metadata": {},
   "outputs": [],
   "source": [
    "up_language = pd.DataFrame(lan_data)"
   ]
  },
  {
   "cell_type": "code",
   "execution_count": 240,
   "metadata": {},
   "outputs": [],
   "source": [
    "language_df = pd.concat([lan_df, up_language])"
   ]
  },
  {
   "cell_type": "code",
   "execution_count": 241,
   "metadata": {},
   "outputs": [],
   "source": [
    "language_code = [int(language_df.language_id.values[list(language_df.name.values).index(language[i][j])]) \\\n",
    "                for i in range(len(language)) for j in range(len(language[i]))]"
   ]
  },
  {
   "cell_type": "code",
   "execution_count": 184,
   "metadata": {},
   "outputs": [
    {
     "data": {
      "text/html": [
       "<div>\n",
       "<style scoped>\n",
       "    .dataframe tbody tr th:only-of-type {\n",
       "        vertical-align: middle;\n",
       "    }\n",
       "\n",
       "    .dataframe tbody tr th {\n",
       "        vertical-align: top;\n",
       "    }\n",
       "\n",
       "    .dataframe thead th {\n",
       "        text-align: right;\n",
       "    }\n",
       "</style>\n",
       "<table border=\"1\" class=\"dataframe\">\n",
       "  <thead>\n",
       "    <tr style=\"text-align: right;\">\n",
       "      <th></th>\n",
       "      <th>language_id</th>\n",
       "      <th>name</th>\n",
       "    </tr>\n",
       "  </thead>\n",
       "  <tbody>\n",
       "  </tbody>\n",
       "</table>\n",
       "</div>"
      ],
      "text/plain": [
       "Empty DataFrame\n",
       "Columns: [language_id, name]\n",
       "Index: []"
      ]
     },
     "execution_count": 184,
     "metadata": {},
     "output_type": "execute_result"
    }
   ],
   "source": [
    "up_language"
   ]
  },
  {
   "cell_type": "code",
   "execution_count": 70,
   "metadata": {},
   "outputs": [],
   "source": [
    "if len(up_language) > 0:\n",
    "    up_language.to_csv(\"update_db/up_language.csv\")"
   ]
  },
  {
   "cell_type": "markdown",
   "metadata": {},
   "source": [
    "## Creation of genre_code, country_code and language_code for data"
   ]
  },
  {
   "cell_type": "code",
   "execution_count": 327,
   "metadata": {},
   "outputs": [],
   "source": [
    "genre_df = pd.read_csv(\"db_backup/genre_db.csv\")\n",
    "genre_code = [genre_df.genre_id.values[list(genre_df.name.values).index(genres[i][j])] \\\n",
    "            for i in range(len(genres)) for j in range(len(genres[i]))]"
   ]
  },
  {
   "cell_type": "markdown",
   "metadata": {},
   "source": [
    "## Make change of currencies"
   ]
  },
  {
   "cell_type": "code",
   "execution_count": 328,
   "metadata": {},
   "outputs": [],
   "source": [
    "changer = pd.read_excel(\"currency_change.xlsx\")"
   ]
  },
  {
   "cell_type": "code",
   "execution_count": 329,
   "metadata": {},
   "outputs": [],
   "source": [
    "def_budget = [\"\" if bud_currency[i] == \"\" else int(budget[i] * changer[\"Change\"]\\\n",
    "                  .values[list(changer.Currencies.values).index(bud_currency[i])]) \\\n",
    "                  for i in range(len(bud_currency))]"
   ]
  },
  {
   "cell_type": "markdown",
   "metadata": {},
   "source": [
    "## Update selection_film"
   ]
  },
  {
   "cell_type": "markdown",
   "metadata": {},
   "source": [
    "#### List to string for directors, actors, genres, countries, language, production"
   ]
  },
  {
   "cell_type": "code",
   "execution_count": 330,
   "metadata": {},
   "outputs": [],
   "source": [
    "dict_dir = {}\n",
    "dict_cast = {}\n",
    "dict_genre = {}\n",
    "dict_country = {}\n",
    "dict_language = {}\n",
    "dict_prod = {}"
   ]
  },
  {
   "cell_type": "code",
   "execution_count": 331,
   "metadata": {},
   "outputs": [],
   "source": [
    "temp_dir = []\n",
    "temp_cast = []\n",
    "temp_genre = []\n",
    "temp_country = []\n",
    "temp_language = []\n",
    "temp_prod = []"
   ]
  },
  {
   "cell_type": "code",
   "execution_count": 332,
   "metadata": {},
   "outputs": [],
   "source": [
    "ids = imdb[0]"
   ]
  },
  {
   "cell_type": "code",
   "execution_count": 333,
   "metadata": {},
   "outputs": [],
   "source": [
    "for i in range(len(imdb)):\n",
    "    for j in range(len(director[i])):\n",
    "        if ids == imdb[i]:\n",
    "            temp_dir.append(director[i][j]) \n",
    "        elif ids != imdb[i]:\n",
    "            dict_dir[ids] = \" | \".join(temp_dir)\n",
    "            ids = imdb[i]\n",
    "            temp_dir = []\n",
    "            temp_dir.append(director[i][j])\n",
    "    dict_dir[ids] = \" | \".join(temp_dir)"
   ]
  },
  {
   "cell_type": "code",
   "execution_count": 334,
   "metadata": {},
   "outputs": [
    {
     "data": {
      "text/plain": [
       "[['Yu Haibo', 'Yu Tianqi Kiki'], ['Adam McKay']]"
      ]
     },
     "execution_count": 334,
     "metadata": {},
     "output_type": "execute_result"
    }
   ],
   "source": [
    "director"
   ]
  },
  {
   "cell_type": "code",
   "execution_count": 335,
   "metadata": {},
   "outputs": [],
   "source": [
    "ids = imdb[0]"
   ]
  },
  {
   "cell_type": "code",
   "execution_count": 336,
   "metadata": {},
   "outputs": [],
   "source": [
    "for i in range(len(imdb)):\n",
    "    for j in range(len(cast[i])):\n",
    "        if ids == imdb[i]:\n",
    "            temp_cast.append(cast[i][j])\n",
    "        elif ids != imdb[i]:\n",
    "            dict_cast[ids] = \" | \".join(temp_cast)\n",
    "            ids = imdb[i]\n",
    "            temp_cast = []\n",
    "            temp_cast.append(cast[i][j])\n",
    "    dict_cast[ids] = \" | \".join(temp_cast)"
   ]
  },
  {
   "cell_type": "code",
   "execution_count": 337,
   "metadata": {},
   "outputs": [],
   "source": [
    "ids = imdb[0]"
   ]
  },
  {
   "cell_type": "code",
   "execution_count": 338,
   "metadata": {},
   "outputs": [],
   "source": [
    "for i in range(len(imdb)):\n",
    "    for j in range(len(genres[i])):\n",
    "        if ids == imdb[i]:\n",
    "            temp_genre.append(genres[i][j])\n",
    "        elif ids != imdb[i]:\n",
    "            dict_genre[ids] = \" | \".join(temp_genre)\n",
    "            ids = imdb[i]\n",
    "            temp_genre = []\n",
    "            temp_genre.append(genres[i][j])\n",
    "    dict_genre[ids] = \" | \".join(temp_genre)"
   ]
  },
  {
   "cell_type": "code",
   "execution_count": 339,
   "metadata": {},
   "outputs": [],
   "source": [
    "ids = imdb[0]"
   ]
  },
  {
   "cell_type": "code",
   "execution_count": 340,
   "metadata": {},
   "outputs": [],
   "source": [
    "for i in range(len(imdb)):\n",
    "    for j in range(len(country[i])):\n",
    "        if ids == imdb[i]:\n",
    "            temp_country.append(country[i][j])\n",
    "        elif ids != imdb[i]:\n",
    "            dict_country[ids] = \" | \".join(temp_country)\n",
    "            ids = imdb[i]\n",
    "            temp_country = []\n",
    "            temp_country.append(country[i][j])\n",
    "    dict_country[ids] = \" | \".join(temp_country)"
   ]
  },
  {
   "cell_type": "code",
   "execution_count": 341,
   "metadata": {},
   "outputs": [],
   "source": [
    "ids = imdb[0]"
   ]
  },
  {
   "cell_type": "code",
   "execution_count": 342,
   "metadata": {},
   "outputs": [],
   "source": [
    "for i in range(len(imdb)):\n",
    "    for j in range(len(language[i])):\n",
    "        if ids == imdb[i]:\n",
    "            temp_language.append(language[i][j])\n",
    "        elif ids != imdb[i]:\n",
    "            dict_language[ids] = \" | \".join(temp_language)\n",
    "            ids = imdb[i]\n",
    "            temp_language = []\n",
    "            temp_language.append(language[i][j])\n",
    "    dict_language[ids] = \" | \".join(temp_language)"
   ]
  },
  {
   "cell_type": "code",
   "execution_count": 343,
   "metadata": {},
   "outputs": [],
   "source": [
    "ids = imdb[0]"
   ]
  },
  {
   "cell_type": "code",
   "execution_count": 344,
   "metadata": {},
   "outputs": [],
   "source": [
    "for i in range(len(imdb)):\n",
    "    for j in range(len(production[i])):\n",
    "        if ids == imdb[i]:\n",
    "            temp_prod.append(production[i][j])\n",
    "        elif ids != imdb[i]:\n",
    "            dict_prod[ids] = \" | \".join(temp_prod)\n",
    "            ids = imdb[i]\n",
    "            temp_prod = []\n",
    "            temp_prod.append(production[i][j])\n",
    "    dict_prod[ids] = \" | \".join(temp_prod)"
   ]
  },
  {
   "cell_type": "markdown",
   "metadata": {},
   "source": [
    "#### Put data in a dataframe"
   ]
  },
  {
   "cell_type": "code",
   "execution_count": 345,
   "metadata": {},
   "outputs": [],
   "source": [
    "select_data = {\"imdb_id\": imdb, \"vu\": saw, \"à voir\": saw, \"title\": title, \"original_title\": original_title, \\\n",
    "               \"year\": year, \"director\": list(dict_dir.values()), \"casting\": list(dict_cast.values()), \\\n",
    "               \"genres\": list(dict_genre.values()), \"duration\": duration, \\\n",
    "               \"country\": list(dict_country.values()), \"language\": list(dict_language.values()), \\\n",
    "               \"production\": list(dict_prod.values()), \"synopsis\": synopsis, \"rating\": rating, \\\n",
    "               \"num_rate\": num_rate, \"budget\": def_budget}"
   ]
  },
  {
   "cell_type": "code",
   "execution_count": 346,
   "metadata": {
    "scrolled": true
   },
   "outputs": [],
   "source": [
    "select = pd.DataFrame(select_data).set_index(\"imdb_id\")"
   ]
  },
  {
   "cell_type": "code",
   "execution_count": 347,
   "metadata": {},
   "outputs": [
    {
     "data": {
      "text/html": [
       "<div>\n",
       "<style scoped>\n",
       "    .dataframe tbody tr th:only-of-type {\n",
       "        vertical-align: middle;\n",
       "    }\n",
       "\n",
       "    .dataframe tbody tr th {\n",
       "        vertical-align: top;\n",
       "    }\n",
       "\n",
       "    .dataframe thead th {\n",
       "        text-align: right;\n",
       "    }\n",
       "</style>\n",
       "<table border=\"1\" class=\"dataframe\">\n",
       "  <thead>\n",
       "    <tr style=\"text-align: right;\">\n",
       "      <th></th>\n",
       "      <th>vu</th>\n",
       "      <th>à voir</th>\n",
       "      <th>title</th>\n",
       "      <th>original_title</th>\n",
       "      <th>year</th>\n",
       "      <th>director</th>\n",
       "      <th>casting</th>\n",
       "      <th>genres</th>\n",
       "      <th>duration</th>\n",
       "      <th>country</th>\n",
       "      <th>language</th>\n",
       "      <th>production</th>\n",
       "      <th>synopsis</th>\n",
       "      <th>rating</th>\n",
       "      <th>num_rate</th>\n",
       "      <th>budget</th>\n",
       "    </tr>\n",
       "    <tr>\n",
       "      <th>imdb_id</th>\n",
       "      <th></th>\n",
       "      <th></th>\n",
       "      <th></th>\n",
       "      <th></th>\n",
       "      <th></th>\n",
       "      <th></th>\n",
       "      <th></th>\n",
       "      <th></th>\n",
       "      <th></th>\n",
       "      <th></th>\n",
       "      <th></th>\n",
       "      <th></th>\n",
       "      <th></th>\n",
       "      <th></th>\n",
       "      <th></th>\n",
       "      <th></th>\n",
       "    </tr>\n",
       "  </thead>\n",
       "  <tbody>\n",
       "    <tr>\n",
       "      <th>tt6013920</th>\n",
       "      <td></td>\n",
       "      <td></td>\n",
       "      <td>Copyright Van Gogh</td>\n",
       "      <td>China's Van Goghs</td>\n",
       "      <td>2016</td>\n",
       "      <td>Yu Haibo | Yu Tianqi Kiki</td>\n",
       "      <td>Xiaoyong Zhao | Yongjiu Zhou | Yue</td>\n",
       "      <td>Documentary</td>\n",
       "      <td>80</td>\n",
       "      <td>China | Netherlands</td>\n",
       "      <td>Dutch | Chinese | English</td>\n",
       "      <td>Century Image Media | Trueworks | Internationa...</td>\n",
       "      <td>An intimate portrait of a peasant-turned oil p...</td>\n",
       "      <td>7.5</td>\n",
       "      <td>279</td>\n",
       "      <td></td>\n",
       "    </tr>\n",
       "    <tr>\n",
       "      <th>tt11286314</th>\n",
       "      <td></td>\n",
       "      <td></td>\n",
       "      <td>Don't Look Up: Déni cosmique</td>\n",
       "      <td>Don't Look Up</td>\n",
       "      <td>2021</td>\n",
       "      <td>Adam McKay</td>\n",
       "      <td>Leonardo DiCaprio | Jennifer Lawrence | Meryl ...</td>\n",
       "      <td>Comedy | Drama | Sci-Fi</td>\n",
       "      <td>138</td>\n",
       "      <td>USA</td>\n",
       "      <td>English</td>\n",
       "      <td>Bluegrass Films | Hyperobject Industries</td>\n",
       "      <td>Kate Dibiasky (Jennifer Lawrence), an astronom...</td>\n",
       "      <td>7.3</td>\n",
       "      <td>84335</td>\n",
       "      <td></td>\n",
       "    </tr>\n",
       "  </tbody>\n",
       "</table>\n",
       "</div>"
      ],
      "text/plain": [
       "           vu à voir                         title     original_title  year  \\\n",
       "imdb_id                                                                       \n",
       "tt6013920                       Copyright Van Gogh  China's Van Goghs  2016   \n",
       "tt11286314            Don't Look Up: Déni cosmique      Don't Look Up  2021   \n",
       "\n",
       "                             director  \\\n",
       "imdb_id                                 \n",
       "tt6013920   Yu Haibo | Yu Tianqi Kiki   \n",
       "tt11286314                 Adam McKay   \n",
       "\n",
       "                                                      casting  \\\n",
       "imdb_id                                                         \n",
       "tt6013920                  Xiaoyong Zhao | Yongjiu Zhou | Yue   \n",
       "tt11286314  Leonardo DiCaprio | Jennifer Lawrence | Meryl ...   \n",
       "\n",
       "                             genres  duration              country  \\\n",
       "imdb_id                                                              \n",
       "tt6013920               Documentary        80  China | Netherlands   \n",
       "tt11286314  Comedy | Drama | Sci-Fi       138                  USA   \n",
       "\n",
       "                             language  \\\n",
       "imdb_id                                 \n",
       "tt6013920   Dutch | Chinese | English   \n",
       "tt11286314                    English   \n",
       "\n",
       "                                                   production  \\\n",
       "imdb_id                                                         \n",
       "tt6013920   Century Image Media | Trueworks | Internationa...   \n",
       "tt11286314           Bluegrass Films | Hyperobject Industries   \n",
       "\n",
       "                                                     synopsis  rating  \\\n",
       "imdb_id                                                                 \n",
       "tt6013920   An intimate portrait of a peasant-turned oil p...     7.5   \n",
       "tt11286314  Kate Dibiasky (Jennifer Lawrence), an astronom...     7.3   \n",
       "\n",
       "            num_rate budget  \n",
       "imdb_id                      \n",
       "tt6013920        279         \n",
       "tt11286314     84335         "
      ]
     },
     "execution_count": 347,
     "metadata": {},
     "output_type": "execute_result"
    }
   ],
   "source": [
    "select"
   ]
  },
  {
   "cell_type": "code",
   "execution_count": 262,
   "metadata": {},
   "outputs": [],
   "source": [
    "select.to_csv(\"movies_scraped.csv\")"
   ]
  },
  {
   "cell_type": "markdown",
   "metadata": {},
   "source": [
    "## Update movie_sql"
   ]
  },
  {
   "cell_type": "code",
   "execution_count": 60,
   "metadata": {},
   "outputs": [],
   "source": [
    "movie_data = {\"imdb_id\": imdb, \"title\": title, \"original_title\": original_title, \"year\": year, \\\n",
    "               \"duration\": duration, \"rating\": rating, \"num_rate\": num_rate, \"budget\": def_budget, \\\n",
    "               \"synopsis\": synopsis}"
   ]
  },
  {
   "cell_type": "code",
   "execution_count": 61,
   "metadata": {},
   "outputs": [],
   "source": [
    "up_movie = pd.DataFrame(movie_data).set_index(\"imdb_id\")"
   ]
  },
  {
   "cell_type": "code",
   "execution_count": 62,
   "metadata": {},
   "outputs": [],
   "source": [
    "up_movie.to_csv(\"update_sql/up_movies.csv\")"
   ]
  },
  {
   "cell_type": "markdown",
   "metadata": {},
   "source": [
    "## Update user_db"
   ]
  },
  {
   "cell_type": "code",
   "execution_count": null,
   "metadata": {},
   "outputs": [],
   "source": [
    "user_data = {\"imdb_id\": imdb, \"saw\": db_saw, \"wishlist\": db_saw}"
   ]
  },
  {
   "cell_type": "code",
   "execution_count": null,
   "metadata": {},
   "outputs": [],
   "source": [
    "up_user = pd.DataFrame(user_data).set_index(\"imdb_id\")"
   ]
  },
  {
   "cell_type": "code",
   "execution_count": null,
   "metadata": {},
   "outputs": [],
   "source": [
    "up_user.to_csv(\"update_db/up_user.csv\")"
   ]
  },
  {
   "cell_type": "markdown",
   "metadata": {},
   "source": [
    "## Update actor_sql"
   ]
  },
  {
   "cell_type": "code",
   "execution_count": 63,
   "metadata": {},
   "outputs": [],
   "source": [
    "actor_df = pd.read_csv('new_sql/actor_sql.csv')"
   ]
  },
  {
   "cell_type": "code",
   "execution_count": 64,
   "metadata": {},
   "outputs": [],
   "source": [
    "code_actor = list(actor_df.code.values)"
   ]
  },
  {
   "cell_type": "code",
   "execution_count": 65,
   "metadata": {},
   "outputs": [],
   "source": [
    "update_cast_code = []\n",
    "update_cast = []"
   ]
  },
  {
   "cell_type": "code",
   "execution_count": 66,
   "metadata": {},
   "outputs": [],
   "source": [
    "for i in range(len(cast_code)): \n",
    "    for j in range(len(cast_code[i])):\n",
    "        if cast_code[i][j] not in code_actor:\n",
    "            update_cast_code.append(cast_code[i][j])\n",
    "            update_cast.append(cast[i][j])\n",
    "            code_actor.append(cast_code[i][j])"
   ]
  },
  {
   "cell_type": "code",
   "execution_count": 67,
   "metadata": {},
   "outputs": [],
   "source": [
    "actor_data = {\"actor_id\": update_cast_code, \"name\": update_cast}"
   ]
  },
  {
   "cell_type": "code",
   "execution_count": 68,
   "metadata": {},
   "outputs": [],
   "source": [
    "up_actor = pd.DataFrame(actor_data)"
   ]
  },
  {
   "cell_type": "code",
   "execution_count": 69,
   "metadata": {},
   "outputs": [],
   "source": [
    "up_actor = up_actor.drop(up_actor[up_actor[\"actor_id\"] == \"\"].index).set_index(\"actor_id\")"
   ]
  },
  {
   "cell_type": "code",
   "execution_count": 70,
   "metadata": {},
   "outputs": [],
   "source": [
    "if len(update_cast) > 0:\n",
    "    up_actor.to_csv(\"update_sql/up_actor.csv\")"
   ]
  },
  {
   "cell_type": "markdown",
   "metadata": {},
   "source": [
    "## Update director_sql"
   ]
  },
  {
   "cell_type": "code",
   "execution_count": 71,
   "metadata": {},
   "outputs": [],
   "source": [
    "dir_df = pd.read_csv('new_sql/director_sql.csv')"
   ]
  },
  {
   "cell_type": "code",
   "execution_count": 72,
   "metadata": {},
   "outputs": [],
   "source": [
    "code_dir = list(dir_df.code_name.values)"
   ]
  },
  {
   "cell_type": "code",
   "execution_count": 73,
   "metadata": {},
   "outputs": [],
   "source": [
    "update_dir_code = []\n",
    "update_dir = []"
   ]
  },
  {
   "cell_type": "code",
   "execution_count": 74,
   "metadata": {},
   "outputs": [],
   "source": [
    "for i in range(len(dir_code)): \n",
    "    for j in range(len(dir_code[i])):\n",
    "        if dir_code[i][j] not in code_dir:\n",
    "            update_dir_code.append(dir_code[i][j])\n",
    "            update_dir.append(director[i][j])\n",
    "            code_dir.append(dir_code[i][j])"
   ]
  },
  {
   "cell_type": "code",
   "execution_count": 75,
   "metadata": {},
   "outputs": [],
   "source": [
    "dir_data = {\"director_id\": update_dir_code, \"name\": update_dir}"
   ]
  },
  {
   "cell_type": "code",
   "execution_count": 76,
   "metadata": {},
   "outputs": [],
   "source": [
    "up_dir = pd.DataFrame(dir_data)"
   ]
  },
  {
   "cell_type": "code",
   "execution_count": 77,
   "metadata": {},
   "outputs": [],
   "source": [
    "up_dir = up_dir.drop(up_dir[up_dir[\"director_id\"] == \"\"].index).set_index(\"director_id\")"
   ]
  },
  {
   "cell_type": "code",
   "execution_count": 78,
   "metadata": {},
   "outputs": [],
   "source": [
    "if len(update_dir) > 0:\n",
    "    up_dir.to_csv(\"update_sql/up_dir.csv\")"
   ]
  },
  {
   "cell_type": "markdown",
   "metadata": {},
   "source": [
    "## Update production_sql"
   ]
  },
  {
   "cell_type": "code",
   "execution_count": 79,
   "metadata": {},
   "outputs": [],
   "source": [
    "prod_df = pd.read_csv('new_sql/production_sql.csv')"
   ]
  },
  {
   "cell_type": "code",
   "execution_count": 80,
   "metadata": {},
   "outputs": [],
   "source": [
    "code_prod = list(prod_df.prod_code.values)"
   ]
  },
  {
   "cell_type": "code",
   "execution_count": 81,
   "metadata": {},
   "outputs": [],
   "source": [
    "update_prod_code = []\n",
    "update_prod = []"
   ]
  },
  {
   "cell_type": "code",
   "execution_count": 82,
   "metadata": {},
   "outputs": [],
   "source": [
    "for i in range(len(prod_code)): \n",
    "    for j in range(len(prod_code[i])):\n",
    "        if prod_code[i][j] not in code_prod:\n",
    "            update_prod_code.append(prod_code[i][j])\n",
    "            update_prod.append(production[i][j])\n",
    "            code_prod.append(prod_code[i][j])"
   ]
  },
  {
   "cell_type": "code",
   "execution_count": 83,
   "metadata": {},
   "outputs": [],
   "source": [
    "prod_data = {\"prod_id\": update_prod_code, \"name\": update_prod}"
   ]
  },
  {
   "cell_type": "code",
   "execution_count": 84,
   "metadata": {},
   "outputs": [],
   "source": [
    "up_prod = pd.DataFrame(prod_data)"
   ]
  },
  {
   "cell_type": "code",
   "execution_count": 85,
   "metadata": {},
   "outputs": [],
   "source": [
    "up_prod = up_prod.drop(up_prod[up_prod[\"prod_id\"] == \"\"].index).set_index(\"prod_id\")"
   ]
  },
  {
   "cell_type": "code",
   "execution_count": 86,
   "metadata": {},
   "outputs": [],
   "source": [
    "if len(update_prod) > 0:\n",
    "    up_prod.to_csv(\"update_sql/up_prod.csv\")"
   ]
  },
  {
   "cell_type": "markdown",
   "metadata": {},
   "source": [
    "## Update movie_dir_sql"
   ]
  },
  {
   "cell_type": "code",
   "execution_count": 87,
   "metadata": {},
   "outputs": [],
   "source": [
    "dir_imdb = [imdb[i] for i in range(len(imdb)) for j in range(len(dir_code[i]))]\n",
    "all_dir = [dir_code[i][j] for i in range(len(imdb)) for j in range(len(dir_code[i]))]"
   ]
  },
  {
   "cell_type": "code",
   "execution_count": 88,
   "metadata": {},
   "outputs": [],
   "source": [
    "movie_dir_data = {\"movie_id\": dir_imdb, \"director_id\": all_dir}"
   ]
  },
  {
   "cell_type": "code",
   "execution_count": 89,
   "metadata": {},
   "outputs": [],
   "source": [
    "up_movie_dir = pd.DataFrame(movie_dir_data)"
   ]
  },
  {
   "cell_type": "code",
   "execution_count": 90,
   "metadata": {},
   "outputs": [],
   "source": [
    "up_movie_dir = up_movie_dir.drop(up_movie_dir[up_movie_dir[\"director_id\"] == \"\"].index).set_index(\"movie_id\")"
   ]
  },
  {
   "cell_type": "code",
   "execution_count": 91,
   "metadata": {},
   "outputs": [],
   "source": [
    "up_movie_dir.to_csv(\"update_sql/up_movie_dir.csv\")"
   ]
  },
  {
   "cell_type": "markdown",
   "metadata": {},
   "source": [
    "## Update movie_actor_sql"
   ]
  },
  {
   "cell_type": "code",
   "execution_count": 92,
   "metadata": {},
   "outputs": [],
   "source": [
    "cast_imdb = [imdb[i] for i in range(len(imdb)) for j in range(len(cast_code[i]))]\n",
    "all_actor = [cast_code[i][j] for i in range(len(imdb)) for j in range(len(cast_code[i]))]"
   ]
  },
  {
   "cell_type": "code",
   "execution_count": 93,
   "metadata": {},
   "outputs": [],
   "source": [
    "movie_cast_data = {\"movie_id\": cast_imdb, \"actor_id\": all_actor}"
   ]
  },
  {
   "cell_type": "code",
   "execution_count": 94,
   "metadata": {},
   "outputs": [],
   "source": [
    "up_movie_cast = pd.DataFrame(movie_cast_data)"
   ]
  },
  {
   "cell_type": "code",
   "execution_count": 95,
   "metadata": {},
   "outputs": [],
   "source": [
    "up_movie_cast = up_movie_cast.drop(up_movie_cast[up_movie_cast[\"actor_id\"] == \"\"].index).set_index(\"movie_id\")"
   ]
  },
  {
   "cell_type": "code",
   "execution_count": 96,
   "metadata": {},
   "outputs": [],
   "source": [
    "up_movie_cast.to_csv(\"update_sql/up_movie_cast.csv\")"
   ]
  },
  {
   "cell_type": "markdown",
   "metadata": {},
   "source": [
    "## Update movie_prod_sql"
   ]
  },
  {
   "cell_type": "code",
   "execution_count": 97,
   "metadata": {},
   "outputs": [],
   "source": [
    "prod_imdb = [imdb[i] for i in range(len(imdb)) for j in range(len(prod_code[i]))]\n",
    "all_prod = [prod_code[i][j] for i in range(len(imdb)) for j in range(len(prod_code[i]))]"
   ]
  },
  {
   "cell_type": "code",
   "execution_count": 98,
   "metadata": {},
   "outputs": [],
   "source": [
    "movie_prod_data = {\"movie_id\": prod_imdb, \"prod_id\": all_prod}"
   ]
  },
  {
   "cell_type": "code",
   "execution_count": 99,
   "metadata": {},
   "outputs": [],
   "source": [
    "up_movie_prod = pd.DataFrame(movie_prod_data)"
   ]
  },
  {
   "cell_type": "code",
   "execution_count": 100,
   "metadata": {},
   "outputs": [],
   "source": [
    "up_movie_prod = up_movie_prod.drop(up_movie_prod[up_movie_prod[\"prod_id\"] == \"\"].index).set_index(\"movie_id\")"
   ]
  },
  {
   "cell_type": "code",
   "execution_count": 101,
   "metadata": {},
   "outputs": [],
   "source": [
    "up_movie_prod.to_csv(\"update_sql/up_movie_prod.csv\")"
   ]
  },
  {
   "cell_type": "markdown",
   "metadata": {},
   "source": [
    "## Update movie_genre_sql"
   ]
  },
  {
   "cell_type": "code",
   "execution_count": 102,
   "metadata": {},
   "outputs": [],
   "source": [
    "genre_imdb = [imdb[i] for i in range(len(imdb)) for j in range(len(genres[i]))]"
   ]
  },
  {
   "cell_type": "code",
   "execution_count": 103,
   "metadata": {},
   "outputs": [],
   "source": [
    "movie_genre_data = {\"movie_id\": genre_imdb, \"genre_id\": genre_code}"
   ]
  },
  {
   "cell_type": "code",
   "execution_count": 104,
   "metadata": {},
   "outputs": [],
   "source": [
    "up_movie_genre = pd.DataFrame(movie_genre_data)"
   ]
  },
  {
   "cell_type": "code",
   "execution_count": 105,
   "metadata": {},
   "outputs": [],
   "source": [
    "up_movie_genre = up_movie_genre.drop(up_movie_genre[up_movie_genre[\"genre_id\"] == \"\"].index).set_index(\"movie_id\")"
   ]
  },
  {
   "cell_type": "code",
   "execution_count": 106,
   "metadata": {},
   "outputs": [],
   "source": [
    "up_movie_genre.to_csv(\"update_sql/up_movie_genre.csv\")"
   ]
  },
  {
   "cell_type": "markdown",
   "metadata": {},
   "source": [
    "## Update movie_country_sql"
   ]
  },
  {
   "cell_type": "code",
   "execution_count": 107,
   "metadata": {},
   "outputs": [],
   "source": [
    "country_imdb = [imdb[i] for i in range(len(imdb)) for j in range(len(country[i]))]"
   ]
  },
  {
   "cell_type": "code",
   "execution_count": 108,
   "metadata": {},
   "outputs": [],
   "source": [
    "movie_country_data = {\"movie_id\": country_imdb, \"country_id\": country_code}"
   ]
  },
  {
   "cell_type": "code",
   "execution_count": 109,
   "metadata": {},
   "outputs": [],
   "source": [
    "up_movie_country = pd.DataFrame(movie_country_data)"
   ]
  },
  {
   "cell_type": "code",
   "execution_count": 110,
   "metadata": {},
   "outputs": [],
   "source": [
    "up_movie_country = up_movie_country.drop(up_movie_country[up_movie_country[\"country_id\"] == \"\"].index).set_index(\"movie_id\")"
   ]
  },
  {
   "cell_type": "code",
   "execution_count": 111,
   "metadata": {},
   "outputs": [],
   "source": [
    "up_movie_country.to_csv(\"update_sql/up_movie_country.csv\")"
   ]
  },
  {
   "cell_type": "markdown",
   "metadata": {},
   "source": [
    "## Update movie_language_sql"
   ]
  },
  {
   "cell_type": "code",
   "execution_count": 112,
   "metadata": {},
   "outputs": [],
   "source": [
    "language_imdb = [imdb[i] for i in range(len(imdb)) for j in range(len(language[i]))]"
   ]
  },
  {
   "cell_type": "code",
   "execution_count": 113,
   "metadata": {},
   "outputs": [],
   "source": [
    "movie_language_data = {\"movie_id\": language_imdb, \"language_id\": language_code}"
   ]
  },
  {
   "cell_type": "code",
   "execution_count": 114,
   "metadata": {},
   "outputs": [],
   "source": [
    "up_movie_language = pd.DataFrame(movie_language_data)"
   ]
  },
  {
   "cell_type": "code",
   "execution_count": 115,
   "metadata": {},
   "outputs": [],
   "source": [
    "up_movie_language = up_movie_language.drop(up_movie_language[up_movie_language[\"language_id\"] == \"\"].index).set_index(\"movie_id\")"
   ]
  },
  {
   "cell_type": "code",
   "execution_count": 116,
   "metadata": {},
   "outputs": [],
   "source": [
    "up_movie_language.to_csv(\"update_sql/up_movie_language.csv"
   ]
  }
 ],
 "metadata": {
  "kernelspec": {
   "display_name": "Python 3",
   "language": "python",
   "name": "python3"
  },
  "language_info": {
   "codemirror_mode": {
    "name": "ipython",
    "version": 3
   },
   "file_extension": ".py",
   "mimetype": "text/x-python",
   "name": "python",
   "nbconvert_exporter": "python",
   "pygments_lexer": "ipython3",
   "version": "3.7.6"
  }
 },
 "nbformat": 4,
 "nbformat_minor": 4
}
