{
 "cells": [
  {
   "cell_type": "code",
   "execution_count": 2,
   "metadata": {},
   "outputs": [],
   "source": [
    "import requests, csv\n",
    "from bs4 import BeautifulSoup\n",
    "import re\n",
    "import pandas as pd\n",
    "import tqdm\n",
    "import numpy as np\n",
    "from collections import OrderedDict"
   ]
  },
  {
   "cell_type": "code",
   "execution_count": 1074,
   "metadata": {},
   "outputs": [],
   "source": [
    "def movie_imdb(imdb_id):\n",
    "    \n",
    "    #SELECT SYNOPSIS, GENRES, RATING, NUMBER RATE, YEAR, TITLE, ORIGINAL TITLE, COUNTRY,\n",
    "    #SELECT LANGUAGE, PRODUCTION, BUDGET, INCOME\n",
    "    \n",
    "    r1 = requests.get(\"https://www.imdb.com/title/\"+imdb_id)\n",
    "    bs = BeautifulSoup(r1.text)\n",
    "    \n",
    "    # Dictionnary for title, orginal_title, rating, num_rate\n",
    "    \n",
    "    info_dict = bs.find('script', {'type': 'application/ld+json'})\n",
    "    info_dict = info_dict.text\n",
    "    info_dict = OrderedDict(eval(info_dict))\n",
    "    \n",
    "    original_title = info_dict[\"name\"]\n",
    "    try :\n",
    "        title = info_dict[\"alternateName\"]\n",
    "    except KeyError:\n",
    "        title = info_dict[\"name\"]\n",
    "           \n",
    "    rating = info_dict['aggregateRating']['ratingValue']\n",
    "    num_rate = info_dict['aggregateRating']['ratingCount']\n",
    "    \n",
    "    \n",
    "    #Dictionnary for budget, bud_currency\n",
    "    \n",
    "    info_dict_2 = bs.findAll('script', {'id': re.compile('__NEXT_DATA__')})\n",
    "    info_dict_2 = [text.text for text in info_dict_2][0]\n",
    "    info_dict_2 = OrderedDict(eval(info_dict_2, {'null': None, 'false':None, 'true':None}))\n",
    "    info_dict_2_1 = info_dict_2['props']['urqlState']\n",
    "    \n",
    "    for key in info_dict_2_1.keys():\n",
    "        try:\n",
    "            budget = info_dict_2_1[key]['data']['title']['productionBudget']\n",
    "            def_key = key\n",
    "        except KeyError:\n",
    "            continue\n",
    "    \n",
    "    if budget == None:\n",
    "        budget = \"\"\n",
    "        bud_currency = \"\"\n",
    "    else : \n",
    "        budget = info_dict_2_1[def_key]['data']['title']['productionBudget'][\"budget\"][\"amount\"]\n",
    "        bud_currency = info_dict_2_1[def_key]['data']['title']['productionBudget'][\"budget\"][\"currency\"]\n",
    "    \n",
    "    \n",
    "    year = bs.findAll('a', {'class': re.compile('ipc-link')})\n",
    "    year = int([text.text for text in year][0])\n",
    "    \n",
    "    genre_bs = bs.findAll('a', {'class': re.compile('ipc-metadata-list-item')})\n",
    "    genre_bs = [text.text for text in genre_bs]\n",
    "    \n",
    "    genre_list = [\"Action\", \"Adult\", \"Adventure\", \"Animation\", \"Biography\", \"Comedy\", \"Crime\", \"Documentary\", \n",
    "              \"Drama\", \"Family\", \"Fantasy\", \"Film-Noir\", \"History\", \"Horror\", \"Music\", \"Musical\", \"Mystery\", \n",
    "              \"News\", \"Reality-TV\", \"Romance\", \"Sci-Fi\", \"Short\", \"Sport\", \"Thriller\", \"War\", \"Western\"]\n",
    "    \n",
    "    genres = [genre for genre in genre_bs if genre in genre_list]\n",
    "    \n",
    "    \n",
    "    syn = bs.findAll('div', {'class': 'ipc-html-content ipc-html-content--base'})[0]\n",
    "    syn = [text.text for text in syn]\n",
    "    synopsis = syn[0].split(\" —\")[0]\n",
    "    \n",
    "    \n",
    "    countries = bs.findAll('a', {'href': re.compile('country_of_origin')})\n",
    "    if len(countries) == 0:\n",
    "        country = [\"\"]\n",
    "    else:\n",
    "        country = [\"USA\" if text.text == \"United States\" else \"UK\" if text.text == \"United Kingdom\" \\\n",
    "                    else text.text for text in countries]\n",
    "    \n",
    "    \n",
    "    \n",
    "    language = bs.findAll('a', {'href': re.compile('primary_language')})\n",
    "    if len(language) == 0:\n",
    "        language = [\"\"]\n",
    "    else : \n",
    "        language = [text.text for text in language]\n",
    "    \n",
    "      \n",
    "    #SELECT CASTING, DIRECTOR, WRITERS\n",
    "    \n",
    "    r2 = requests.get(\"https://www.imdb.com/title/\"+imdb_id+\"/fullcredits\")\n",
    "    bs2 = BeautifulSoup(r2.text)\n",
    "\n",
    "    #select casting\n",
    "    cast_list = bs2.find_all('table', {'class': 'cast_list'})\n",
    "    if cast_list == None:\n",
    "        cast = [\"\"]\n",
    "        actor_code = [\"\"]\n",
    "    else :\n",
    "        cast_list_test = bs2.find('table', {'class': 'cast_list'}).find_all('td', {'class':'primary_photo'})\n",
    "        if len(cast_list_test) >= 30 : \n",
    "            cast = [str(cast_list).split('img alt=\"')[i].split('\" class=\"')[0] for i in range(1,31)]\n",
    "            cast_code = [str(cast_list_test).split('/name/')[i].split('/\">')[0] for i in range(1,31)]\n",
    "        else : \n",
    "            cast = [str(cast_list).split('img alt=\"')[i].split('\" class=\"')[0] \\\n",
    "                    for i in range(1,len(cast_list_test)+1)]\n",
    "            cast_code = [str(cast_list_test).split('/name/')[i].split('/\">')[0] \\\n",
    "                          for i in range(1,len(cast_list_test)+1)]\n",
    "    \n",
    "    #select director\n",
    "    test_dir = bs2.find('h4', {'id':'director'})\n",
    "    if test_dir == None:\n",
    "        director = [\"\"]\n",
    "        dir_code = [\"\"]\n",
    "    else : \n",
    "        direct = bs2.find('table', {'class': 'simpleTable simpleCreditsTable'}) \\\n",
    "                .find_all('td', {'class': 'name'})\n",
    "        direct_t = [text.text for text in direct]\n",
    "        director = [i.strip() for i in direct_t]\n",
    "        dir_code = [(str(direct).split('href=\"/name/')[i+1]).split('/\"> ')[0] for i in range(len(director))]\n",
    "    \n",
    "    #SELECT RUNTIME\n",
    "    \n",
    "    r3 = requests.get(\"https://www.imdb.com/title/\"+imdb_id+\"/technical\")\n",
    "    bs3 = BeautifulSoup(r3.text)\n",
    "\n",
    "    time = bs3.find('table', {'class': 'dataTable labelValueTable'}).find_all('tr', {'class': 'odd'})\n",
    "    runtime = [text.text for text in time]\n",
    "    try:\n",
    "        if (\"min (\" in (runtime[0].strip())) and (\" min)\" in (runtime[0].strip())):\n",
    "            duration = int((runtime[0].strip().split(\"min (\")[1]).split(\" min)\")[0])\n",
    "        elif \"hr (\" in (runtime[0].strip()): \n",
    "            duration = int((runtime[0].strip().split(\"hr (\")[1]).split(\" min)\")[0])\n",
    "        else :\n",
    "            duration = int((runtime[0].strip().split(\"Runtime\")[1]).split(\" min\")[0])\n",
    "    except ValueError:\n",
    "        duration = \"\"\n",
    "        \n",
    "        \n",
    "    #SELECT PRODUCTION\n",
    "    \n",
    "    r4 = requests.get(\"https://www.imdb.com/title/\"+imdb_id+\"/companycredits\")\n",
    "    bs4 = BeautifulSoup(r4.content)\n",
    "    test = bs4.find('h4', {'id': 'production'})\n",
    "    if test == None:\n",
    "        production = [\"\"]\n",
    "        prod_code = [\"\"]\n",
    "    else : \n",
    "        prod_list = bs4.find('ul', {'class': 'simpleList'}).find_all(\"li\")\n",
    "        prod_t = [text.text.strip() for text in prod_list]\n",
    "        production = [pro.split(\"   \")[0] if \"   \" in pro else pro for pro in prod_t]\n",
    "        \n",
    "        prod_code = [(str(i).split(\"pany/\")[1]).split('\">')[0] for i in prod_list]\n",
    "        \n",
    "    \n",
    "    return imdb_id, title, original_title, year, director, dir_code, cast, cast_code, genres, duration, country, language, \\\n",
    "    production, prod_code, synopsis, rating, num_rate, budget, bud_currency"
   ]
  },
  {
   "cell_type": "code",
   "execution_count": 479,
   "metadata": {},
   "outputs": [],
   "source": [
    "df = pd.read_excel('to_scrap.xlsx')"
   ]
  },
  {
   "cell_type": "code",
   "execution_count": 1075,
   "metadata": {},
   "outputs": [],
   "source": [
    "imdb_id = df[\"imdb\"].values"
   ]
  },
  {
   "cell_type": "code",
   "execution_count": 1076,
   "metadata": {},
   "outputs": [],
   "source": [
    "movies = []"
   ]
  },
  {
   "cell_type": "code",
   "execution_count": 1077,
   "metadata": {
    "scrolled": false
   },
   "outputs": [
    {
     "name": "stderr",
     "output_type": "stream",
     "text": [
      "100%|██████████| 18/18 [01:09<00:00,  3.86s/it]\n"
     ]
    }
   ],
   "source": [
    "for movie in tqdm.tqdm(imdb_id):\n",
    "    movies.append(movie_imdb(movie))"
   ]
  },
  {
   "cell_type": "code",
   "execution_count": 1078,
   "metadata": {},
   "outputs": [],
   "source": [
    "imdb = [i[0] for i in movies]\n",
    "title = [i[1] for i in movies]\n",
    "original_title = [i[2] for i in movies]\n",
    "year = [i[3] for i in movies]\n",
    "director = [i[4] for i in movies]\n",
    "dir_code = [i[5] for i in movies]\n",
    "cast = [i[6] for i in movies]\n",
    "cast_code = [i[7] for i in movies]\n",
    "genres = [i[8] for i in movies]\n",
    "duration = [i[9] for i in movies]\n",
    "country = [i[10] for i in movies]\n",
    "language = [i[11] for i in movies]\n",
    "production = [i[12] for i in movies]\n",
    "prod_code = [i[13] for i in movies]\n",
    "synopsis = [i[14] for i in movies]\n",
    "rating = [i[15] for i in movies]\n",
    "num_rate = [i[16] for i in movies]\n",
    "budget = [i[17] for i in movies]\n",
    "bud_currency = [i[18] for i in movies]"
   ]
  },
  {
   "cell_type": "code",
   "execution_count": 1079,
   "metadata": {},
   "outputs": [],
   "source": [
    "saw = [\"\" for i in range(len(imdb))]"
   ]
  },
  {
   "cell_type": "markdown",
   "metadata": {},
   "source": [
    "## Make change of currencies"
   ]
  },
  {
   "cell_type": "code",
   "execution_count": 1080,
   "metadata": {},
   "outputs": [],
   "source": [
    "changer = pd.read_excel(\"currency_change.xlsx\")"
   ]
  },
  {
   "cell_type": "code",
   "execution_count": 1081,
   "metadata": {},
   "outputs": [],
   "source": [
    "def_budget = []"
   ]
  },
  {
   "cell_type": "code",
   "execution_count": 1082,
   "metadata": {
    "scrolled": true
   },
   "outputs": [],
   "source": [
    "for i in range(len(bud_currency)):\n",
    "    if bud_currency[i] == \"\":\n",
    "        def_budget.append(\"\")\n",
    "    else:\n",
    "        def_budget.append(int(budget[i] * changer[\"Change\"].values[list(changer.Currencies.values).index(bud_currency[i])]))"
   ]
  },
  {
   "cell_type": "markdown",
   "metadata": {},
   "source": [
    "## Update selection_film"
   ]
  },
  {
   "cell_type": "markdown",
   "metadata": {},
   "source": [
    "#### List to string for directors, actors, genres, countries, language, production"
   ]
  },
  {
   "cell_type": "code",
   "execution_count": 977,
   "metadata": {},
   "outputs": [],
   "source": [
    "dict_dir = {}\n",
    "dict_cast = {}\n",
    "dict_genre = {}\n",
    "dict_country = {}\n",
    "dict_language = {}\n",
    "dict_prod = {}"
   ]
  },
  {
   "cell_type": "code",
   "execution_count": 978,
   "metadata": {},
   "outputs": [],
   "source": [
    "temp_dir = []\n",
    "temp_cast = []\n",
    "temp_genre = []\n",
    "temp_country = []\n",
    "temp_language = []\n",
    "temp_prod = []"
   ]
  },
  {
   "cell_type": "code",
   "execution_count": 979,
   "metadata": {},
   "outputs": [],
   "source": [
    "ids = imdb[0]"
   ]
  },
  {
   "cell_type": "code",
   "execution_count": 980,
   "metadata": {},
   "outputs": [],
   "source": [
    "for i in range(len(imdb)):\n",
    "    for j in range(len(director[i])):\n",
    "        if ids == imdb[i]:\n",
    "            temp_dir.append(director[i][j]) \n",
    "        elif ids != imdb[i]:\n",
    "            dict_dir[ids] = \" | \".join(temp_dir)\n",
    "            ids = imdb[i]\n",
    "            temp_dir = []\n",
    "            temp_dir.append(director[i][j])\n",
    "    dict_dir[ids] = \" | \".join(temp_dir)"
   ]
  },
  {
   "cell_type": "code",
   "execution_count": 981,
   "metadata": {},
   "outputs": [],
   "source": [
    "ids = imdb[0]"
   ]
  },
  {
   "cell_type": "code",
   "execution_count": 982,
   "metadata": {},
   "outputs": [],
   "source": [
    "for i in range(len(imdb)):\n",
    "    for j in range(len(cast[i])):\n",
    "        if ids == imdb[i]:\n",
    "            temp_cast.append(cast[i][j])\n",
    "        elif ids != imdb[i]:\n",
    "            dict_cast[ids] = \" | \".join(temp_cast)\n",
    "            ids = imdb[i]\n",
    "            temp_cast = []\n",
    "            temp_cast.append(cast[i][j])\n",
    "    dict_cast[ids] = \" | \".join(temp_cast)"
   ]
  },
  {
   "cell_type": "code",
   "execution_count": 983,
   "metadata": {},
   "outputs": [],
   "source": [
    "ids = imdb[0]"
   ]
  },
  {
   "cell_type": "code",
   "execution_count": 984,
   "metadata": {},
   "outputs": [],
   "source": [
    "for i in range(len(imdb)):\n",
    "    for j in range(len(genres[i])):\n",
    "        if ids == imdb[i]:\n",
    "            temp_genre.append(genres[i][j])\n",
    "        elif ids != imdb[i]:\n",
    "            dict_genre[ids] = \" | \".join(temp_genre)\n",
    "            ids = imdb[i]\n",
    "            temp_genre = []\n",
    "            temp_genre.append(genres[i][j])\n",
    "    dict_genre[ids] = \" | \".join(temp_genre)"
   ]
  },
  {
   "cell_type": "code",
   "execution_count": 985,
   "metadata": {},
   "outputs": [],
   "source": [
    "ids = imdb[0]"
   ]
  },
  {
   "cell_type": "code",
   "execution_count": 986,
   "metadata": {},
   "outputs": [],
   "source": [
    "for i in range(len(imdb)):\n",
    "    for j in range(len(country[i])):\n",
    "        if ids == imdb[i]:\n",
    "            temp_country.append(country[i][j])\n",
    "        elif ids != imdb[i]:\n",
    "            dict_country[ids] = \" | \".join(temp_country)\n",
    "            ids = imdb[i]\n",
    "            temp_country = []\n",
    "            temp_country.append(country[i][j])\n",
    "    dict_country[ids] = \" | \".join(temp_country)"
   ]
  },
  {
   "cell_type": "code",
   "execution_count": 987,
   "metadata": {},
   "outputs": [],
   "source": [
    "ids = imdb[0]"
   ]
  },
  {
   "cell_type": "code",
   "execution_count": 988,
   "metadata": {},
   "outputs": [],
   "source": [
    "for i in range(len(imdb)):\n",
    "    for j in range(len(language[i])):\n",
    "        if ids == imdb[i]:\n",
    "            temp_language.append(language[i][j])\n",
    "        elif ids != imdb[i]:\n",
    "            dict_language[ids] = \" | \".join(temp_language)\n",
    "            ids = imdb[i]\n",
    "            temp_language = []\n",
    "            temp_language.append(language[i][j])\n",
    "    dict_language[ids] = \" | \".join(temp_language)"
   ]
  },
  {
   "cell_type": "code",
   "execution_count": 989,
   "metadata": {},
   "outputs": [],
   "source": [
    "ids = imdb[0]"
   ]
  },
  {
   "cell_type": "code",
   "execution_count": 990,
   "metadata": {},
   "outputs": [],
   "source": [
    "for i in range(len(imdb)):\n",
    "    for j in range(len(production[i])):\n",
    "        if ids == imdb[i]:\n",
    "            temp_prod.append(production[i][j])\n",
    "        elif ids != imdb[i]:\n",
    "            dict_prod[ids] = \" | \".join(temp_prod)\n",
    "            ids = imdb[i]\n",
    "            temp_prod = []\n",
    "            temp_prod.append(production[i][j])\n",
    "    dict_prod[ids] = \" | \".join(temp_prod)"
   ]
  },
  {
   "cell_type": "markdown",
   "metadata": {},
   "source": [
    "#### Put data in a dataframe"
   ]
  },
  {
   "cell_type": "code",
   "execution_count": 1026,
   "metadata": {},
   "outputs": [],
   "source": [
    "select_data = {\"imdb_id\": imdb, \"vu\": saw, \"à voir\": saw, \"title\": title, \"original_title\": original_title, \\\n",
    "               \"year\": year, \"director\": list(dict_dir.values()), \"casting\": list(dict_cast.values()), \\\n",
    "               \"genres\": list(dict_genre.values()), \"duration\": duration, \\\n",
    "               \"country\": list(dict_country.values()), \"language\": list(dict_language.values()), \\\n",
    "               \"production\": list(dict_prod.values()), \"synopsis\": synopsis, \"rating\": rating, \\\n",
    "               \"num_rate\": num_rate, \"budget\": def_budget}"
   ]
  },
  {
   "cell_type": "code",
   "execution_count": 1035,
   "metadata": {},
   "outputs": [],
   "source": [
    "select = pd.DataFrame(select_data).set_index(\"imdb_id\")"
   ]
  },
  {
   "cell_type": "code",
   "execution_count": 1037,
   "metadata": {},
   "outputs": [],
   "source": [
    "select.to_csv(\"movies_scraped.csv\")"
   ]
  },
  {
   "cell_type": "code",
   "execution_count": null,
   "metadata": {},
   "outputs": [],
   "source": []
  },
  {
   "cell_type": "code",
   "execution_count": null,
   "metadata": {},
   "outputs": [],
   "source": [
    "actor_sql.csv\n",
    "actor_sql_test.csv\n",
    "country_sql.csv\n",
    "director_sql.csv\n",
    "genre_sql.csv\n",
    "language_sql.csv\n",
    "movie_actor_sql_1.csv\n",
    "movie_actor_sql_2.csv\n",
    "movie_country_sql.csv\n",
    "movie_dir_sql.csv\n",
    "movie_genre_sql.csv\n",
    "movie_language_sql.csv\n",
    "movie_prod_sql.csv\n",
    "movies_sql.csv\n",
    "production_sql.csv\n",
    "user_list_sql.csv"
   ]
  },
  {
   "cell_type": "markdown",
   "metadata": {},
   "source": [
    "## Update actor_sql"
   ]
  },
  {
   "cell_type": "code",
   "execution_count": 1083,
   "metadata": {},
   "outputs": [],
   "source": [
    "actor_df = pd.read_csv('new_sql/actor_sql.csv')"
   ]
  },
  {
   "cell_type": "code",
   "execution_count": 1084,
   "metadata": {},
   "outputs": [],
   "source": [
    "code_actor = list(actor_df.code.values)\n",
    "casting = list(actor_df.casting.values)"
   ]
  },
  {
   "cell_type": "code",
   "execution_count": 1085,
   "metadata": {},
   "outputs": [],
   "source": [
    "update_cast_code = [cast_code[i] for i in range(len(cast_code)) if cast_code[i] in code_actor]\n",
    "update_cast = [cast[i] for i in range(len(cast_code)) if cast[i] in casting]"
   ]
  },
  {
   "cell_type": "code",
   "execution_count": 1087,
   "metadata": {},
   "outputs": [],
   "source": [
    "actor_data = {\"code\": update_cast_code, \"casting\": update_cast}"
   ]
  },
  {
   "cell_type": "code",
   "execution_count": 1088,
   "metadata": {},
   "outputs": [],
   "source": [
    "up_actor = pd.DataFrame(actor_data).set_index(\"code\")"
   ]
  },
  {
   "cell_type": "code",
   "execution_count": 1089,
   "metadata": {},
   "outputs": [],
   "source": [
    "if len(update_cast) > 0:\n",
    "    update_cast.to_csv(\"update_sql/up_actor.csv\")"
   ]
  },
  {
   "cell_type": "markdown",
   "metadata": {},
   "source": [
    "## Update director_sql"
   ]
  },
  {
   "cell_type": "code",
   "execution_count": 1090,
   "metadata": {},
   "outputs": [],
   "source": [
    "dir_df = pd.read_csv('new_sql/director_sql.csv')"
   ]
  },
  {
   "cell_type": "code",
   "execution_count": 1091,
   "metadata": {},
   "outputs": [],
   "source": [
    "code_dir = list(dir_df.code_name.values)\n",
    "directors = list(dir_df.director.values)"
   ]
  },
  {
   "cell_type": "code",
   "execution_count": 1093,
   "metadata": {},
   "outputs": [],
   "source": [
    "update_dir_code = [dir_code[i] for i in range(len(dir_code)) if dir_code[i] in code_dir]\n",
    "update_dir = [director[i] for i in range(len(dir_code)) if director[i] in directors]"
   ]
  },
  {
   "cell_type": "code",
   "execution_count": 1095,
   "metadata": {},
   "outputs": [],
   "source": [
    "dir_data = {\"code\": update_dir_code, \"director\": update_dir}"
   ]
  },
  {
   "cell_type": "code",
   "execution_count": 1096,
   "metadata": {},
   "outputs": [],
   "source": [
    "up_dir = pd.DataFrame(dir_data).set_index(\"code\")"
   ]
  },
  {
   "cell_type": "code",
   "execution_count": 1097,
   "metadata": {},
   "outputs": [],
   "source": [
    "if len(update_dir) > 0:\n",
    "    update_dir.to_csv(\"update_sql/up_dir.csv\")"
   ]
  },
  {
   "cell_type": "markdown",
   "metadata": {},
   "source": [
    "## Update production_sql"
   ]
  },
  {
   "cell_type": "code",
   "execution_count": 1099,
   "metadata": {},
   "outputs": [],
   "source": [
    "prod_df = pd.read_csv('new_sql/production_sql.csv')"
   ]
  },
  {
   "cell_type": "code",
   "execution_count": 1100,
   "metadata": {},
   "outputs": [],
   "source": [
    "code_prod = list(prod_df.prod_code.values)\n",
    "productors = list(prod_df.production.values)"
   ]
  },
  {
   "cell_type": "code",
   "execution_count": 1101,
   "metadata": {},
   "outputs": [],
   "source": [
    "update_prod_code = [prod_code[i] for i in range(len(prod_code)) if prod_code[i] in code_prod]\n",
    "update_prod = [production[i] for i in range(len(prod_code)) if production[i] in productors]"
   ]
  },
  {
   "cell_type": "code",
   "execution_count": 1095,
   "metadata": {},
   "outputs": [],
   "source": [
    "prod_data = {\"code\": update_prod_code, \"production\": update_prod}"
   ]
  },
  {
   "cell_type": "code",
   "execution_count": 1096,
   "metadata": {},
   "outputs": [],
   "source": [
    "up_prod = pd.DataFrame(prod_data).set_index(\"code\")"
   ]
  },
  {
   "cell_type": "code",
   "execution_count": 1097,
   "metadata": {},
   "outputs": [],
   "source": [
    "if len(update_prod) > 0:\n",
    "    up_prod.to_csv(\"update_sql/up_prod.csv\")"
   ]
  },
  {
   "cell_type": "code",
   "execution_count": null,
   "metadata": {},
   "outputs": [],
   "source": [
    "## Update director_sql\n",
    "\n",
    "dir_df = pd.read_csv('new_sql/director_sql.csv')\n",
    "\n",
    "code_dir = list(dir_df.code_name.values)\n",
    "directors = list(dir_df.director.values)\n",
    "\n",
    "update_dir_code = [dir_code[i] for i in range(len(dir_code)) if dir_code[i] in code_dir]\n",
    "update_dir = [director[i] for i in range(len(dir_code)) if director[i] in directors]\n",
    "\n",
    "dir_data = {\"code\": update_dir_code, \"director\": update_dir}\n",
    "\n",
    "up_dir = pd.DataFrame(dir_data).set_index(\"code\")\n",
    "\n",
    "if len(update_dir) > 0:\n",
    "    update_dir.to_csv(\"update_sql/up_dir.csv\")\n",
    "\n",
    "## Update production_sql\n",
    "\n",
    "prod_df = pd.read_csv('new_sql/production_sql.csv')\n",
    "\n",
    "code_prod = list(prod_df.prod_code.values)\n",
    "productors = list(prod_df.production.values)\n",
    "\n",
    "update_prod_code = [prod_code[i] for i in range(len(prod_code)) if prod_code[i] in code_prod]\n",
    "update_prod = [production[i] for i in range(len(prod_code)) if production[i] in productors]\n",
    "\n",
    "prod_data = {\"code\": update_prod_code, \"production\": update_prod}\n",
    "\n",
    "up_prod = pd.DataFrame(prod_data).set_index(\"code\")\n",
    "\n",
    "if len(update_prod) > 0:\n",
    "    up_prod.to_csv(\"update_sql/up_prod.csv\")"
   ]
  },
  {
   "cell_type": "code",
   "execution_count": null,
   "metadata": {},
   "outputs": [],
   "source": []
  },
  {
   "cell_type": "code",
   "execution_count": null,
   "metadata": {},
   "outputs": [],
   "source": []
  },
  {
   "cell_type": "code",
   "execution_count": null,
   "metadata": {},
   "outputs": [],
   "source": []
  },
  {
   "cell_type": "code",
   "execution_count": null,
   "metadata": {},
   "outputs": [],
   "source": []
  },
  {
   "cell_type": "code",
   "execution_count": null,
   "metadata": {},
   "outputs": [],
   "source": []
  },
  {
   "cell_type": "code",
   "execution_count": null,
   "metadata": {},
   "outputs": [],
   "source": []
  },
  {
   "cell_type": "code",
   "execution_count": null,
   "metadata": {},
   "outputs": [],
   "source": []
  },
  {
   "cell_type": "code",
   "execution_count": null,
   "metadata": {},
   "outputs": [],
   "source": []
  },
  {
   "cell_type": "code",
   "execution_count": null,
   "metadata": {},
   "outputs": [],
   "source": []
  },
  {
   "cell_type": "code",
   "execution_count": null,
   "metadata": {},
   "outputs": [],
   "source": []
  }
 ],
 "metadata": {
  "kernelspec": {
   "display_name": "Python 3",
   "language": "python",
   "name": "python3"
  },
  "language_info": {
   "codemirror_mode": {
    "name": "ipython",
    "version": 3
   },
   "file_extension": ".py",
   "mimetype": "text/x-python",
   "name": "python",
   "nbconvert_exporter": "python",
   "pygments_lexer": "ipython3",
   "version": "3.7.6"
  }
 },
 "nbformat": 4,
 "nbformat_minor": 4
}
