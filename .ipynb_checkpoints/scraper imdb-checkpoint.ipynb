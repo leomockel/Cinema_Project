{
 "cells": [
  {
   "cell_type": "markdown",
   "metadata": {},
   "source": [
    "# Scrapping movies on IMDB"
   ]
  },
  {
   "cell_type": "code",
   "execution_count": 838,
   "metadata": {},
   "outputs": [],
   "source": [
    "import requests, csv\n",
    "from bs4 import BeautifulSoup\n",
    "import re\n",
    "import pandas as pd"
   ]
  },
  {
   "cell_type": "code",
   "execution_count": 821,
   "metadata": {},
   "outputs": [],
   "source": [
    "def movie_imdb(imdb_id):\n",
    "    \n",
    "    #SELECT SYNOPSIS, GENRES, RATING, NUMBER RATE, YEAR, TITLE, DURATION, COUNTRY, \n",
    "    #SELECT LANGUAGE, BUDGET, PRODUCTION, INCOME\n",
    "    response = requests.get(\"https://www.imdb.com/title/\"+imdb_id)\n",
    "    soup = BeautifulSoup(response.text)\n",
    "    \n",
    "    #select title and year\n",
    "    tit = soup.find_all('div', {'class': 'titleBar'})\n",
    "    tit_y = [text.text for text in tit]\n",
    "    tit_y = re.sub('\\n', '', tit_y[0])\n",
    "    title = tit_y.split(\"\\xa0(\")[0]\n",
    "    year = int((tit_y.split(\"\\xa0(\")[1]).split(\")\")[0])\n",
    "    \n",
    "    #select synopsis and genres\n",
    "    syn = soup.find_all(id=\"titleStoryLine\")\n",
    "    syn_list = [text.text for text in syn]\n",
    "    syn_list = re.sub('\\n', '', syn_list[0])\n",
    "    syno = re.sub('EditStoryline    ', '', syn_list)\n",
    "    synopsis = \"\"\n",
    "  \n",
    "    if \"Written by\" in syno:\n",
    "        synopsis = syno.split(\"Written by\")[0]\n",
    "    if \"Plot Summary\" in syno:\n",
    "        synopsis = syno.split(\"Plot Summary\")[0]\n",
    "    \n",
    "    genres = (syn_list.split(\"Genres:\")[1]).split(\" MysteryCertificate\")[0]\n",
    "    if \"Certificate\" in re.sub(\"\\xa0\", \"\", genres):\n",
    "        genres = re.sub(\"\\xa0\", \"\", genres).strip().replace(\"|\", \",\").split(\"Certificate\")[0]\n",
    "    else :\n",
    "        genres = re.sub(\"\\xa0\", \"\", genres).strip().replace(\"|\", \",\")[:-1]\n",
    "    \n",
    "    #select rating\n",
    "    rate = soup.find_all(itemprop=\"ratingValue\")\n",
    "    rating = [text.text for text in rate][0]\n",
    "    \n",
    "    #select number of ratings\n",
    "    n_rate = soup.find_all(itemprop=\"ratingCount\")\n",
    "    num_rate = [text.text for text in n_rate]\n",
    "    num_rate = int(re.sub(',', '', num_rate[0]))\n",
    "    \n",
    "    #select country, language, budget, duration, production, income\n",
    "    other = soup.find(id='titleDetails').find_all('div', {'class':'txt-block'})\n",
    "    test = [text.text for text in other]\n",
    "    \n",
    "    country = \"\"\n",
    "    language = \"\"\n",
    "    budget = \"\"\n",
    "    duration = \"\"\n",
    "    production = \"\"\n",
    "    income = \"\"\n",
    "    \n",
    "    for i in range(0, len(test)):\n",
    "        if \"Country\" in re.sub('\\n', '', test[i]):\n",
    "            country = re.sub('\\n', '', test[i]).split(\"Country:\")[1].replace(\"|\", \", \")\n",
    "        \n",
    "    for i in range(0, len(test)):\n",
    "        if \"Language\" in re.sub('\\n', '', test[i]):\n",
    "            language = re.sub('\\n', '', test[i]).split(\"Language:\")[1].replace(\"|\", \", \")\n",
    "        \n",
    "    for i in range(0, len(test)):\n",
    "        if \"Budget\" in re.sub('\\n', '', test[i]):\n",
    "            budget = re.sub('\\n', '', test[i]).split(\"Budget:\")[1].split(\"   \")[0]\n",
    "        \n",
    "    for i in range(0, len(test)):\n",
    "        if \"Runtime\" in re.sub('\\n', '', test[i]):\n",
    "            duration = int((re.sub('\\n', '', test[i]).split(\"Runtime:\")[1]).split(\" min\")[0])\n",
    "        \n",
    "    for i in range(0, len(test)):\n",
    "        if \"Production Co\" in re.sub('\\n', '', test[i]) and \",\" in re.sub('\\n', '', test[i]):\n",
    "            production = (re.sub('\\n', '', test[i]).split(\"Production Co:\")[1]).split(\",\")[0].strip()\n",
    "        if \"Production Co\" in re.sub('\\n', '', test[i]) and \",\" not in re.sub('\\n', '', test[i]):\n",
    "            production = (re.sub('\\n', '', test[i]).split(\"Production Co:\")[1]).split(\" See more\")[0].strip()\n",
    "            \n",
    "    for i in range(0, len(test)):\n",
    "        if \"Cumulative Worldwide Gross\" in re.sub('\\n', '', test[i]):\n",
    "            income = (re.sub('\\n', '', test[i]).split(\"Cumulative Worldwide Gross:\")[1]).split(\"   \")[0].strip()\n",
    "        \n",
    "    \n",
    "    \n",
    "    #SELECT CASTING, DIRECTOR, WRITERS\n",
    "    response = requests.get(\"https://www.imdb.com/title/\"+imdb_id+\"/fullcredits\")\n",
    "    soup2 = BeautifulSoup(response.text)\n",
    "    \n",
    "    #select casting\n",
    "    cast_list = soup2.find_all('table', {'class': 'cast_list'})\n",
    "    cast = []\n",
    "    for i in range(1, 16):\n",
    "        try: \n",
    "            cast.append((str(cast_list).split('img alt=\"')[i]).split('\" class=\"')[0])\n",
    "            casting = str(cast)\n",
    "            casting = re.sub(\"'\", \"\", casting[1:-1])\n",
    "        except IndexError:\n",
    "            break\n",
    "    \n",
    "    #select director\n",
    "    direct = soup2.find('table', {'class': 'simpleTable simpleCreditsTable'}) \\\n",
    "            .find_all('td', {'class': 'name'})\n",
    "    director = [text.text for text in direct]\n",
    "    director = str(director)[1:-1].replace(\"\\\\n \", \"\").replace(\"'\", \"\")\n",
    "    \n",
    "    #select writers\n",
    "    write = soup2.find_all('table', {'class': 'simpleTable simpleCreditsTable'})[1] \\\n",
    "            .find_all('td', {'class': 'name'})\n",
    "    writers = [text.text for text in write]\n",
    "    writers = str(writers)[1:-1].replace(\"\\\\n \", \"\").replace(\"'\", \"\")\n",
    "    \n",
    "    \n",
    "    \n",
    "    return title, year, director, casting, genres, duration, country, language, \\\n",
    "    writers, production, synopsis, rating, num_rate, budget, income"
   ]
  },
  {
   "cell_type": "code",
   "execution_count": 825,
   "metadata": {},
   "outputs": [],
   "source": [
    "title, year, director, casting, genres, duration, country, language, \\\n",
    "    writers, production, synopsis, rating, num_rate, budget, income = movie_imdb(\"tt10682266\")"
   ]
  },
  {
   "cell_type": "code",
   "execution_count": 826,
   "metadata": {
    "scrolled": true
   },
   "outputs": [
    {
     "data": {
      "text/plain": [
       "'Happy Madison Productions'"
      ]
     },
     "execution_count": 826,
     "metadata": {},
     "output_type": "execute_result"
    }
   ],
   "source": [
    "production"
   ]
  },
  {
   "cell_type": "code",
   "execution_count": 686,
   "metadata": {},
   "outputs": [],
   "source": [
    "df = pd.read_excel('to_scrap.xlsx')"
   ]
  },
  {
   "cell_type": "code",
   "execution_count": 690,
   "metadata": {},
   "outputs": [],
   "source": [
    "imdb_id = df[\"imdb\"].values"
   ]
  },
  {
   "cell_type": "code",
   "execution_count": 803,
   "metadata": {},
   "outputs": [],
   "source": [
    "movies = []"
   ]
  },
  {
   "cell_type": "code",
   "execution_count": 804,
   "metadata": {},
   "outputs": [],
   "source": [
    "for movie in imdb_id:\n",
    "    movies.append(movie_imdb(movie))"
   ]
  },
  {
   "cell_type": "code",
   "execution_count": 739,
   "metadata": {},
   "outputs": [],
   "source": [
    "columns_name = [\"title\", \"year\", \"director\", \"casting\", \"genres\", \"duration\", \"country\", \"language\", \\\n",
    "\"writers\", \"production\", \"synopsis\", \"rating\", \"num_rate\", \"budget\", \"income\"]"
   ]
  },
  {
   "cell_type": "code",
   "execution_count": 805,
   "metadata": {},
   "outputs": [],
   "source": [
    "result = pd.DataFrame(movies, columns = columns_name)"
   ]
  },
  {
   "cell_type": "code",
   "execution_count": 806,
   "metadata": {},
   "outputs": [],
   "source": [
    "final_df = pd.concat([df, result.iloc[:, 1:]], axis=1)"
   ]
  },
  {
   "cell_type": "code",
   "execution_count": 808,
   "metadata": {},
   "outputs": [],
   "source": [
    "final_df.to_csv(\"movies_scraped.csv\")"
   ]
  }
 ],
 "metadata": {
  "kernelspec": {
   "display_name": "Python 3",
   "language": "python",
   "name": "python3"
  },
  "language_info": {
   "codemirror_mode": {
    "name": "ipython",
    "version": 3
   },
   "file_extension": ".py",
   "mimetype": "text/x-python",
   "name": "python",
   "nbconvert_exporter": "python",
   "pygments_lexer": "ipython3",
   "version": "3.7.6"
  }
 },
 "nbformat": 4,
 "nbformat_minor": 4
}
