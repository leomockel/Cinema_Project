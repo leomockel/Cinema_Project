{
 "cells": [
  {
   "cell_type": "code",
   "execution_count": 1,
   "metadata": {},
   "outputs": [],
   "source": [
    "import requests, csv\n",
    "from bs4 import BeautifulSoup\n",
    "import re\n",
    "import pandas as pd\n",
    "import tqdm\n",
    "import numpy as np\n",
    "from collections import OrderedDict"
   ]
  },
  {
   "cell_type": "code",
   "execution_count": 168,
   "metadata": {},
   "outputs": [],
   "source": [
    "def prod_imdb(imdb_id):\n",
    "    \n",
    "    \n",
    "    #SELECT PRODUCTION\n",
    "    \n",
    "    r4 = requests.get(\"https://www.imdb.com/title/\"+imdb_id+\"/companycredits\")\n",
    "    bs4 = BeautifulSoup(r4.content)\n",
    "    \n",
    "    #SELECT PRODUCERS\n",
    "    try:\n",
    "        prod = bs4.find('ul', {'class': 'simpleList'})\n",
    "        prod_t = prod.text\n",
    "    except AttributeError : \n",
    "        productions = \"\"\n",
    "        prod_code = \"\"\n",
    "        movie_id = \"\"\n",
    "        \n",
    "    try:\n",
    "        if \"(\" in prod_t:\n",
    "            prod_t = re.sub(r'\\([^)]*\\)', '', prod_t)\n",
    "        prod_t = prod_t.replace(\"\\n \", \"\")\n",
    "        prod_t = prod_t.strip().split(\"\\n\\n\")\n",
    "    \n",
    "        productions = []\n",
    "        movie_id = []\n",
    "        for i in prod_t:\n",
    "            productions.append(i.strip())\n",
    "            movie_id.append(imdb_id)\n",
    "    except UnboundLocalError : \n",
    "        production = \"\"    \n",
    "        movie_id = \"\"\n",
    "        \n",
    "    #SELECT PRODUCER CODE\n",
    "    \n",
    "    try:\n",
    "        code = prod.find_all(\"a\")\n",
    "    \n",
    "        prod_code = []\n",
    "        for i in range(len(code)):\n",
    "            prod_code.append((str(code[i]).split(\"pany/\")[1]).split('\">')[0])\n",
    "    except (AttributeError, UnboundLocalError) : \n",
    "        prod_code = \"\"\n",
    "    \n",
    "    \n",
    "    return movie_id, prod_code, productions"
   ]
  },
  {
   "cell_type": "code",
   "execution_count": 3,
   "metadata": {},
   "outputs": [],
   "source": [
    "df = pd.read_excel('id_title.xlsx')"
   ]
  },
  {
   "cell_type": "code",
   "execution_count": 4,
   "metadata": {},
   "outputs": [],
   "source": [
    "imdb_id = df[\"id\"].values"
   ]
  },
  {
   "cell_type": "code",
   "execution_count": 97,
   "metadata": {},
   "outputs": [],
   "source": [
    "columns_name = [\"imdb_id\", \"prod_code\", \"production\"]"
   ]
  },
  {
   "cell_type": "code",
   "execution_count": 316,
   "metadata": {},
   "outputs": [],
   "source": [
    "prod_df = pd.DataFrame(columns = columns_name)"
   ]
  },
  {
   "cell_type": "code",
   "execution_count": 317,
   "metadata": {},
   "outputs": [],
   "source": [
    "temp_id = []\n",
    "temp_code = []\n",
    "temp_prod = []"
   ]
  },
  {
   "cell_type": "code",
   "execution_count": 265,
   "metadata": {},
   "outputs": [
    {
     "data": {
      "text/plain": [
       "'tt0374916'"
      ]
     },
     "execution_count": 265,
     "metadata": {},
     "output_type": "execute_result"
    }
   ],
   "source": [
    "imdb_id[39024]"
   ]
  },
  {
   "cell_type": "code",
   "execution_count": 318,
   "metadata": {
    "scrolled": true
   },
   "outputs": [
    {
     "name": "stderr",
     "output_type": "stream",
     "text": [
      "100%|██████████| 5991/5991 [3:00:17<00:00,  1.81s/it]  \n"
     ]
    }
   ],
   "source": [
    "for movie in tqdm.tqdm(imdb_id[80000:]):\n",
    "    temp_id += prod_imdb(movie)[0]\n",
    "    temp_code += prod_imdb(movie)[1]\n",
    "    temp_prod += prod_imdb(movie)[2]"
   ]
  },
  {
   "cell_type": "code",
   "execution_count": 319,
   "metadata": {
    "scrolled": false
   },
   "outputs": [
    {
     "data": {
      "text/plain": [
       "(15600, 15600, 15600)"
      ]
     },
     "execution_count": 319,
     "metadata": {},
     "output_type": "execute_result"
    }
   ],
   "source": [
    "len(temp_id), len(temp_code),len(temp_prod)"
   ]
  },
  {
   "cell_type": "code",
   "execution_count": 255,
   "metadata": {},
   "outputs": [
    {
     "data": {
      "text/plain": [
       "'tt6739796'"
      ]
     },
     "execution_count": 255,
     "metadata": {},
     "output_type": "execute_result"
    }
   ],
   "source": [
    "temp_id[-2]"
   ]
  },
  {
   "cell_type": "code",
   "execution_count": 307,
   "metadata": {},
   "outputs": [],
   "source": [
    "temp1 = temp_id[:-2]\n",
    "temp2 = temp_code"
   ]
  },
  {
   "cell_type": "code",
   "execution_count": 308,
   "metadata": {},
   "outputs": [],
   "source": [
    "prod_df[\"imdb_id\"] = temp1\n",
    "prod_df[\"prod_code\"] = temp2\n",
    "prod_df[\"production\"] = temp_prod"
   ]
  },
  {
   "cell_type": "code",
   "execution_count": 320,
   "metadata": {},
   "outputs": [],
   "source": [
    "prod_df[\"imdb_id\"] = temp_id\n",
    "prod_df[\"prod_code\"] = temp_code\n",
    "prod_df[\"production\"] = temp_prod"
   ]
  },
  {
   "cell_type": "code",
   "execution_count": 321,
   "metadata": {},
   "outputs": [],
   "source": [
    "prod_df.to_excel(\"prod_list2.xlsx\")"
   ]
  },
  {
   "cell_type": "code",
   "execution_count": null,
   "metadata": {},
   "outputs": [],
   "source": []
  },
  {
   "cell_type": "code",
   "execution_count": 233,
   "metadata": {},
   "outputs": [],
   "source": [
    "id_df = pd.DataFrame(columns = [\"movie_id\"])"
   ]
  },
  {
   "cell_type": "code",
   "execution_count": 234,
   "metadata": {},
   "outputs": [],
   "source": [
    "code_df = pd.DataFrame(columns = [\"prod_code\"])"
   ]
  },
  {
   "cell_type": "code",
   "execution_count": 235,
   "metadata": {},
   "outputs": [],
   "source": [
    "product_df = pd.DataFrame(columns = [\"production\"])"
   ]
  },
  {
   "cell_type": "code",
   "execution_count": 236,
   "metadata": {},
   "outputs": [],
   "source": [
    "id_df[\"movie_id\"] = temp_id\n",
    "code_df[\"prod_code\"] = temp_code\n",
    "product_df[\"production\"] = temp_prod"
   ]
  },
  {
   "cell_type": "code",
   "execution_count": 237,
   "metadata": {},
   "outputs": [],
   "source": [
    "id_df.to_excel(\"id_prod.xlsx\")\n",
    "code_df.to_excel(\"code_prod.xlsx\")\n",
    "product_df.to_excel(\"name_prod.xlsx\")"
   ]
  },
  {
   "cell_type": "code",
   "execution_count": null,
   "metadata": {},
   "outputs": [],
   "source": []
  },
  {
   "cell_type": "code",
   "execution_count": null,
   "metadata": {},
   "outputs": [],
   "source": []
  },
  {
   "cell_type": "code",
   "execution_count": null,
   "metadata": {},
   "outputs": [],
   "source": []
  },
  {
   "cell_type": "code",
   "execution_count": null,
   "metadata": {},
   "outputs": [],
   "source": []
  }
 ],
 "metadata": {
  "kernelspec": {
   "display_name": "Python 3",
   "language": "python",
   "name": "python3"
  },
  "language_info": {
   "codemirror_mode": {
    "name": "ipython",
    "version": 3
   },
   "file_extension": ".py",
   "mimetype": "text/x-python",
   "name": "python",
   "nbconvert_exporter": "python",
   "pygments_lexer": "ipython3",
   "version": "3.7.6"
  }
 },
 "nbformat": 4,
 "nbformat_minor": 4
}
