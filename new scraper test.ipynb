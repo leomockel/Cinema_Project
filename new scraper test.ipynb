{
 "cells": [
  {
   "cell_type": "code",
   "execution_count": 25,
   "metadata": {},
   "outputs": [],
   "source": [
    "import requests, csv\n",
    "from bs4 import BeautifulSoup\n",
    "import re\n",
    "import pandas as pd\n",
    "import numpy as np\n",
    "from collections import OrderedDict\n",
    "import tqdm"
   ]
  },
  {
   "cell_type": "code",
   "execution_count": 51,
   "metadata": {},
   "outputs": [],
   "source": [
    "def movie_imdb(imdb_id):\n",
    "\n",
    "    #SELECT SYNOPSIS, GENRES, RATING, NUMBER RATE, YEAR, TITLE, ORIGINAL TITLE, COUNTRY,\n",
    "    #SELECT LANGUAGE, BUDGET\n",
    "\n",
    "    r1 = requests.get(\"https://www.imdb.com/title/\"+imdb_id)\n",
    "    bs = BeautifulSoup(r1.text, \"html.parser\")\n",
    "\n",
    "    # Dictionnary for title, orginal_title, rating, num_rate\n",
    "\n",
    "    info_dict = bs.find('script', {'type': 'application/ld+json'})\n",
    "    info_dict = info_dict.text\n",
    "    info_dict = OrderedDict(eval(info_dict))\n",
    "\n",
    "    original_title = info_dict[\"name\"]\n",
    "\n",
    "    if original_title.find(\"&apos;\") != -1:\n",
    "        original_title = original_title.replace(\"&apos;\", \"'\")\n",
    "\n",
    "    if original_title.find(\"&amp\") != -1:\n",
    "        original_title = original_title.replace(\"&amp\", \"&\")\n",
    "\n",
    "    try :\n",
    "        title = info_dict[\"alternateName\"]\n",
    "    except KeyError:\n",
    "        title = info_dict[\"name\"]\n",
    "\n",
    "    if title.find(\"&amp\") != -1:\n",
    "        title = title.replace(\"&amp\", \"&\")\n",
    "\n",
    "    if title.find(\"&apos;\") != -1:\n",
    "        title = title.replace(\"&apos;\", \"'\")\n",
    "\n",
    "    try :\n",
    "        rating = info_dict['aggregateRating']['ratingValue']\n",
    "        num_rate = int(info_dict['aggregateRating']['ratingCount'])\n",
    "    except KeyError:\n",
    "        rating = \"\"\n",
    "        num_rate = \"\"\n",
    "\n",
    "    # Info budget bud_currency\n",
    "\n",
    "    try:\n",
    "        info_bud = bs.findAll('section', {'data-testid': 'BoxOffice'})\n",
    "        info_bud = [text.text for text in info_bud][0]\n",
    "        price = info_bud.split(\"EditBudget\")[1].split(\" \")[0]\n",
    "        budget = int(price[1:].replace(',',''))\n",
    "        bud_currency = price[0]\n",
    "    except (IndexError, ValueError):\n",
    "        budget = \"\"\n",
    "        bud_currency = \"\"\n",
    "        \n",
    "\n",
    "    # Info YEAR\n",
    "\n",
    "    year = bs.findAll('a', {'class': re.compile('ipc-link')})\n",
    "    year = int([text.text for text in year][0].strip(\"– \"))\n",
    "\n",
    "    # Info genres\n",
    "    genre_bs = bs.findAll('a', {'class': re.compile('ipc-metadata-list-item')})\n",
    "    genre_bs = [text.text for text in genre_bs]\n",
    "\n",
    "    genre_list = [\"Action\", \"Adult\", \"Adventure\", \"Animation\", \"Biography\", \"Comedy\", \"Crime\", \"Documentary\",\n",
    "              \"Drama\", \"Family\", \"Fantasy\", \"Film-Noir\", \"History\", \"Horror\", \"Music\", \"Musical\", \"Mystery\",\n",
    "              \"News\", \"Reality-TV\", \"Romance\", \"Sci-Fi\", \"Short\", \"Sport\", \"Thriller\", \"War\", \"Western\"]\n",
    "\n",
    "    genres = [genre for genre in genre_bs if genre in genre_list]\n",
    "\n",
    "    # Info SYNOPSIS\n",
    "    try :\n",
    "        syn = bs.findAll('div', {'class': 'ipc-html-content ipc-html-content--base'})[0]\n",
    "        syn = [text.text for text in syn]\n",
    "        synopsis = syn[0].split(\" —\")[0]\n",
    "    except IndexError:\n",
    "        synopsis = \"\"\n",
    "\n",
    "\n",
    "    countries = bs.findAll('a', {'href': re.compile('country_of_origin')})\n",
    "    if len(countries) == 0:\n",
    "        country = ['None']\n",
    "    else:\n",
    "        country = [\"USA\" if text.text == \"United States\" else \"UK\" if text.text == \"United Kingdom\" \\\n",
    "                    else text.text for text in countries]\n",
    "\n",
    "\n",
    "\n",
    "    language = bs.findAll('a', {'href': re.compile('primary_language')})\n",
    "    if len(language) == 0:\n",
    "        language = [\"No Info\"]\n",
    "    else :\n",
    "        language = [text.text for text in language]\n",
    "\n",
    "\n",
    "    #SELECT CASTING, DIRECTOR, WRITERS\n",
    "\n",
    "    r2 = requests.get(\"https://www.imdb.com/title/\"+imdb_id+\"/fullcredits\")\n",
    "    bs2 = BeautifulSoup(r2.text, \"html.parser\")\n",
    "\n",
    "    #select casting\n",
    "    cast_list = bs2.find_all('table', {'class': 'cast_list'})\n",
    "    if cast_list == None or cast_list == []:\n",
    "        cast = [\"\"]\n",
    "        cast_code = [\"\"]\n",
    "        cast_voice = [\"\"]\n",
    "    else :\n",
    "        cast_list_test = bs2.find('table', {'class': 'cast_list'}).find_all('td', {'class':'primary_photo'})\n",
    "        cast_list_char = bs2.find('table', {'class': 'cast_list'}).find_all('td', {'class':'character'})\n",
    "        cast_char = [text.text.strip().replace(' \\n', '') for text in cast_list_char]\n",
    "        if len(cast_list_test) >= 30 :\n",
    "            cast = [str(cast_list).split('img alt=\"')[i].split('\" class=\"')[0] for i in range(1,31)]\n",
    "            cast_code = [str(cast_list_test).split('/name/')[i].split('/\">')[0] for i in range(1,31)]\n",
    "            cast_voice = [\"V\" if \"(voice)\" in text else \"U\" if \"uncredited\" in text else \"\" \\\n",
    "                          for text in cast_char[:30]]\n",
    "        else :\n",
    "            cast = [str(cast_list).split('img alt=\"')[i].split('\" class=\"')[0] \\\n",
    "                    for i in range(1,len(cast_list_test)+1)]\n",
    "            cast_code = [str(cast_list_test).split('/name/')[i].split('/\">')[0] \\\n",
    "                          for i in range(1,len(cast_list_test)+1)]\n",
    "            cast_voice = [\"V\" if \"(voice)\" in text else \"U\" if \"uncredited\" in text else \"\" \\\n",
    "                          for text in cast_char[:len(cast_list_test)]]\n",
    "\n",
    "\n",
    "    #select director\n",
    "    test_dir = bs2.find('h4', {'id':'director'})\n",
    "    if test_dir == None:\n",
    "        director = [\"\"]\n",
    "        dir_code = [\"\"]\n",
    "    else :\n",
    "        direct = bs2.find('table', {'class': 'simpleTable simpleCreditsTable'}) \\\n",
    "                .find_all('td', {'class': 'name'})\n",
    "        direct_t = [text.text for text in direct]\n",
    "        director = [i.strip() for i in direct_t]\n",
    "        dir_code = [(str(direct).split('href=\"/name/')[i+1]).split('/\"> ')[0] for i in range(len(director))]\n",
    "\n",
    "    #SELECT RUNTIME\n",
    "\n",
    "    r3 = requests.get(\"https://www.imdb.com/title/\"+imdb_id+\"/technical\")\n",
    "    bs3 = BeautifulSoup(r3.text, \"html.parser\")\n",
    "\n",
    "    time = bs3.find('table', {'class': 'dataTable labelValueTable'}).find_all('tr', {'class': 'odd'})\n",
    "    runtime = [text.text for text in time]\n",
    "    try:\n",
    "        if (\"min (\" in (runtime[0].strip())) and (\" min)\" in (runtime[0].strip())):\n",
    "            duration = int((runtime[0].strip().split(\"min (\")[1]).split(\" min)\")[0])\n",
    "        elif \"hr (\" in (runtime[0].strip()):\n",
    "            duration = int((runtime[0].strip().split(\"hr (\")[1]).split(\" min)\")[0])\n",
    "        else :\n",
    "            duration = int((runtime[0].strip().split(\"Runtime\")[1]).split(\" min\")[0])\n",
    "    except (ValueError, IndexError):\n",
    "        duration = \"\"\n",
    "\n",
    "\n",
    "    #SELECT PRODUCTION\n",
    "\n",
    "    r4 = requests.get(\"https://www.imdb.com/title/\"+imdb_id+\"/companycredits\")\n",
    "    bs4 = BeautifulSoup(r4.content, \"html.parser\")\n",
    "    test = bs4.find('h4', {'id': 'production'})\n",
    "    if test == None:\n",
    "        production = [\"\"]\n",
    "        prod_code = [\"\"]\n",
    "    else :\n",
    "        prod_list = bs4.find('ul', {'class': 'simpleList'}).find_all(\"li\")\n",
    "        prod_t = [text.text.strip() for text in prod_list]\n",
    "        production = [pro.split(\"   \")[0] if \"   \" in pro else pro for pro in prod_t]\n",
    "\n",
    "        prod_code = [(str(i).split(\"pany/\")[1]).split('\">')[0] for i in prod_list]\n",
    "\n",
    "    if rating != \"\":\n",
    "        return imdb_id, title, original_title, year, director, dir_code, cast, cast_code, cast_voice, genres, duration, \\\n",
    "        country, language, production, prod_code, synopsis, rating, num_rate, budget, bud_currency\n",
    "    else:\n",
    "        return imdb_id, title,\"\",\"\",\"\",\"\",\"\",\"\",\"\",\"\",\"\",\"\",\"\",\"\",\"\",\"\",\"\",\"\",\"\", \"\""
   ]
  },
  {
   "cell_type": "code",
   "execution_count": 58,
   "metadata": {},
   "outputs": [],
   "source": [
    "df = pd.read_csv('movies_to_scrap/scrap_it.csv')"
   ]
  },
  {
   "cell_type": "code",
   "execution_count": 59,
   "metadata": {},
   "outputs": [],
   "source": [
    "imdb_id = df[\"imdb\"].values"
   ]
  },
  {
   "cell_type": "code",
   "execution_count": 54,
   "metadata": {},
   "outputs": [],
   "source": [
    "db_df = pd.read_csv('db_backup/movies_db.csv')"
   ]
  },
  {
   "cell_type": "code",
   "execution_count": 55,
   "metadata": {},
   "outputs": [],
   "source": [
    "imdb_db = db_df[\"imdb_id\"].values"
   ]
  },
  {
   "cell_type": "code",
   "execution_count": 56,
   "metadata": {},
   "outputs": [],
   "source": [
    "final_imdb = [i for i in imdb_id if i not in imdb_db]"
   ]
  },
  {
   "cell_type": "code",
   "execution_count": 57,
   "metadata": {},
   "outputs": [
    {
     "data": {
      "text/plain": [
       "['tt15153914', 'tt15550372']"
      ]
     },
     "execution_count": 57,
     "metadata": {},
     "output_type": "execute_result"
    }
   ],
   "source": [
    "final_imdb"
   ]
  },
  {
   "cell_type": "code",
   "execution_count": 60,
   "metadata": {},
   "outputs": [],
   "source": [
    "movies = []"
   ]
  },
  {
   "cell_type": "code",
   "execution_count": 61,
   "metadata": {},
   "outputs": [
    {
     "name": "stderr",
     "output_type": "stream",
     "text": [
      "100%|██████████| 13/13 [00:47<00:00,  3.64s/it]\n"
     ]
    }
   ],
   "source": [
    "for movie in tqdm.tqdm(imdb_id):\n",
    "    movies.append(movie_imdb(movie))"
   ]
  },
  {
   "cell_type": "code",
   "execution_count": 34,
   "metadata": {
    "scrolled": false
   },
   "outputs": [
    {
     "name": "stderr",
     "output_type": "stream",
     "text": [
      " 70%|███████   | 7/10 [00:27<00:11,  3.94s/it]\n"
     ]
    },
    {
     "ename": "ValueError",
     "evalue": "invalid literal for int() with base 10: 'RR\\xa010000000000'",
     "output_type": "error",
     "traceback": [
      "\u001b[0;31m---------------------------------------------------------------------------\u001b[0m",
      "\u001b[0;31mValueError\u001b[0m                                Traceback (most recent call last)",
      "\u001b[0;32m<ipython-input-34-706a0ba8545b>\u001b[0m in \u001b[0;36m<module>\u001b[0;34m\u001b[0m\n\u001b[1;32m      1\u001b[0m \u001b[0;32mfor\u001b[0m \u001b[0mmovie\u001b[0m \u001b[0;32min\u001b[0m \u001b[0mtqdm\u001b[0m\u001b[0;34m.\u001b[0m\u001b[0mtqdm\u001b[0m\u001b[0;34m(\u001b[0m\u001b[0mfinal_imdb\u001b[0m\u001b[0;34m)\u001b[0m\u001b[0;34m:\u001b[0m\u001b[0;34m\u001b[0m\u001b[0;34m\u001b[0m\u001b[0m\n\u001b[0;32m----> 2\u001b[0;31m     \u001b[0mmovies\u001b[0m\u001b[0;34m.\u001b[0m\u001b[0mappend\u001b[0m\u001b[0;34m(\u001b[0m\u001b[0mmovie_imdb\u001b[0m\u001b[0;34m(\u001b[0m\u001b[0mmovie\u001b[0m\u001b[0;34m)\u001b[0m\u001b[0;34m)\u001b[0m\u001b[0;34m\u001b[0m\u001b[0;34m\u001b[0m\u001b[0m\n\u001b[0m",
      "\u001b[0;32m<ipython-input-26-708686e238ef>\u001b[0m in \u001b[0;36mmovie_imdb\u001b[0;34m(imdb_id)\u001b[0m\n\u001b[1;32m     45\u001b[0m         \u001b[0minfo_bud\u001b[0m \u001b[0;34m=\u001b[0m \u001b[0;34m[\u001b[0m\u001b[0mtext\u001b[0m\u001b[0;34m.\u001b[0m\u001b[0mtext\u001b[0m \u001b[0;32mfor\u001b[0m \u001b[0mtext\u001b[0m \u001b[0;32min\u001b[0m \u001b[0minfo_bud\u001b[0m\u001b[0;34m]\u001b[0m\u001b[0;34m[\u001b[0m\u001b[0;36m0\u001b[0m\u001b[0;34m]\u001b[0m\u001b[0;34m\u001b[0m\u001b[0;34m\u001b[0m\u001b[0m\n\u001b[1;32m     46\u001b[0m         \u001b[0mprice\u001b[0m \u001b[0;34m=\u001b[0m \u001b[0minfo_bud\u001b[0m\u001b[0;34m.\u001b[0m\u001b[0msplit\u001b[0m\u001b[0;34m(\u001b[0m\u001b[0;34m\"EditBudget\"\u001b[0m\u001b[0;34m)\u001b[0m\u001b[0;34m[\u001b[0m\u001b[0;36m1\u001b[0m\u001b[0;34m]\u001b[0m\u001b[0;34m.\u001b[0m\u001b[0msplit\u001b[0m\u001b[0;34m(\u001b[0m\u001b[0;34m\" \"\u001b[0m\u001b[0;34m)\u001b[0m\u001b[0;34m[\u001b[0m\u001b[0;36m0\u001b[0m\u001b[0;34m]\u001b[0m\u001b[0;34m\u001b[0m\u001b[0;34m\u001b[0m\u001b[0m\n\u001b[0;32m---> 47\u001b[0;31m         \u001b[0mbudget\u001b[0m \u001b[0;34m=\u001b[0m \u001b[0mint\u001b[0m\u001b[0;34m(\u001b[0m\u001b[0mprice\u001b[0m\u001b[0;34m[\u001b[0m\u001b[0;36m1\u001b[0m\u001b[0;34m:\u001b[0m\u001b[0;34m]\u001b[0m\u001b[0;34m.\u001b[0m\u001b[0mreplace\u001b[0m\u001b[0;34m(\u001b[0m\u001b[0;34m','\u001b[0m\u001b[0;34m,\u001b[0m\u001b[0;34m''\u001b[0m\u001b[0;34m)\u001b[0m\u001b[0;34m)\u001b[0m\u001b[0;34m\u001b[0m\u001b[0;34m\u001b[0m\u001b[0m\n\u001b[0m\u001b[1;32m     48\u001b[0m         \u001b[0mbud_currency\u001b[0m \u001b[0;34m=\u001b[0m \u001b[0mprice\u001b[0m\u001b[0;34m[\u001b[0m\u001b[0;36m0\u001b[0m\u001b[0;34m]\u001b[0m\u001b[0;34m\u001b[0m\u001b[0;34m\u001b[0m\u001b[0m\n\u001b[1;32m     49\u001b[0m     \u001b[0;32mexcept\u001b[0m \u001b[0mIndexError\u001b[0m\u001b[0;34m:\u001b[0m\u001b[0;34m\u001b[0m\u001b[0;34m\u001b[0m\u001b[0m\n",
      "\u001b[0;31mValueError\u001b[0m: invalid literal for int() with base 10: 'RR\\xa010000000000'"
     ]
    }
   ],
   "source": [
    "for movie in tqdm.tqdm(final_imdb):\n",
    "    movies.append(movie_imdb(movie))"
   ]
  },
  {
   "cell_type": "code",
   "execution_count": 42,
   "metadata": {},
   "outputs": [
    {
     "ename": "IndexError",
     "evalue": "list index out of range",
     "output_type": "error",
     "traceback": [
      "\u001b[0;31m---------------------------------------------------------------------------\u001b[0m",
      "\u001b[0;31mIndexError\u001b[0m                                Traceback (most recent call last)",
      "\u001b[0;32m<ipython-input-42-e34557ce7cfc>\u001b[0m in \u001b[0;36m<module>\u001b[0;34m\u001b[0m\n\u001b[0;32m----> 1\u001b[0;31m \u001b[0mmovies\u001b[0m\u001b[0;34m[\u001b[0m\u001b[0;36m7\u001b[0m\u001b[0;34m]\u001b[0m\u001b[0;34m\u001b[0m\u001b[0;34m\u001b[0m\u001b[0m\n\u001b[0m",
      "\u001b[0;31mIndexError\u001b[0m: list index out of range"
     ]
    }
   ],
   "source": [
    "movies[7]"
   ]
  },
  {
   "cell_type": "code",
   "execution_count": 62,
   "metadata": {},
   "outputs": [],
   "source": [
    "movie_df = pd.DataFrame(movies)"
   ]
  },
  {
   "cell_type": "code",
   "execution_count": 63,
   "metadata": {},
   "outputs": [],
   "source": [
    "movie_keep = movie_df.drop(movie_df[movie_df[3] == \"\"].index)\n",
    "too_soon = pd.DataFrame(movie_df[[0,1]].drop(movie_df[movie_df[3] != \"\"].index).values, \\\n",
    "            columns= ['imdb_id', 'title'])"
   ]
  },
  {
   "cell_type": "markdown",
   "metadata": {},
   "source": [
    "## Lists of data"
   ]
  },
  {
   "cell_type": "code",
   "execution_count": 64,
   "metadata": {},
   "outputs": [],
   "source": [
    "imdb = list(movie_keep[0].values)\n",
    "title = list(movie_keep[1].values)\n",
    "original_title = list(movie_keep[2].values)\n",
    "year = list(movie_keep[3].values)\n",
    "director = list(movie_keep[4].values)\n",
    "dir_code = list(movie_keep[5].values)\n",
    "actor = list(movie_keep[6].values)\n",
    "actor_code = list(movie_keep[7].values)\n",
    "actor_status = list(movie_keep[8].values)\n",
    "genres = list(movie_keep[9].values)\n",
    "duration = list(movie_keep[10].values)\n",
    "country = list(movie_keep[11].values)\n",
    "language = list(movie_keep[12].values)\n",
    "production = list(movie_keep[13].values)\n",
    "prod_code = list(movie_keep[14].values)\n",
    "synopsis = list(movie_keep[15].values)\n",
    "rating = list(movie_keep[16].values)\n",
    "num_rate = list(movie_keep[17].values)\n",
    "budget = list(movie_keep[18].values)\n",
    "bud_currency = list(movie_keep[19].values)\n",
    "saw = [\"\" for i in range(len(imdb))]\n",
    "db_saw = [False for i in range(len(imdb))]"
   ]
  },
  {
   "cell_type": "code",
   "execution_count": 66,
   "metadata": {},
   "outputs": [
    {
     "data": {
      "text/plain": [
       "[['nm1672051'],\n",
       " ['nm1334526'],\n",
       " ['nm0000759'],\n",
       " ['nm0350168'],\n",
       " ['nm5022546'],\n",
       " ['nm5813830'],\n",
       " ['nm6100032'],\n",
       " ['nm8004220'],\n",
       " ['nm3268589'],\n",
       " ['nm0770018'],\n",
       " ['nm10715214']]"
      ]
     },
     "execution_count": 66,
     "metadata": {},
     "output_type": "execute_result"
    }
   ],
   "source": [
    "dir_code"
   ]
  },
  {
   "cell_type": "code",
   "execution_count": 14,
   "metadata": {},
   "outputs": [
    {
     "data": {
      "text/plain": [
       "[2500000, ['']]"
      ]
     },
     "execution_count": 14,
     "metadata": {},
     "output_type": "execute_result"
    }
   ],
   "source": [
    "budget"
   ]
  },
  {
   "cell_type": "code",
   "execution_count": 23,
   "metadata": {},
   "outputs": [],
   "source": [
    "changer = {\"$\":1, \"€\":1.17, \"£\":1.37}\n",
    "def_budget = [changer[bud_currency[i]]*budget[i] if budget[i] != \"\" else \"\" for i in range(len(budget))]"
   ]
  },
  {
   "cell_type": "code",
   "execution_count": 24,
   "metadata": {},
   "outputs": [
    {
     "data": {
      "text/plain": [
       "[2500000, '']"
      ]
     },
     "execution_count": 24,
     "metadata": {},
     "output_type": "execute_result"
    }
   ],
   "source": [
    "def_budget"
   ]
  },
  {
   "cell_type": "code",
   "execution_count": null,
   "metadata": {},
   "outputs": [],
   "source": [
    "'tt12758660'"
   ]
  },
  {
   "cell_type": "code",
   "execution_count": 43,
   "metadata": {},
   "outputs": [],
   "source": [
    "r1 = requests.get(\"https://www.imdb.com/title/tt12758660\")\n",
    "bs = BeautifulSoup(r1.text, \"html.parser\")"
   ]
  },
  {
   "cell_type": "code",
   "execution_count": null,
   "metadata": {},
   "outputs": [],
   "source": [
    "try:\n",
    "        info_bud = bs.findAll('section', {'data-testid': 'BoxOffice'})\n",
    "        info_bud = [text.text for text in info_bud][0]\n",
    "        price = info_bud.split(\"EditBudget\")[1].split(\" \")[0]\n",
    "        budget = int(price[1:].replace(',',''))\n",
    "        bud_currency = price[0]\n",
    "    except IndexError:\n",
    "        budget = \"\"\n",
    "        bud_currency = \"\""
   ]
  },
  {
   "cell_type": "code",
   "execution_count": 45,
   "metadata": {},
   "outputs": [],
   "source": [
    "info_bud = bs.findAll('section', {'data-testid': 'BoxOffice'})"
   ]
  },
  {
   "cell_type": "code",
   "execution_count": 47,
   "metadata": {},
   "outputs": [],
   "source": [
    "info_bud = [text.text for text in info_bud][0]\n",
    "price = info_bud.split(\"EditBudget\")[1].split(\" \")[0]"
   ]
  },
  {
   "cell_type": "code",
   "execution_count": 49,
   "metadata": {},
   "outputs": [
    {
     "data": {
      "text/plain": [
       "'Box officeEditBudgetIRR\\xa010,000,000,000 (estimated)See detailed box office info on IMDbPro'"
      ]
     },
     "execution_count": 49,
     "metadata": {},
     "output_type": "execute_result"
    }
   ],
   "source": [
    "info_bud"
   ]
  },
  {
   "cell_type": "code",
   "execution_count": null,
   "metadata": {},
   "outputs": [],
   "source": []
  }
 ],
 "metadata": {
  "kernelspec": {
   "display_name": "Python 3",
   "language": "python",
   "name": "python3"
  },
  "language_info": {
   "codemirror_mode": {
    "name": "ipython",
    "version": 3
   },
   "file_extension": ".py",
   "mimetype": "text/x-python",
   "name": "python",
   "nbconvert_exporter": "python",
   "pygments_lexer": "ipython3",
   "version": "3.7.6"
  }
 },
 "nbformat": 4,
 "nbformat_minor": 4
}
