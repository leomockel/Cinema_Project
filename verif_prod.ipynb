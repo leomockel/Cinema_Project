{
 "cells": [
  {
   "cell_type": "code",
   "execution_count": 1,
   "metadata": {},
   "outputs": [],
   "source": [
    "import requests, csv\n",
    "from bs4 import BeautifulSoup\n",
    "import re\n",
    "import pandas as pd\n",
    "import tqdm\n",
    "import numpy as np\n",
    "from collections import OrderedDict"
   ]
  },
  {
   "cell_type": "code",
   "execution_count": 4,
   "metadata": {},
   "outputs": [],
   "source": [
    "df = pd.read_excel(\"new_prod.xlsx\")"
   ]
  },
  {
   "cell_type": "code",
   "execution_count": 5,
   "metadata": {},
   "outputs": [
    {
     "data": {
      "text/html": [
       "<div>\n",
       "<style scoped>\n",
       "    .dataframe tbody tr th:only-of-type {\n",
       "        vertical-align: middle;\n",
       "    }\n",
       "\n",
       "    .dataframe tbody tr th {\n",
       "        vertical-align: top;\n",
       "    }\n",
       "\n",
       "    .dataframe thead th {\n",
       "        text-align: right;\n",
       "    }\n",
       "</style>\n",
       "<table border=\"1\" class=\"dataframe\">\n",
       "  <thead>\n",
       "    <tr style=\"text-align: right;\">\n",
       "      <th></th>\n",
       "      <th>test</th>\n",
       "      <th>id</th>\n",
       "      <th>imdb_id</th>\n",
       "      <th>production</th>\n",
       "      <th>imdb_id.1</th>\n",
       "      <th>production.1</th>\n",
       "      <th>verif</th>\n",
       "    </tr>\n",
       "  </thead>\n",
       "  <tbody>\n",
       "    <tr>\n",
       "      <th>0</th>\n",
       "      <td>60720</td>\n",
       "      <td>60719</td>\n",
       "      <td>tt0007183</td>\n",
       "      <td>Pathé Exchange, Bach Films</td>\n",
       "      <td>tt0007183</td>\n",
       "      <td>NaN</td>\n",
       "      <td>tt0007183</td>\n",
       "    </tr>\n",
       "    <tr>\n",
       "      <th>1</th>\n",
       "      <td>42634</td>\n",
       "      <td>42633</td>\n",
       "      <td>tt0010298</td>\n",
       "      <td>Silent Hall of Fame Enterprises</td>\n",
       "      <td>tt0010298</td>\n",
       "      <td>NaN</td>\n",
       "      <td>tt0010298</td>\n",
       "    </tr>\n",
       "    <tr>\n",
       "      <th>2</th>\n",
       "      <td>24608</td>\n",
       "      <td>24607</td>\n",
       "      <td>tt0011173</td>\n",
       "      <td>Digital Film Lab, Minerva Film</td>\n",
       "      <td>tt0011173</td>\n",
       "      <td>NaN</td>\n",
       "      <td>tt0011173</td>\n",
       "    </tr>\n",
       "    <tr>\n",
       "      <th>3</th>\n",
       "      <td>40162</td>\n",
       "      <td>40161</td>\n",
       "      <td>tt0013122</td>\n",
       "      <td>Cosmograph, Les Documents Cinématographiques</td>\n",
       "      <td>tt0013122</td>\n",
       "      <td>NaN</td>\n",
       "      <td>tt0013122</td>\n",
       "    </tr>\n",
       "    <tr>\n",
       "      <th>4</th>\n",
       "      <td>13219</td>\n",
       "      <td>13218</td>\n",
       "      <td>tt0016691</td>\n",
       "      <td>Norsk Filminstitutt</td>\n",
       "      <td>tt0016691</td>\n",
       "      <td>NaN</td>\n",
       "      <td>tt0016691</td>\n",
       "    </tr>\n",
       "    <tr>\n",
       "      <th>5</th>\n",
       "      <td>78752</td>\n",
       "      <td>78751</td>\n",
       "      <td>tt0021484</td>\n",
       "      <td>Sfinks</td>\n",
       "      <td>tt0021484</td>\n",
       "      <td>NaN</td>\n",
       "      <td>tt0021484</td>\n",
       "    </tr>\n",
       "    <tr>\n",
       "      <th>6</th>\n",
       "      <td>5750</td>\n",
       "      <td>5749</td>\n",
       "      <td>tt0027256</td>\n",
       "      <td>Bombay Talkies Gharana, Bombay Talkies Laborat...</td>\n",
       "      <td>tt0027256</td>\n",
       "      <td>NaN</td>\n",
       "      <td>tt0027256</td>\n",
       "    </tr>\n",
       "    <tr>\n",
       "      <th>7</th>\n",
       "      <td>15440</td>\n",
       "      <td>15439</td>\n",
       "      <td>tt0029989</td>\n",
       "      <td>Kroger Babb Attractions, Something Weird Video...</td>\n",
       "      <td>tt0029989</td>\n",
       "      <td>NaN</td>\n",
       "      <td>tt0029989</td>\n",
       "    </tr>\n",
       "    <tr>\n",
       "      <th>8</th>\n",
       "      <td>74034</td>\n",
       "      <td>74033</td>\n",
       "      <td>tt0031229</td>\n",
       "      <td>Sack Amusement Enterprises, J.H. Hoffberg Comp...</td>\n",
       "      <td>tt0031229</td>\n",
       "      <td>NaN</td>\n",
       "      <td>tt0031229</td>\n",
       "    </tr>\n",
       "    <tr>\n",
       "      <th>9</th>\n",
       "      <td>44926</td>\n",
       "      <td>44925</td>\n",
       "      <td>tt0035039</td>\n",
       "      <td>La Société des Films Sirius, Gaumont, The Crit...</td>\n",
       "      <td>tt0035039</td>\n",
       "      <td>NaN</td>\n",
       "      <td>tt0035039</td>\n",
       "    </tr>\n",
       "  </tbody>\n",
       "</table>\n",
       "</div>"
      ],
      "text/plain": [
       "    test     id    imdb_id                                         production  \\\n",
       "0  60720  60719  tt0007183                         Pathé Exchange, Bach Films   \n",
       "1  42634  42633  tt0010298                    Silent Hall of Fame Enterprises   \n",
       "2  24608  24607  tt0011173                     Digital Film Lab, Minerva Film   \n",
       "3  40162  40161  tt0013122       Cosmograph, Les Documents Cinématographiques   \n",
       "4  13219  13218  tt0016691                                Norsk Filminstitutt   \n",
       "5  78752  78751  tt0021484                                             Sfinks   \n",
       "6   5750   5749  tt0027256  Bombay Talkies Gharana, Bombay Talkies Laborat...   \n",
       "7  15440  15439  tt0029989  Kroger Babb Attractions, Something Weird Video...   \n",
       "8  74034  74033  tt0031229  Sack Amusement Enterprises, J.H. Hoffberg Comp...   \n",
       "9  44926  44925  tt0035039  La Société des Films Sirius, Gaumont, The Crit...   \n",
       "\n",
       "   imdb_id.1 production.1      verif  \n",
       "0  tt0007183          NaN  tt0007183  \n",
       "1  tt0010298          NaN  tt0010298  \n",
       "2  tt0011173          NaN  tt0011173  \n",
       "3  tt0013122          NaN  tt0013122  \n",
       "4  tt0016691          NaN  tt0016691  \n",
       "5  tt0021484          NaN  tt0021484  \n",
       "6  tt0027256          NaN  tt0027256  \n",
       "7  tt0029989          NaN  tt0029989  \n",
       "8  tt0031229          NaN  tt0031229  \n",
       "9  tt0035039          NaN  tt0035039  "
      ]
     },
     "execution_count": 5,
     "metadata": {},
     "output_type": "execute_result"
    }
   ],
   "source": [
    "df.head(10)"
   ]
  },
  {
   "cell_type": "code",
   "execution_count": 59,
   "metadata": {},
   "outputs": [],
   "source": [
    "imdb = list(df.verif.dropna())"
   ]
  },
  {
   "cell_type": "code",
   "execution_count": 44,
   "metadata": {},
   "outputs": [],
   "source": [
    "def verif_prod(imdb_id):\n",
    "    \n",
    "    \n",
    "    #SELECT PRODUCTION\n",
    "    \n",
    "    r4 = requests.get(\"https://www.imdb.com/title/\"+imdb_id+\"/companycredits\")\n",
    "    bs4 = BeautifulSoup(r4.content)\n",
    "    \n",
    "    prod = bs4.find_all('h4',{\"id\":\"production\"})\n",
    "\n",
    "    return len(prod)"
   ]
  },
  {
   "cell_type": "code",
   "execution_count": 68,
   "metadata": {},
   "outputs": [],
   "source": [
    "test_dict = {}"
   ]
  },
  {
   "cell_type": "code",
   "execution_count": 84,
   "metadata": {
    "scrolled": false
   },
   "outputs": [
    {
     "name": "stderr",
     "output_type": "stream",
     "text": [
      "100%|██████████| 2183/2183 [28:15<00:00,  1.29it/s]\n"
     ]
    }
   ],
   "source": [
    "for i in tqdm.tqdm(imdb[606:]):\n",
    "    if verif_prod(i) > 0:\n",
    "        test_dict[i] = 1\n",
    "    else:\n",
    "        test_dict[i] = 0"
   ]
  },
  {
   "cell_type": "code",
   "execution_count": 87,
   "metadata": {},
   "outputs": [],
   "source": [
    "ids = list(test_dict.keys())"
   ]
  },
  {
   "cell_type": "code",
   "execution_count": 89,
   "metadata": {},
   "outputs": [],
   "source": [
    "test = list(test_dict.values())"
   ]
  },
  {
   "cell_type": "code",
   "execution_count": 90,
   "metadata": {},
   "outputs": [],
   "source": [
    "df_final = pd.DataFrame(columns=[\"id\", \"test\"])"
   ]
  },
  {
   "cell_type": "code",
   "execution_count": 91,
   "metadata": {},
   "outputs": [],
   "source": [
    "df_final[\"id\"] = ids\n",
    "df_final[\"test\"] = test"
   ]
  },
  {
   "cell_type": "code",
   "execution_count": 92,
   "metadata": {},
   "outputs": [],
   "source": [
    "df_final.to_excel(\"verif_final.xlsx\")"
   ]
  },
  {
   "cell_type": "code",
   "execution_count": null,
   "metadata": {},
   "outputs": [],
   "source": []
  },
  {
   "cell_type": "code",
   "execution_count": null,
   "metadata": {},
   "outputs": [],
   "source": []
  },
  {
   "cell_type": "code",
   "execution_count": null,
   "metadata": {},
   "outputs": [],
   "source": []
  },
  {
   "cell_type": "code",
   "execution_count": null,
   "metadata": {},
   "outputs": [],
   "source": []
  }
 ],
 "metadata": {
  "kernelspec": {
   "display_name": "Python 3",
   "language": "python",
   "name": "python3"
  },
  "language_info": {
   "codemirror_mode": {
    "name": "ipython",
    "version": 3
   },
   "file_extension": ".py",
   "mimetype": "text/x-python",
   "name": "python",
   "nbconvert_exporter": "python",
   "pygments_lexer": "ipython3",
   "version": "3.7.6"
  }
 },
 "nbformat": 4,
 "nbformat_minor": 4
}
