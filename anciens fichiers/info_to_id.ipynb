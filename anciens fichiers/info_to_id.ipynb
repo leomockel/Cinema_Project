{
 "cells": [
  {
   "cell_type": "code",
   "execution_count": 1,
   "metadata": {},
   "outputs": [],
   "source": [
    "import requests, csv\n",
    "import pandas as pd\n",
    "import tqdm\n",
    "import numpy as np"
   ]
  },
  {
   "cell_type": "code",
   "execution_count": 3,
   "metadata": {},
   "outputs": [],
   "source": [
    "df = pd.read_excel(\"info_to_ids.xlsx\")"
   ]
  },
  {
   "cell_type": "code",
   "execution_count": 15,
   "metadata": {},
   "outputs": [],
   "source": [
    "df = df.iloc[:,:4]"
   ]
  },
  {
   "cell_type": "code",
   "execution_count": 58,
   "metadata": {},
   "outputs": [],
   "source": [
    "df = df.fillna(\"nothing\")"
   ]
  },
  {
   "cell_type": "code",
   "execution_count": 152,
   "metadata": {
    "scrolled": true
   },
   "outputs": [
    {
     "data": {
      "text/html": [
       "<div>\n",
       "<style scoped>\n",
       "    .dataframe tbody tr th:only-of-type {\n",
       "        vertical-align: middle;\n",
       "    }\n",
       "\n",
       "    .dataframe tbody tr th {\n",
       "        vertical-align: top;\n",
       "    }\n",
       "\n",
       "    .dataframe thead th {\n",
       "        text-align: right;\n",
       "    }\n",
       "</style>\n",
       "<table border=\"1\" class=\"dataframe\">\n",
       "  <thead>\n",
       "    <tr style=\"text-align: right;\">\n",
       "      <th></th>\n",
       "      <th>imdb_id</th>\n",
       "      <th>genres</th>\n",
       "      <th>country</th>\n",
       "      <th>language</th>\n",
       "    </tr>\n",
       "  </thead>\n",
       "  <tbody>\n",
       "    <tr>\n",
       "      <th>0</th>\n",
       "      <td>tt0416449</td>\n",
       "      <td>Action, Drama</td>\n",
       "      <td>USA, Canada, Bulgaria, Australia</td>\n",
       "      <td>English</td>\n",
       "    </tr>\n",
       "    <tr>\n",
       "      <th>1</th>\n",
       "      <td>tt8579674</td>\n",
       "      <td>Drama, Thriller, War</td>\n",
       "      <td>USA, UK, India, Spain, Canada, China</td>\n",
       "      <td>English, French, German</td>\n",
       "    </tr>\n",
       "    <tr>\n",
       "      <th>2</th>\n",
       "      <td>tt0078723</td>\n",
       "      <td>Action, Comedy, War</td>\n",
       "      <td>USA</td>\n",
       "      <td>English, Japanese, German, Spanish</td>\n",
       "    </tr>\n",
       "    <tr>\n",
       "      <th>3</th>\n",
       "      <td>tt1190080</td>\n",
       "      <td>Action, Adventure, Sci-Fi</td>\n",
       "      <td>USA</td>\n",
       "      <td>English, French, Tibetan, Mandarin, Russian, H...</td>\n",
       "    </tr>\n",
       "    <tr>\n",
       "      <th>4</th>\n",
       "      <td>tt1022603</td>\n",
       "      <td>Comedy, Drama, Romance</td>\n",
       "      <td>USA</td>\n",
       "      <td>English, French, Swedish</td>\n",
       "    </tr>\n",
       "    <tr>\n",
       "      <th>...</th>\n",
       "      <td>...</td>\n",
       "      <td>...</td>\n",
       "      <td>...</td>\n",
       "      <td>...</td>\n",
       "    </tr>\n",
       "    <tr>\n",
       "      <th>85978</th>\n",
       "      <td>tt2723138</td>\n",
       "      <td>Biography, Drama</td>\n",
       "      <td>Poland, Belarus</td>\n",
       "      <td>Belarusian</td>\n",
       "    </tr>\n",
       "    <tr>\n",
       "      <th>85979</th>\n",
       "      <td>tt0062529</td>\n",
       "      <td>Drama</td>\n",
       "      <td>Poland</td>\n",
       "      <td>Polish</td>\n",
       "    </tr>\n",
       "    <tr>\n",
       "      <th>85980</th>\n",
       "      <td>tt0429277</td>\n",
       "      <td>Crime, Drama, Thriller</td>\n",
       "      <td>USA</td>\n",
       "      <td>English</td>\n",
       "    </tr>\n",
       "    <tr>\n",
       "      <th>85981</th>\n",
       "      <td>tt0301770</td>\n",
       "      <td>Horror, Thriller</td>\n",
       "      <td>South Korea</td>\n",
       "      <td>Korean</td>\n",
       "    </tr>\n",
       "    <tr>\n",
       "      <th>85982</th>\n",
       "      <td>tt11110904</td>\n",
       "      <td>Comedy, Horror</td>\n",
       "      <td>Iceland</td>\n",
       "      <td>Icelandic</td>\n",
       "    </tr>\n",
       "  </tbody>\n",
       "</table>\n",
       "<p>85983 rows × 4 columns</p>\n",
       "</div>"
      ],
      "text/plain": [
       "          imdb_id                     genres  \\\n",
       "0       tt0416449              Action, Drama   \n",
       "1       tt8579674       Drama, Thriller, War   \n",
       "2       tt0078723        Action, Comedy, War   \n",
       "3       tt1190080  Action, Adventure, Sci-Fi   \n",
       "4       tt1022603     Comedy, Drama, Romance   \n",
       "...           ...                        ...   \n",
       "85978   tt2723138           Biography, Drama   \n",
       "85979   tt0062529                      Drama   \n",
       "85980   tt0429277     Crime, Drama, Thriller   \n",
       "85981   tt0301770           Horror, Thriller   \n",
       "85982  tt11110904             Comedy, Horror   \n",
       "\n",
       "                                    country  \\\n",
       "0          USA, Canada, Bulgaria, Australia   \n",
       "1      USA, UK, India, Spain, Canada, China   \n",
       "2                                       USA   \n",
       "3                                       USA   \n",
       "4                                       USA   \n",
       "...                                     ...   \n",
       "85978                       Poland, Belarus   \n",
       "85979                                Poland   \n",
       "85980                                   USA   \n",
       "85981                           South Korea   \n",
       "85982                               Iceland   \n",
       "\n",
       "                                                language  \n",
       "0                                                English  \n",
       "1                                English, French, German  \n",
       "2                     English, Japanese, German, Spanish  \n",
       "3      English, French, Tibetan, Mandarin, Russian, H...  \n",
       "4                               English, French, Swedish  \n",
       "...                                                  ...  \n",
       "85978                                         Belarusian  \n",
       "85979                                             Polish  \n",
       "85980                                            English  \n",
       "85981                                             Korean  \n",
       "85982                                          Icelandic  \n",
       "\n",
       "[85983 rows x 4 columns]"
      ]
     },
     "execution_count": 152,
     "metadata": {},
     "output_type": "execute_result"
    }
   ],
   "source": [
    "df"
   ]
  },
  {
   "cell_type": "markdown",
   "metadata": {},
   "source": [
    "### Creation of dictionnaries with lists"
   ]
  },
  {
   "cell_type": "code",
   "execution_count": 85,
   "metadata": {},
   "outputs": [],
   "source": [
    "imdb = list(df.imdb_id.values)\n",
    "mov_genre = list(df.genres.values)\n",
    "mov_country = list(df.country.values)\n",
    "mov_language = list(df.language.values)"
   ]
  },
  {
   "cell_type": "code",
   "execution_count": 99,
   "metadata": {},
   "outputs": [],
   "source": [
    "mov_genre_dict = {}\n",
    "mov_country_dict = {}\n",
    "mov_language_dict = {}"
   ]
  },
  {
   "cell_type": "code",
   "execution_count": 100,
   "metadata": {},
   "outputs": [],
   "source": [
    "for i in range(len(mov_genre)):\n",
    "    mov_genre_dict[imdb[i]] = mov_genre[i].split(\", \")"
   ]
  },
  {
   "cell_type": "code",
   "execution_count": 101,
   "metadata": {
    "scrolled": true
   },
   "outputs": [],
   "source": [
    "for i in range(len(mov_country)):\n",
    "    if mov_country[i] == \"nothing\":\n",
    "        mov_country_dict[imdb[i]] = \"\"\n",
    "    else :    \n",
    "        mov_country_dict[imdb[i]] = mov_country[i].split(\", \")"
   ]
  },
  {
   "cell_type": "code",
   "execution_count": 102,
   "metadata": {},
   "outputs": [],
   "source": [
    "for i in range(len(mov_language)):\n",
    "    if mov_language[i] == \"nothing\":\n",
    "        mov_language_dict[imdb[i]] = \"\"\n",
    "    else :    \n",
    "        mov_language_dict[imdb[i]] = mov_language[i].split(\", \")"
   ]
  },
  {
   "cell_type": "markdown",
   "metadata": {},
   "source": [
    "### Construction of infos dictionnaries"
   ]
  },
  {
   "cell_type": "code",
   "execution_count": 18,
   "metadata": {},
   "outputs": [],
   "source": [
    "df_genre = pd.read_csv(\"SQL files/genre_sql.csv\")\n",
    "df_country = pd.read_csv(\"SQL files/country_sql.csv\")\n",
    "df_language = pd.read_csv(\"SQL files/language_sql.csv\")"
   ]
  },
  {
   "cell_type": "code",
   "execution_count": 24,
   "metadata": {},
   "outputs": [],
   "source": [
    "genre_id = list(df_genre.id.values)\n",
    "genre = list(df_genre.genre.values)"
   ]
  },
  {
   "cell_type": "code",
   "execution_count": 26,
   "metadata": {},
   "outputs": [],
   "source": [
    "country_id = list(df_country.id.values)\n",
    "country = list(df_country.country.values)"
   ]
  },
  {
   "cell_type": "code",
   "execution_count": 27,
   "metadata": {},
   "outputs": [],
   "source": [
    "language_id = list(df_language.id.values)\n",
    "language = list(df_language.language.values)"
   ]
  },
  {
   "cell_type": "code",
   "execution_count": 29,
   "metadata": {},
   "outputs": [],
   "source": [
    "genre_dict = {}\n",
    "country_dict = {}\n",
    "language_dict = {}"
   ]
  },
  {
   "cell_type": "code",
   "execution_count": 30,
   "metadata": {},
   "outputs": [],
   "source": [
    "for i in range(len(genre)) : \n",
    "    genre_dict[genre[i]] = genre_id[i]"
   ]
  },
  {
   "cell_type": "code",
   "execution_count": 32,
   "metadata": {},
   "outputs": [],
   "source": [
    "for i in range(len(country)) : \n",
    "    country_dict[country[i]] = country_id[i]"
   ]
  },
  {
   "cell_type": "code",
   "execution_count": 33,
   "metadata": {},
   "outputs": [],
   "source": [
    "for i in range(len(language)) : \n",
    "    language_dict[language[i]] = language_id[i]"
   ]
  },
  {
   "cell_type": "markdown",
   "metadata": {},
   "source": [
    "### Obtention of a list of info ids for each imdb_id"
   ]
  },
  {
   "cell_type": "markdown",
   "metadata": {},
   "source": [
    "##### Genre"
   ]
  },
  {
   "cell_type": "code",
   "execution_count": 74,
   "metadata": {},
   "outputs": [],
   "source": [
    "genre_imdb = []\n",
    "genre_ids = []"
   ]
  },
  {
   "cell_type": "code",
   "execution_count": 103,
   "metadata": {},
   "outputs": [],
   "source": [
    "for i in range(len(mov_genre_dict.values())):\n",
    "    for j in list(mov_genre_dict.values())[i]:\n",
    "        genre_imdb.append(list(mov_genre_dict.keys())[i])\n",
    "        genre_ids.append(genre_dict[j])"
   ]
  },
  {
   "cell_type": "code",
   "execution_count": 144,
   "metadata": {},
   "outputs": [],
   "source": [
    "df_genre_final = pd.DataFrame(columns=[\"imdb_id\", \"genre_id\"])"
   ]
  },
  {
   "cell_type": "code",
   "execution_count": 145,
   "metadata": {},
   "outputs": [],
   "source": [
    "df_genre_final[\"imdb_id\"] = genre_imdb\n",
    "df_genre_final[\"genre_id\"] = genre_ids"
   ]
  },
  {
   "cell_type": "code",
   "execution_count": 146,
   "metadata": {},
   "outputs": [],
   "source": [
    "df_genre_final.to_excel(\"movie_genre_sql.xlsx\")"
   ]
  },
  {
   "cell_type": "markdown",
   "metadata": {},
   "source": [
    "##### Country"
   ]
  },
  {
   "cell_type": "code",
   "execution_count": 121,
   "metadata": {},
   "outputs": [],
   "source": [
    "country_imdb = []\n",
    "country_ids = []"
   ]
  },
  {
   "cell_type": "code",
   "execution_count": 122,
   "metadata": {},
   "outputs": [],
   "source": [
    "for i in range(len(mov_country_dict.values())):\n",
    "    for j in list(mov_country_dict.values())[i]:\n",
    "        if j == \"\":\n",
    "            country_imdb.append(list(mov_country_dict.keys())[i])\n",
    "            country_ids.append(\"\")\n",
    "        else : \n",
    "            country_imdb.append(list(mov_country_dict.keys())[i])\n",
    "            country_ids.append(country_dict[j])"
   ]
  },
  {
   "cell_type": "code",
   "execution_count": 129,
   "metadata": {},
   "outputs": [],
   "source": [
    "df_country_final = pd.DataFrame(columns=[\"imdb_id\", \"country_id\"])"
   ]
  },
  {
   "cell_type": "code",
   "execution_count": 130,
   "metadata": {},
   "outputs": [],
   "source": [
    "df_country_final[\"imdb_id\"] = country_imdb\n",
    "df_country_final[\"country_id\"] = country_ids"
   ]
  },
  {
   "cell_type": "code",
   "execution_count": 133,
   "metadata": {},
   "outputs": [],
   "source": [
    "df_country_final.to_excel(\"movie_country_sql.xlsx\")"
   ]
  },
  {
   "cell_type": "code",
   "execution_count": 142,
   "metadata": {},
   "outputs": [],
   "source": [
    "empty_country = pd.DataFrame(list(df[\"imdb_id\"][df.country == \"nothing\"].values), columns= [\"id\"])"
   ]
  },
  {
   "cell_type": "code",
   "execution_count": 143,
   "metadata": {},
   "outputs": [],
   "source": [
    "empty_country.to_excel(\"empty_country_sql.xlsx\")"
   ]
  },
  {
   "cell_type": "markdown",
   "metadata": {},
   "source": [
    "##### Language"
   ]
  },
  {
   "cell_type": "code",
   "execution_count": 147,
   "metadata": {},
   "outputs": [],
   "source": [
    "language_imdb = []\n",
    "language_ids = []"
   ]
  },
  {
   "cell_type": "code",
   "execution_count": 148,
   "metadata": {},
   "outputs": [],
   "source": [
    "for i in range(len(mov_language_dict.values())):\n",
    "    for j in list(mov_language_dict.values())[i]:\n",
    "        if j == \"\":\n",
    "            language_imdb.append(list(mov_language_dict.keys())[i])\n",
    "            language_ids.append(\"\")\n",
    "        else : \n",
    "            language_imdb.append(list(mov_language_dict.keys())[i])\n",
    "            language_ids.append(language_dict[j])"
   ]
  },
  {
   "cell_type": "code",
   "execution_count": 156,
   "metadata": {},
   "outputs": [],
   "source": [
    "df_language_final = pd.DataFrame(columns=[\"imdb_id\", \"language_id\"])"
   ]
  },
  {
   "cell_type": "code",
   "execution_count": 157,
   "metadata": {},
   "outputs": [],
   "source": [
    "df_language_final[\"imdb_id\"] = language_imdb\n",
    "df_language_final[\"language_id\"] = language_ids"
   ]
  },
  {
   "cell_type": "code",
   "execution_count": 158,
   "metadata": {},
   "outputs": [],
   "source": [
    "df_language_final.to_excel(\"movie_language_sql.xlsx\")"
   ]
  },
  {
   "cell_type": "code",
   "execution_count": 159,
   "metadata": {},
   "outputs": [],
   "source": [
    "empty_language = pd.DataFrame(list(df[\"imdb_id\"][df.language == \"nothing\"].values), columns= [\"id\"])"
   ]
  },
  {
   "cell_type": "code",
   "execution_count": 160,
   "metadata": {},
   "outputs": [],
   "source": [
    "empty_language.to_excel(\"empty_language_sql.xlsx\")"
   ]
  },
  {
   "cell_type": "code",
   "execution_count": null,
   "metadata": {},
   "outputs": [],
   "source": []
  }
 ],
 "metadata": {
  "kernelspec": {
   "display_name": "Python 3",
   "language": "python",
   "name": "python3"
  },
  "language_info": {
   "codemirror_mode": {
    "name": "ipython",
    "version": 3
   },
   "file_extension": ".py",
   "mimetype": "text/x-python",
   "name": "python",
   "nbconvert_exporter": "python",
   "pygments_lexer": "ipython3",
   "version": "3.7.6"
  }
 },
 "nbformat": 4,
 "nbformat_minor": 4
}
