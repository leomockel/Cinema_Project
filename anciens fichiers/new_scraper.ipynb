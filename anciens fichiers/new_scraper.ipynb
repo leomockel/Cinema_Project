{
 "cells": [
  {
   "cell_type": "code",
   "execution_count": 42,
   "metadata": {},
   "outputs": [],
   "source": [
    "import requests, csv\n",
    "from bs4 import BeautifulSoup\n",
    "import re\n",
    "import pandas as pd\n",
    "import tqdm\n",
    "import numpy as np\n",
    "from collections import OrderedDict"
   ]
  },
  {
   "cell_type": "code",
   "execution_count": 43,
   "metadata": {},
   "outputs": [],
   "source": [
    "def movie_imdb(imdb_id):\n",
    "    \n",
    "    #SELECT SYNOPSIS, GENRES, RATING, NUMBER RATE, YEAR, TITLE, ORIGINAL TITLE, COUNTRY,\n",
    "    #SELECT LANGUAGE, PRODUCTION, BUDGET, INCOME\n",
    "    \n",
    "    r1 = requests.get(\"https://www.imdb.com/title/\"+imdb_id)\n",
    "    bs = BeautifulSoup(r1.text)\n",
    "    \n",
    "    # Dictionnary for title, orginal_title, rating, num_rate\n",
    "    \n",
    "    info_dict = bs.find('script', {'type': 'application/ld+json'})\n",
    "    info_dict = info_dict.text\n",
    "    info_dict = OrderedDict(eval(info_dict))\n",
    "    \n",
    "    original_title = info_dict[\"name\"]\n",
    "    try :\n",
    "        title = info_dict[\"alternateName\"]\n",
    "    except KeyError:\n",
    "        title = info_dict[\"name\"]\n",
    "           \n",
    "    rating = info_dict['aggregateRating']['ratingValue']\n",
    "    num_rate = info_dict['aggregateRating']['ratingCount']\n",
    "    \n",
    "    \n",
    "    #Dictionnary for budget, bud_currency, income, inc_currency\n",
    "    \n",
    "    info_dict_2 = bs.findAll('script', {'id': re.compile('__NEXT_DATA__')})\n",
    "    info_dict_2 = [text.text for text in info_dict_2][0]\n",
    "    info_dict_2 = OrderedDict(eval(info_dict_2, {'null': None, 'false':None, 'true':None}))\n",
    "    info_dict_2_1 = info_dict_2['props']['urqlState']\n",
    "    \n",
    "    for key in info_dict_2_1.keys():\n",
    "        try:\n",
    "            budget = info_dict_2_1[key]['data']['title']['productionBudget']\n",
    "            def_key = key\n",
    "        except KeyError:\n",
    "            continue\n",
    "    \n",
    "    if budget == None:\n",
    "        budget = \"\"\n",
    "        bud_currency = \"\"\n",
    "    else : \n",
    "        budget = info_dict_2_1[def_key]['data']['title']['productionBudget'][\"budget\"][\"amount\"]\n",
    "        bud_currency = info_dict_2_1[def_key]['data']['title']['productionBudget'][\"budget\"][\"currency\"]\n",
    "        \n",
    "\n",
    "    income = info_dict_2_1[def_key]['data']['title']['worldwideGross']\n",
    "\n",
    "    if income == None:\n",
    "        income = \"\"\n",
    "        inc_currency = \"\"\n",
    "    else : \n",
    "        income = info_dict_2_1[def_key]['data']['title']['worldwideGross'][\"total\"][\"amount\"]\n",
    "        inc_currency = info_dict_2_1[def_key]['data']['title']['worldwideGross'][\"total\"][\"currency\"]\n",
    "    \n",
    "    \n",
    "    year = bs.findAll('a', {'class': re.compile('ipc-link')})\n",
    "    year = int([text.text for text in year][0])\n",
    "    \n",
    "    genre_bs = bs.findAll('a', {'class': re.compile('ipc-metadata-list-item')})\n",
    "    genre_bs = [text.text for text in genre_bs]\n",
    "    movie_genre = []\n",
    "    genres = \"\"\n",
    "    genre_list = [\"Action\", \"Adult\", \"Adventure\", \"Animation\", \"Biography\", \"Comedy\", \"Crime\", \"Documentary\", \n",
    "              \"Drama\", \"Family\", \"Fantasy\", \"Film-Noir\", \"History\", \"Horror\", \"Music\", \"Musical\", \"Mystery\", \n",
    "              \"News\", \"Reality-TV\", \"Romance\", \"Sci-Fi\", \"Short\", \"Sport\", \"Thriller\", \"War\", \"Western\"]\n",
    "    for genre in genre_bs:\n",
    "        if genre in genre_list:\n",
    "            movie_genre.append(genre)\n",
    "        genres = \" | \".join(movie_genre)\n",
    "    \n",
    "    syn = bs.findAll('div', {'class': 'ipc-html-content ipc-html-content--base'})[0]\n",
    "    syn = [text.text for text in syn]\n",
    "    synopsis = syn[0].split(\" —\")[0]\n",
    "    \n",
    "    countries = bs.findAll('a', {'href': re.compile('country_of_origin')})\n",
    "    countries = [text.text for text in countries]\n",
    "    country = []\n",
    "    for state in countries:\n",
    "        if state == \"United States\":\n",
    "            country.append(\"USA\")\n",
    "        elif state == \"United Kingdom\":\n",
    "            country.append(\"UK\")\n",
    "        else :\n",
    "            country.append(state)\n",
    "    country = \" | \".join(country)\n",
    "    \n",
    "    language = bs.findAll('a', {'href': re.compile('primary_language')})\n",
    "    language = [text.text for text in language]\n",
    "    language = \" | \".join(language)\n",
    "    \n",
    "    \n",
    "    \n",
    "    #SELECT CASTING, DIRECTOR, WRITERS\n",
    "    \n",
    "    r2 = requests.get(\"https://www.imdb.com/title/\"+imdb_id+\"/fullcredits\")\n",
    "    bs2 = BeautifulSoup(r2.text)\n",
    "\n",
    "    #select casting\n",
    "    cast_list = bs2.find_all('table', {'class': 'cast_list'})\n",
    "    cast = []\n",
    "    for i in range(1, 30):\n",
    "        try:\n",
    "            cast.append((str(cast_list).split('img alt=\"')[i]).split('\" class=\"')[0])\n",
    "            casting = str(cast)\n",
    "            casting = re.sub(\"'\", \"\", casting[1:-1])\n",
    "        except IndexError:\n",
    "            break\n",
    "    \n",
    "    #select director\n",
    "    try:\n",
    "        direct = bs2.find('table', {'class': 'simpleTable simpleCreditsTable'}) \\\n",
    "                .find_all('td', {'class': 'name'})\n",
    "        director = [text.text for text in direct]\n",
    "        director = str(director)[1:-1].replace(\"\\\\n \", \"\").replace(\"'\", \"\")\n",
    "    except (IndexError, AttributeError):\n",
    "        director = \"\"\n",
    "\n",
    "    \n",
    "    #select writers\n",
    "    try:\n",
    "        write = bs2.find_all('table', {'class': 'simpleTable simpleCreditsTable'})[1] \\\n",
    "                .find_all('td', {'class': 'name'})\n",
    "        writers = [text.text for text in write]\n",
    "        writers = str(writers)[1:-1].replace(\"\\\\n \", \"\").replace(\"'\", \"\")\n",
    "    except (IndexError, AttributeError):\n",
    "        writers = \"\"\n",
    "    \n",
    "    \n",
    "    \n",
    "    #SELECT RUNTIME\n",
    "    \n",
    "    r3 = requests.get(\"https://www.imdb.com/title/\"+imdb_id+\"/technical\")\n",
    "    bs3 = BeautifulSoup(r3.text)\n",
    "\n",
    "    time = bs3.find('table', {'class': 'dataTable labelValueTable'}).find_all('tr', {'class': 'odd'})\n",
    "    runtime = [text.text for text in time]\n",
    "    try:\n",
    "        if (\"min (\" in (re.sub('\\n', '', runtime[0]))) and (\" min)\" in (re.sub('\\n', '', runtime[0]))):\n",
    "            duration = int((re.sub('\\n', '', runtime[0]).split(\"min (\")[1]).split(\" min)\")[0].strip())\n",
    "        elif \"hr (\" in (re.sub('\\n', '', runtime[0])): \n",
    "            duration = int((re.sub('\\n', '', runtime[0]).split(\"hr (\")[1]).split(\" min)\")[0].strip())\n",
    "        else :\n",
    "            duration = int((re.sub('\\n', '', runtime[0]).split(\"Runtime\")[1]).split(\" min \")[0].strip())\n",
    "    except ValueError:\n",
    "        duration = \"\"\n",
    "        \n",
    "        \n",
    "    \n",
    "    #SELECT PRODUCTION\n",
    "    \n",
    "    r4 = requests.get(\"https://www.imdb.com/title/\"+imdb_id+\"/companycredits\")\n",
    "    bs4 = BeautifulSoup(r4.content)\n",
    "    prod = bs4.find('ul', {'class': 'simpleList'})\n",
    "    prod = prod.text\n",
    "    if \"(\" in prod:\n",
    "        prod = re.sub(r'\\([^)]*\\)', '', prod)\n",
    "    prod = prod.replace(\"\\n \", \"\")\n",
    "    prod = prod.strip().split(\"\\n\\n\")\n",
    "    productions = []\n",
    "    for i in prod:\n",
    "        productions.append(i.strip())\n",
    "    production = \" | \".join(productions)\n",
    "    \n",
    "    \n",
    "    return imdb_id, \"\", \"\", title, original_title, year, director, casting, genres, duration, country, language, \\\n",
    "    writers, production, synopsis, rating, num_rate, budget, bud_currency, income, inc_currency"
   ]
  },
  {
   "cell_type": "code",
   "execution_count": 44,
   "metadata": {},
   "outputs": [],
   "source": [
    "df = pd.read_excel('to_scrap.xlsx')"
   ]
  },
  {
   "cell_type": "code",
   "execution_count": 45,
   "metadata": {},
   "outputs": [],
   "source": [
    "imdb_id = df[\"imdb\"].values"
   ]
  },
  {
   "cell_type": "code",
   "execution_count": 113,
   "metadata": {},
   "outputs": [
    {
     "data": {
      "text/plain": [
       "array(['tt9844322', 'tt10954652'], dtype=object)"
      ]
     },
     "execution_count": 113,
     "metadata": {},
     "output_type": "execute_result"
    }
   ],
   "source": [
    "imdb_id"
   ]
  },
  {
   "cell_type": "code",
   "execution_count": 46,
   "metadata": {},
   "outputs": [],
   "source": [
    "movies = []"
   ]
  },
  {
   "cell_type": "code",
   "execution_count": 47,
   "metadata": {
    "scrolled": false
   },
   "outputs": [
    {
     "name": "stderr",
     "output_type": "stream",
     "text": [
      "100%|██████████| 17/17 [01:02<00:00,  3.67s/it]\n"
     ]
    }
   ],
   "source": [
    "for movie in tqdm.tqdm(imdb_id):\n",
    "    movies.append(movie_imdb(movie))"
   ]
  },
  {
   "cell_type": "code",
   "execution_count": 48,
   "metadata": {},
   "outputs": [
    {
     "data": {
      "text/plain": [
       "('tt10954652',\n",
       " '',\n",
       " '',\n",
       " 'Old',\n",
       " 'Old',\n",
       " 2021,\n",
       " 'M. Night Shyamalan',\n",
       " 'Gael García Bernal, Vicky Krieps, Rufus Sewell, Alex Wolff, Thomasin McKenzie, Abbey Lee, Nikki Amuka-Bird, Ken Leung, Eliza Scanlen, Aaron Pierre, Embeth Davidtz, Emun Elliott, Alexa Swinton, Gustaf Hammarsten, Kathleen Chalfant, Francesca Eastwood, Nolan River, Luca Faustino Rodriguez, Mikaya Fisher, Kailen Jude, M. Night Shyamalan, Matthew Shear, Daniel Ison, Jeffrey Holsman, Margaux Da Silva, John Twohy',\n",
       " 'Drama | Mystery | Thriller',\n",
       " 108,\n",
       " 'USA',\n",
       " 'English',\n",
       " 'M. Night Shyamalan, Pierre-Oscar Lévy, Frederik Peeters',\n",
       " 'Universal Pictures | Blinding Edge Pictures | Perfect World Pictures',\n",
       " 'This summer, visionary filmmaker M. Night Shyamalan unveils a chilling, mysterious new thriller about a family on a tropical holiday who discover that the secluded beach where they are relaxing for a few hours is somehow causing them to age rapidly - reducing their entire lives into a single day.',\n",
       " 5.9,\n",
       " 23645,\n",
       " '',\n",
       " '',\n",
       " 80400585,\n",
       " 'USD')"
      ]
     },
     "execution_count": 48,
     "metadata": {},
     "output_type": "execute_result"
    }
   ],
   "source": [
    "movies[1]"
   ]
  },
  {
   "cell_type": "code",
   "execution_count": 116,
   "metadata": {},
   "outputs": [],
   "source": [
    "columns_name = [\"imdb_id\", \"vu\", \"à voir\", \"title\", \"original_title\", \"year\", \"director\", \"casting\", \"genres\", \"duration\", \"country\", \"language\", \\\n",
    "\"writers\", \"production\", \"synopsis\", \"rating\", \"num_rate\", \"budget\", \"bud_currency\", \"income\", \"inc_currency\"]"
   ]
  },
  {
   "cell_type": "code",
   "execution_count": 117,
   "metadata": {},
   "outputs": [],
   "source": [
    "result = pd.DataFrame(list(movies), columns = columns_name)\n",
    "result = result.set_index(\"imdb_id\")"
   ]
  },
  {
   "cell_type": "code",
   "execution_count": 118,
   "metadata": {},
   "outputs": [],
   "source": [
    "result.to_csv(\"movies_scraped.csv\")"
   ]
  },
  {
   "cell_type": "code",
   "execution_count": null,
   "metadata": {},
   "outputs": [],
   "source": []
  },
  {
   "cell_type": "code",
   "execution_count": 23,
   "metadata": {},
   "outputs": [],
   "source": [
    "def genre_imdb(imdb_id):\n",
    "    \n",
    "    r1 = requests.get(\"https://www.imdb.com/title/\"+imdb_id)\n",
    "    bs = BeautifulSoup(r1.text)\n",
    "    \n",
    "    genre_bs = bs.findAll('a', {'class': re.compile('ipc-metadata-list-item')})\n",
    "    genre_bs = [text.text for text in genre_bs]\n",
    "    movie_genre = []\n",
    "    genres = \"\"\n",
    "    genre_list = [\"Action\", \"Adult\", \"Adventure\", \"Animation\", \"Biography\", \"Comedy\", \"Crime\", \"Documentary\", \n",
    "              \"Drama\", \"Family\", \"Fantasy\", \"Film-Noir\", \"History\", \"Horror\", \"Music\", \"Musical\", \"Mystery\", \n",
    "              \"News\", \"Reality-TV\", \"Romance\", \"Sci-Fi\", \"Short\", \"Sport\", \"Thriller\", \"War\", \"Western\"]\n",
    "    for genre in genre_bs:\n",
    "        if genre in genre_list:\n",
    "            movie_genre.append(genre)\n",
    "        genres = \" | \".join(movie_genre)\n",
    "    \n",
    "    return imdb_id, genres"
   ]
  },
  {
   "cell_type": "code",
   "execution_count": 2,
   "metadata": {},
   "outputs": [],
   "source": [
    "df = pd.read_excel('id_title.xlsx')"
   ]
  },
  {
   "cell_type": "code",
   "execution_count": 4,
   "metadata": {},
   "outputs": [],
   "source": [
    "imdb_id = df[\"imdb_id\"].values"
   ]
  },
  {
   "cell_type": "code",
   "execution_count": 37,
   "metadata": {},
   "outputs": [],
   "source": [
    "movies = []"
   ]
  },
  {
   "cell_type": "code",
   "execution_count": 12,
   "metadata": {},
   "outputs": [
    {
     "data": {
      "text/plain": [
       "'tt0041555'"
      ]
     },
     "execution_count": 12,
     "metadata": {},
     "output_type": "execute_result"
    }
   ],
   "source": [
    "imdb_id[48604]"
   ]
  },
  {
   "cell_type": "code",
   "execution_count": 38,
   "metadata": {
    "scrolled": false
   },
   "outputs": [
    {
     "name": "stderr",
     "output_type": "stream",
     "text": [
      "100%|██████████| 3398/3398 [1:29:33<00:00,  1.58s/it]\n"
     ]
    }
   ],
   "source": [
    "for movie in tqdm.tqdm(imdb_id[82584:]):\n",
    "    movies.append(genre_imdb(movie))"
   ]
  },
  {
   "cell_type": "code",
   "execution_count": 39,
   "metadata": {},
   "outputs": [],
   "source": [
    "columns_name = [\"imdb_id\", \"genres\"]"
   ]
  },
  {
   "cell_type": "code",
   "execution_count": 40,
   "metadata": {},
   "outputs": [],
   "source": [
    "result = pd.DataFrame(list(movies), columns = columns_name)\n",
    "result = result.set_index(\"imdb_id\")"
   ]
  },
  {
   "cell_type": "code",
   "execution_count": 41,
   "metadata": {},
   "outputs": [],
   "source": [
    "result.to_excel(\"new_genre2.xlsx\")"
   ]
  },
  {
   "cell_type": "code",
   "execution_count": null,
   "metadata": {},
   "outputs": [],
   "source": []
  },
  {
   "cell_type": "code",
   "execution_count": null,
   "metadata": {},
   "outputs": [],
   "source": []
  },
  {
   "cell_type": "code",
   "execution_count": null,
   "metadata": {},
   "outputs": [],
   "source": []
  },
  {
   "cell_type": "code",
   "execution_count": null,
   "metadata": {},
   "outputs": [],
   "source": []
  },
  {
   "cell_type": "code",
   "execution_count": null,
   "metadata": {},
   "outputs": [],
   "source": []
  },
  {
   "cell_type": "code",
   "execution_count": null,
   "metadata": {},
   "outputs": [],
   "source": []
  },
  {
   "cell_type": "markdown",
   "metadata": {},
   "source": [
    "### Other tests of Code"
   ]
  },
  {
   "cell_type": "code",
   "execution_count": null,
   "metadata": {},
   "outputs": [],
   "source": [
    "    title = bs.findAll('h1', {'class': re.compile('^TitleHeader')})\n",
    "    title = [text.text for text in title][0]\n",
    "    \n",
    "    if len(bs.findAll('div', {'class': re.compile('^OriginalTitle')})) == 0:\n",
    "        original_title = title\n",
    "    else:\n",
    "        original_title = bs2[1].findAll('div', {'class': re.compile('^OriginalTitle')})\n",
    "        original_title = [text.text for text in or_title][0].split(\": \")[1]\n",
    "        \n",
    "    directors = []\n",
    "    for director in info_dict[\"director\"]:\n",
    "        directors.append(director[\"name\"])\n",
    "    director = \", \".join(directors)"
   ]
  },
  {
   "cell_type": "code",
   "execution_count": null,
   "metadata": {},
   "outputs": [],
   "source": []
  }
 ],
 "metadata": {
  "kernelspec": {
   "display_name": "Python 3",
   "language": "python",
   "name": "python3"
  },
  "language_info": {
   "codemirror_mode": {
    "name": "ipython",
    "version": 3
   },
   "file_extension": ".py",
   "mimetype": "text/x-python",
   "name": "python",
   "nbconvert_exporter": "python",
   "pygments_lexer": "ipython3",
   "version": "3.7.6"
  }
 },
 "nbformat": 4,
 "nbformat_minor": 4
}
